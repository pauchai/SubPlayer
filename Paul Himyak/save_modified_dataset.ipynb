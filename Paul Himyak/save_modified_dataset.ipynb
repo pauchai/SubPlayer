{
  "nbformat": 4,
  "nbformat_minor": 0,
  "metadata": {
    "colab": {
      "provenance": [],
      "mount_file_id": "https://github.com/Untick/InspectrumClinic_RecSys/blob/main/Paul%20Himyak/main.ipynb",
      "authorship_tag": "ABX9TyNVhG1IYtBIdY4gL5jiP9SK",
      "include_colab_link": true
    },
    "kernelspec": {
      "name": "python3",
      "display_name": "Python 3"
    },
    "language_info": {
      "name": "python"
    }
  },
  "cells": [
    {
      "cell_type": "markdown",
      "metadata": {
        "id": "view-in-github",
        "colab_type": "text"
      },
      "source": [
        "<a href=\"https://colab.research.google.com/github/pauchai/SubPlayer/blob/master/Paul%20Himyak/save_modified_dataset.ipynb\" target=\"_parent\"><img src=\"https://colab.research.google.com/assets/colab-badge.svg\" alt=\"Open In Colab\"/></a>"
      ]
    },
    {
      "cell_type": "code",
      "execution_count": 1,
      "metadata": {
        "id": "1vSWmbjqEvHX"
      },
      "outputs": [],
      "source": [
        "!wget -qc \"https://storage.yandexcloud.net/terratraineeship/23_InspectrumClinic_RS/datasets/%D0%B4%D0%B0%D1%82%D0%B0%D1%81%D0%B5%D1%82%20%D0%BF%D1%80%D0%BE%D1%84%D0%BF%D0%B0%D1%82%D0%BE%D0%BB%D0%BE%D0%B3%20%D1%87%D0%B0%D1%81%D1%82%D1%8C.xlsx\""
      ]
    },
    {
      "cell_type": "code",
      "source": [
        "import pandas as pd\n",
        "import matplotlib.pyplot as plt\n",
        "import uuid\n",
        "import re\n",
        "import numpy as np\n",
        "import seaborn as sns\n",
        "from datetime import datetime"
      ],
      "metadata": {
        "id": "P83i6KfIF2gd"
      },
      "execution_count": 2,
      "outputs": []
    },
    {
      "cell_type": "code",
      "source": [
        "df = pd.read_excel(\"датасет профпатолог часть.xlsx\")\n"
      ],
      "metadata": {
        "id": "c2g1o_nMF48g"
      },
      "execution_count": 3,
      "outputs": []
    },
    {
      "cell_type": "code",
      "source": [
        "#Удаляем случайные вбросы\n",
        "df.drop([843, 851, 1022, 1024], inplace = True)\n",
        "\n",
        "#Убираем пустые колонки\n",
        "empty_columns = df.columns[df.isna().all()]\n",
        "df.drop(empty_columns, inplace = True, axis = 1)"
      ],
      "metadata": {
        "id": "dJT7uj6rGAtJ"
      },
      "execution_count": null,
      "outputs": []
    },
    {
      "cell_type": "code",
      "source": [
        "FIELD_CLIENT_AGE = \"КлиентВозраст\"\n",
        "FIELD_CLIENT_BIRTH_DAY = \"КлиентДатаРождения\"\n",
        "FIELD_CLIENT_GENDER = \"КлиентПол\"\n",
        "FIELD_CLIENT_GENDER_M = 0\n",
        "FIELD_CLIENT_GENDER_F = 1\n",
        "FIELD_CONCLUSION = \"ЗаключениеМК\"\n",
        "FIELD_CONCLUSION_FIT = 0\n",
        "FIELD_CONCLUSION_PART_FIT = 1\n",
        "FIELD_CONCLUSION_NOT_FIT = 2\n",
        "\n",
        "FIELD_DISPANSARY_GROUP = \"ДиспансернаяГруппа\"\n",
        "FIELD_DISPANSARY_GROUP_I = 0\n",
        "FIELD_DISPANSARY_GROUP_II = 1\n",
        "FIELD_DISPANSARY_GROUP_III = 2\n",
        "FIELD_DISPANSARY_GROUP_OTHER = 3\n",
        "\n",
        "FIELD_HARMFUL_FACTORS = \"ВредныеФакторы\""
      ],
      "metadata": {
        "id": "ACwbB23gGTTN"
      },
      "execution_count": 4,
      "outputs": []
    },
    {
      "cell_type": "code",
      "source": [
        "mkb_columns = df.filter(regex=\"(?i)МКБ10\").columns"
      ],
      "metadata": {
        "id": "moiA9XgxK_B6"
      },
      "execution_count": 5,
      "outputs": []
    },
    {
      "cell_type": "code",
      "source": [
        "basic_columns = [ FIELD_CLIENT_BIRTH_DAY, FIELD_CLIENT_GENDER, FIELD_CONCLUSION, FIELD_DISPANSARY_GROUP, FIELD_HARMFUL_FACTORS]"
      ],
      "metadata": {
        "id": "c2hO9lVBL82f"
      },
      "execution_count": 11,
      "outputs": []
    },
    {
      "cell_type": "code",
      "source": [
        "general_columns = np.concatenate((basic_columns, mkb_columns))"
      ],
      "metadata": {
        "id": "tPG27qcZLEHz"
      },
      "execution_count": 14,
      "outputs": []
    },
    {
      "cell_type": "markdown",
      "source": [
        "# Записываем облегченную версию dataset"
      ],
      "metadata": {
        "id": "Un7HnR6ySBtM"
      }
    },
    {
      "cell_type": "code",
      "source": [
        "from google.colab import drive\n",
        "\n",
        "# Монтируем Google Диск\n",
        "drive.mount('/content/drive')\n"
      ],
      "metadata": {
        "id": "M-4EqWfkPraN"
      },
      "execution_count": null,
      "outputs": []
    },
    {
      "cell_type": "code",
      "source": [
        "# Записываем DataFrame в Excel\n",
        "df[general_columns].to_excel('/content/drive/MyDrive/profpatolog_modified.xlsx', index=True)"
      ],
      "metadata": {
        "id": "b4ll3xuFNUm9"
      },
      "execution_count": 21,
      "outputs": []
    },
    {
      "cell_type": "code",
      "source": [],
      "metadata": {
        "id": "h7fR9-B1QBLz"
      },
      "execution_count": 20,
      "outputs": []
    }
  ]
}