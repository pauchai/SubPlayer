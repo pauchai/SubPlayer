{
  "nbformat": 4,
  "nbformat_minor": 0,
  "metadata": {
    "colab": {
      "provenance": [],
      "mount_file_id": "https://github.com/Untick/InspectrumClinic_RecSys/blob/main/Paul%20Himyak/main.ipynb",
      "authorship_tag": "ABX9TyM8QRhSOMS70cE2dwf5cdZb",
      "include_colab_link": true
    },
    "kernelspec": {
      "name": "python3",
      "display_name": "Python 3"
    },
    "language_info": {
      "name": "python"
    }
  },
  "cells": [
    {
      "cell_type": "markdown",
      "metadata": {
        "id": "view-in-github",
        "colab_type": "text"
      },
      "source": [
        "<a href=\"https://colab.research.google.com/github/pauchai/SubPlayer/blob/master/Paul%20Himyak/main.ipynb\" target=\"_parent\"><img src=\"https://colab.research.google.com/assets/colab-badge.svg\" alt=\"Open In Colab\"/></a>"
      ]
    },
    {
      "cell_type": "code",
      "source": [
        "import pandas as pd\n",
        "import matplotlib.pyplot as plt\n",
        "import uuid\n",
        "import re\n",
        "import numpy as np\n",
        "import seaborn as sns\n",
        "from datetime import datetime\n",
        "\n",
        "from tensorflow.keras.preprocessing.text import Tokenizer\n",
        "\n",
        "import gdown"
      ],
      "metadata": {
        "id": "P83i6KfIF2gd"
      },
      "execution_count": 57,
      "outputs": []
    },
    {
      "cell_type": "code",
      "execution_count": 44,
      "metadata": {
        "id": "1vSWmbjqEvHX",
        "colab": {
          "base_uri": "https://localhost:8080/",
          "height": 90
        },
        "outputId": "f02a066e-9e32-4b7a-f3fd-4ed2c809fbfb"
      },
      "outputs": [
        {
          "output_type": "stream",
          "name": "stderr",
          "text": [
            "/usr/local/lib/python3.9/dist-packages/gdown/parse_url.py:35: UserWarning: You specified a Google Drive link that is not the correct link to download a file. You might want to try `--fuzzy` option or the following url: https://drive.google.com/uc?id=None\n",
            "  warnings.warn(\n"
          ]
        },
        {
          "output_type": "execute_result",
          "data": {
            "text/plain": [
              "'profpatolog_modified.xlsx'"
            ],
            "application/vnd.google.colaboratory.intrinsic+json": {
              "type": "string"
            }
          },
          "metadata": {},
          "execution_count": 44
        }
      ],
      "source": [
        "dataset_url = \"https://docs.google.com/spreadsheets/d/1ErXvN290PPthLGsb0ALpa_0aUDnvC0jg/edit?usp=share_link&ouid=113369956649761615778&rtpof=true&sd=true\"\n",
        "dataset_filename = \"profpatolog_modified.xlsx\"\n",
        "#!wget -qc dataset_url -O dataset_filename\n",
        "gdown.download(dataset_url, output=dataset_filename, quiet=True )\n"
      ]
    },
    {
      "cell_type": "code",
      "source": [
        "from google.colab import drive\n",
        "\n",
        "# Монтируем Google Диск\n",
        "drive.mount('/content/drive')"
      ],
      "metadata": {
        "colab": {
          "base_uri": "https://localhost:8080/"
        },
        "id": "gendL9u9p0NN",
        "outputId": "8dda5bbd-4c82-4e9b-bbf5-581a36bdb127"
      },
      "execution_count": 47,
      "outputs": [
        {
          "output_type": "stream",
          "name": "stdout",
          "text": [
            "Drive already mounted at /content/drive; to attempt to forcibly remount, call drive.mount(\"/content/drive\", force_remount=True).\n"
          ]
        }
      ]
    },
    {
      "cell_type": "code",
      "source": [
        "df = pd.read_excel(\"/content/drive/MyDrive/profpatolog_modified.xlsx\")\n"
      ],
      "metadata": {
        "id": "c2g1o_nMF48g"
      },
      "execution_count": 49,
      "outputs": []
    },
    {
      "cell_type": "markdown",
      "source": [],
      "metadata": {
        "id": "Vso46VI_dhRx"
      }
    },
    {
      "cell_type": "code",
      "source": [
        "#Удаляем случайные вбросы\n",
        "df.drop([843, 851, 1022, 1024], inplace = True)\n",
        "\n",
        "#Убираем пустые колонки\n",
        "empty_columns = df.columns[df.isna().all()]\n",
        "df.drop(empty_columns, inplace = True, axis = 1)"
      ],
      "metadata": {
        "id": "dJT7uj6rGAtJ"
      },
      "execution_count": 50,
      "outputs": []
    },
    {
      "cell_type": "code",
      "source": [
        "FIELD_CLIENT_AGE = \"КлиентВозраст\"\n",
        "FIELD_CLIENT_BIRTH_DAY = \"КлиентДатаРождения\"\n",
        "FIELD_CLIENT_GENDER = \"КлиентПол\"\n",
        "FIELD_CLIENT_GENDER_M = 0\n",
        "FIELD_CLIENT_GENDER_F = 1\n",
        "FIELD_CONCLUSION = \"ЗаключениеМК\"\n",
        "FIELD_CONCLUSION_FIT = 0\n",
        "FIELD_CONCLUSION_PART_FIT = 1\n",
        "FIELD_CONCLUSION_NOT_FIT = 2\n",
        "\n",
        "FIELD_DISPANSARY_GROUP = \"ДиспансернаяГруппа\"\n",
        "FIELD_DISPANSARY_GROUP_I = 0\n",
        "FIELD_DISPANSARY_GROUP_II = 1\n",
        "FIELD_DISPANSARY_GROUP_III = 2\n",
        "FIELD_DISPANSARY_GROUP_OTHER = 3\n",
        "\n",
        "FIELD_HARMFUL_FACTORS = \"ВредныеФакторы\""
      ],
      "metadata": {
        "id": "ACwbB23gGTTN"
      },
      "execution_count": 51,
      "outputs": []
    },
    {
      "cell_type": "code",
      "source": [
        "mkb_columns = df.filter(regex=\"(?i)МКБ10\").columns\n"
      ],
      "metadata": {
        "id": "-lZQMN7pqrMU"
      },
      "execution_count": 53,
      "outputs": []
    },
    {
      "cell_type": "code",
      "source": [
        "df[FIELD_HARMFUL_FACTORS] = df[FIELD_HARMFUL_FACTORS].apply(lambda x: x.replace(\".\", \"x\"))"
      ],
      "metadata": {
        "id": "H-lwjg6qrPxY"
      },
      "execution_count": 96,
      "outputs": []
    },
    {
      "cell_type": "code",
      "source": [
        "df"
      ],
      "metadata": {
        "id": "7SsY-8On2DUW",
        "outputId": "f9603f01-bad3-4508-ab7a-cef438115ccd",
        "colab": {
          "base_uri": "https://localhost:8080/",
          "height": 505
        }
      },
      "execution_count": 114,
      "outputs": [
        {
          "output_type": "execute_result",
          "data": {
            "text/plain": [
              "      Unnamed: 0 КлиентДатаРождения КлиентПол            ЗаключениеМК  \\\n",
              "0              0         1976-10-24   Женский                   Годен   \n",
              "1              1         1987-11-18   Мужской                   Годен   \n",
              "2              2         1985-09-08   Мужской  ГоденСКоррекциейЗрения   \n",
              "3              3         1988-04-25   Мужской                   Годен   \n",
              "4              4         1984-04-17   Мужской  ГоденСКоррекциейЗрения   \n",
              "...          ...                ...       ...                     ...   \n",
              "1977        1977         1972-11-12   Мужской                     NaN   \n",
              "1978        1978         1986-07-09   Мужской                     NaN   \n",
              "1979        1979         1994-05-12   Мужской                     NaN   \n",
              "1980        1980         1972-04-17   Женский                     NaN   \n",
              "1981        1981         1971-09-14   Мужской                   Годен   \n",
              "\n",
              "     ДиспансернаяГруппа ВредныеФакторы ПсихиатрияНаркология1_МКБ101  \\\n",
              "0                     I         [11x4]                        Z00.0   \n",
              "1                  IIIа        [4x2x5]                        Z00.0   \n",
              "2                    II        [4x2x5]                        Z00.0   \n",
              "3                     I         [11x1]                          NaN   \n",
              "4                    II         [11x1]                          NaN   \n",
              "...                 ...            ...                          ...   \n",
              "1977                NaN          [6x1]                          NaN   \n",
              "1978                NaN          [6x1]                          NaN   \n",
              "1979                NaN      [5x1, 23]                        Z00.0   \n",
              "1980                NaN           [23]                        Z00.0   \n",
              "1981                NaN           [27]                        Z00.0   \n",
              "\n",
              "     Офтальмология1_МКБ101 Оториноларингология1_МКБ101 ХирургНеИсп1_МКБ101  \\\n",
              "0                    Z00.0                       Z00.0               Z00.0   \n",
              "1                    Z00.0                         NaN                 NaN   \n",
              "2                    H52.1                         NaN                 NaN   \n",
              "3                    Z00.0                       Z00.0               Z00.0   \n",
              "4                    H52.2                       Z00.0                 NaN   \n",
              "...                    ...                         ...                 ...   \n",
              "1977                   NaN                         NaN                 NaN   \n",
              "1978                   NaN                         NaN                 NaN   \n",
              "1979                 Z00.0                       Z00.0                 NaN   \n",
              "1980                   NaN                       Z00.0                 NaN   \n",
              "1981                   NaN                       Z00.0                 NaN   \n",
              "\n",
              "      ... Психиатрия1_МКБ102 Психиатрия2_МКБ101 Психиатрия2_МКБ102  \\\n",
              "0     ...                NaN                NaN                NaN   \n",
              "1     ...                NaN                NaN                NaN   \n",
              "2     ...                NaN                NaN                NaN   \n",
              "3     ...                NaN                NaN                NaN   \n",
              "4     ...                NaN                NaN                NaN   \n",
              "...   ...                ...                ...                ...   \n",
              "1977  ...                NaN                NaN                NaN   \n",
              "1978  ...                NaN                NaN                NaN   \n",
              "1979  ...                NaN                NaN                NaN   \n",
              "1980  ...                NaN                NaN                NaN   \n",
              "1981  ...                NaN                NaN                NaN   \n",
              "\n",
              "     Рентгенология1_МКБ102 Рентгенология2_МКБ102 Психиатрия3_МКБ101  \\\n",
              "0                      NaN                   NaN                NaN   \n",
              "1                      NaN                   NaN                NaN   \n",
              "2                      NaN                   NaN                NaN   \n",
              "3                      NaN                   NaN                NaN   \n",
              "4                      NaN                   NaN                NaN   \n",
              "...                    ...                   ...                ...   \n",
              "1977                   NaN                   NaN                NaN   \n",
              "1978                   NaN                   NaN                NaN   \n",
              "1979                   NaN                   NaN                NaN   \n",
              "1980                   NaN                   NaN                NaN   \n",
              "1981                   NaN                   NaN                NaN   \n",
              "\n",
              "     Психиатрия3_МКБ102 Психиатрия4_МКБ101 Психиатрия4_МКБ102  \\\n",
              "0                   NaN                NaN                NaN   \n",
              "1                   NaN                NaN                NaN   \n",
              "2                   NaN                NaN                NaN   \n",
              "3                   NaN                NaN                NaN   \n",
              "4                   NaN                NaN                NaN   \n",
              "...                 ...                ...                ...   \n",
              "1977                NaN                NaN                NaN   \n",
              "1978                NaN                NaN                NaN   \n",
              "1979                NaN                NaN                NaN   \n",
              "1980                NaN                NaN                NaN   \n",
              "1981                NaN                NaN                NaN   \n",
              "\n",
              "     Оториноларингология3_МКБ101  \n",
              "0                            NaN  \n",
              "1                            NaN  \n",
              "2                            NaN  \n",
              "3                            NaN  \n",
              "4                            NaN  \n",
              "...                          ...  \n",
              "1977                         NaN  \n",
              "1978                         NaN  \n",
              "1979                         NaN  \n",
              "1980                         NaN  \n",
              "1981                         NaN  \n",
              "\n",
              "[1978 rows x 98 columns]"
            ],
            "text/html": [
              "\n",
              "  <div id=\"df-ac8be860-2f49-474c-be19-32f60e1fec08\">\n",
              "    <div class=\"colab-df-container\">\n",
              "      <div>\n",
              "<style scoped>\n",
              "    .dataframe tbody tr th:only-of-type {\n",
              "        vertical-align: middle;\n",
              "    }\n",
              "\n",
              "    .dataframe tbody tr th {\n",
              "        vertical-align: top;\n",
              "    }\n",
              "\n",
              "    .dataframe thead th {\n",
              "        text-align: right;\n",
              "    }\n",
              "</style>\n",
              "<table border=\"1\" class=\"dataframe\">\n",
              "  <thead>\n",
              "    <tr style=\"text-align: right;\">\n",
              "      <th></th>\n",
              "      <th>Unnamed: 0</th>\n",
              "      <th>КлиентДатаРождения</th>\n",
              "      <th>КлиентПол</th>\n",
              "      <th>ЗаключениеМК</th>\n",
              "      <th>ДиспансернаяГруппа</th>\n",
              "      <th>ВредныеФакторы</th>\n",
              "      <th>ПсихиатрияНаркология1_МКБ101</th>\n",
              "      <th>Офтальмология1_МКБ101</th>\n",
              "      <th>Оториноларингология1_МКБ101</th>\n",
              "      <th>ХирургНеИсп1_МКБ101</th>\n",
              "      <th>...</th>\n",
              "      <th>Психиатрия1_МКБ102</th>\n",
              "      <th>Психиатрия2_МКБ101</th>\n",
              "      <th>Психиатрия2_МКБ102</th>\n",
              "      <th>Рентгенология1_МКБ102</th>\n",
              "      <th>Рентгенология2_МКБ102</th>\n",
              "      <th>Психиатрия3_МКБ101</th>\n",
              "      <th>Психиатрия3_МКБ102</th>\n",
              "      <th>Психиатрия4_МКБ101</th>\n",
              "      <th>Психиатрия4_МКБ102</th>\n",
              "      <th>Оториноларингология3_МКБ101</th>\n",
              "    </tr>\n",
              "  </thead>\n",
              "  <tbody>\n",
              "    <tr>\n",
              "      <th>0</th>\n",
              "      <td>0</td>\n",
              "      <td>1976-10-24</td>\n",
              "      <td>Женский</td>\n",
              "      <td>Годен</td>\n",
              "      <td>I</td>\n",
              "      <td>[11x4]</td>\n",
              "      <td>Z00.0</td>\n",
              "      <td>Z00.0</td>\n",
              "      <td>Z00.0</td>\n",
              "      <td>Z00.0</td>\n",
              "      <td>...</td>\n",
              "      <td>NaN</td>\n",
              "      <td>NaN</td>\n",
              "      <td>NaN</td>\n",
              "      <td>NaN</td>\n",
              "      <td>NaN</td>\n",
              "      <td>NaN</td>\n",
              "      <td>NaN</td>\n",
              "      <td>NaN</td>\n",
              "      <td>NaN</td>\n",
              "      <td>NaN</td>\n",
              "    </tr>\n",
              "    <tr>\n",
              "      <th>1</th>\n",
              "      <td>1</td>\n",
              "      <td>1987-11-18</td>\n",
              "      <td>Мужской</td>\n",
              "      <td>Годен</td>\n",
              "      <td>IIIа</td>\n",
              "      <td>[4x2x5]</td>\n",
              "      <td>Z00.0</td>\n",
              "      <td>Z00.0</td>\n",
              "      <td>NaN</td>\n",
              "      <td>NaN</td>\n",
              "      <td>...</td>\n",
              "      <td>NaN</td>\n",
              "      <td>NaN</td>\n",
              "      <td>NaN</td>\n",
              "      <td>NaN</td>\n",
              "      <td>NaN</td>\n",
              "      <td>NaN</td>\n",
              "      <td>NaN</td>\n",
              "      <td>NaN</td>\n",
              "      <td>NaN</td>\n",
              "      <td>NaN</td>\n",
              "    </tr>\n",
              "    <tr>\n",
              "      <th>2</th>\n",
              "      <td>2</td>\n",
              "      <td>1985-09-08</td>\n",
              "      <td>Мужской</td>\n",
              "      <td>ГоденСКоррекциейЗрения</td>\n",
              "      <td>II</td>\n",
              "      <td>[4x2x5]</td>\n",
              "      <td>Z00.0</td>\n",
              "      <td>H52.1</td>\n",
              "      <td>NaN</td>\n",
              "      <td>NaN</td>\n",
              "      <td>...</td>\n",
              "      <td>NaN</td>\n",
              "      <td>NaN</td>\n",
              "      <td>NaN</td>\n",
              "      <td>NaN</td>\n",
              "      <td>NaN</td>\n",
              "      <td>NaN</td>\n",
              "      <td>NaN</td>\n",
              "      <td>NaN</td>\n",
              "      <td>NaN</td>\n",
              "      <td>NaN</td>\n",
              "    </tr>\n",
              "    <tr>\n",
              "      <th>3</th>\n",
              "      <td>3</td>\n",
              "      <td>1988-04-25</td>\n",
              "      <td>Мужской</td>\n",
              "      <td>Годен</td>\n",
              "      <td>I</td>\n",
              "      <td>[11x1]</td>\n",
              "      <td>NaN</td>\n",
              "      <td>Z00.0</td>\n",
              "      <td>Z00.0</td>\n",
              "      <td>Z00.0</td>\n",
              "      <td>...</td>\n",
              "      <td>NaN</td>\n",
              "      <td>NaN</td>\n",
              "      <td>NaN</td>\n",
              "      <td>NaN</td>\n",
              "      <td>NaN</td>\n",
              "      <td>NaN</td>\n",
              "      <td>NaN</td>\n",
              "      <td>NaN</td>\n",
              "      <td>NaN</td>\n",
              "      <td>NaN</td>\n",
              "    </tr>\n",
              "    <tr>\n",
              "      <th>4</th>\n",
              "      <td>4</td>\n",
              "      <td>1984-04-17</td>\n",
              "      <td>Мужской</td>\n",
              "      <td>ГоденСКоррекциейЗрения</td>\n",
              "      <td>II</td>\n",
              "      <td>[11x1]</td>\n",
              "      <td>NaN</td>\n",
              "      <td>H52.2</td>\n",
              "      <td>Z00.0</td>\n",
              "      <td>NaN</td>\n",
              "      <td>...</td>\n",
              "      <td>NaN</td>\n",
              "      <td>NaN</td>\n",
              "      <td>NaN</td>\n",
              "      <td>NaN</td>\n",
              "      <td>NaN</td>\n",
              "      <td>NaN</td>\n",
              "      <td>NaN</td>\n",
              "      <td>NaN</td>\n",
              "      <td>NaN</td>\n",
              "      <td>NaN</td>\n",
              "    </tr>\n",
              "    <tr>\n",
              "      <th>...</th>\n",
              "      <td>...</td>\n",
              "      <td>...</td>\n",
              "      <td>...</td>\n",
              "      <td>...</td>\n",
              "      <td>...</td>\n",
              "      <td>...</td>\n",
              "      <td>...</td>\n",
              "      <td>...</td>\n",
              "      <td>...</td>\n",
              "      <td>...</td>\n",
              "      <td>...</td>\n",
              "      <td>...</td>\n",
              "      <td>...</td>\n",
              "      <td>...</td>\n",
              "      <td>...</td>\n",
              "      <td>...</td>\n",
              "      <td>...</td>\n",
              "      <td>...</td>\n",
              "      <td>...</td>\n",
              "      <td>...</td>\n",
              "      <td>...</td>\n",
              "    </tr>\n",
              "    <tr>\n",
              "      <th>1977</th>\n",
              "      <td>1977</td>\n",
              "      <td>1972-11-12</td>\n",
              "      <td>Мужской</td>\n",
              "      <td>NaN</td>\n",
              "      <td>NaN</td>\n",
              "      <td>[6x1]</td>\n",
              "      <td>NaN</td>\n",
              "      <td>NaN</td>\n",
              "      <td>NaN</td>\n",
              "      <td>NaN</td>\n",
              "      <td>...</td>\n",
              "      <td>NaN</td>\n",
              "      <td>NaN</td>\n",
              "      <td>NaN</td>\n",
              "      <td>NaN</td>\n",
              "      <td>NaN</td>\n",
              "      <td>NaN</td>\n",
              "      <td>NaN</td>\n",
              "      <td>NaN</td>\n",
              "      <td>NaN</td>\n",
              "      <td>NaN</td>\n",
              "    </tr>\n",
              "    <tr>\n",
              "      <th>1978</th>\n",
              "      <td>1978</td>\n",
              "      <td>1986-07-09</td>\n",
              "      <td>Мужской</td>\n",
              "      <td>NaN</td>\n",
              "      <td>NaN</td>\n",
              "      <td>[6x1]</td>\n",
              "      <td>NaN</td>\n",
              "      <td>NaN</td>\n",
              "      <td>NaN</td>\n",
              "      <td>NaN</td>\n",
              "      <td>...</td>\n",
              "      <td>NaN</td>\n",
              "      <td>NaN</td>\n",
              "      <td>NaN</td>\n",
              "      <td>NaN</td>\n",
              "      <td>NaN</td>\n",
              "      <td>NaN</td>\n",
              "      <td>NaN</td>\n",
              "      <td>NaN</td>\n",
              "      <td>NaN</td>\n",
              "      <td>NaN</td>\n",
              "    </tr>\n",
              "    <tr>\n",
              "      <th>1979</th>\n",
              "      <td>1979</td>\n",
              "      <td>1994-05-12</td>\n",
              "      <td>Мужской</td>\n",
              "      <td>NaN</td>\n",
              "      <td>NaN</td>\n",
              "      <td>[5x1, 23]</td>\n",
              "      <td>Z00.0</td>\n",
              "      <td>Z00.0</td>\n",
              "      <td>Z00.0</td>\n",
              "      <td>NaN</td>\n",
              "      <td>...</td>\n",
              "      <td>NaN</td>\n",
              "      <td>NaN</td>\n",
              "      <td>NaN</td>\n",
              "      <td>NaN</td>\n",
              "      <td>NaN</td>\n",
              "      <td>NaN</td>\n",
              "      <td>NaN</td>\n",
              "      <td>NaN</td>\n",
              "      <td>NaN</td>\n",
              "      <td>NaN</td>\n",
              "    </tr>\n",
              "    <tr>\n",
              "      <th>1980</th>\n",
              "      <td>1980</td>\n",
              "      <td>1972-04-17</td>\n",
              "      <td>Женский</td>\n",
              "      <td>NaN</td>\n",
              "      <td>NaN</td>\n",
              "      <td>[23]</td>\n",
              "      <td>Z00.0</td>\n",
              "      <td>NaN</td>\n",
              "      <td>Z00.0</td>\n",
              "      <td>NaN</td>\n",
              "      <td>...</td>\n",
              "      <td>NaN</td>\n",
              "      <td>NaN</td>\n",
              "      <td>NaN</td>\n",
              "      <td>NaN</td>\n",
              "      <td>NaN</td>\n",
              "      <td>NaN</td>\n",
              "      <td>NaN</td>\n",
              "      <td>NaN</td>\n",
              "      <td>NaN</td>\n",
              "      <td>NaN</td>\n",
              "    </tr>\n",
              "    <tr>\n",
              "      <th>1981</th>\n",
              "      <td>1981</td>\n",
              "      <td>1971-09-14</td>\n",
              "      <td>Мужской</td>\n",
              "      <td>Годен</td>\n",
              "      <td>NaN</td>\n",
              "      <td>[27]</td>\n",
              "      <td>Z00.0</td>\n",
              "      <td>NaN</td>\n",
              "      <td>Z00.0</td>\n",
              "      <td>NaN</td>\n",
              "      <td>...</td>\n",
              "      <td>NaN</td>\n",
              "      <td>NaN</td>\n",
              "      <td>NaN</td>\n",
              "      <td>NaN</td>\n",
              "      <td>NaN</td>\n",
              "      <td>NaN</td>\n",
              "      <td>NaN</td>\n",
              "      <td>NaN</td>\n",
              "      <td>NaN</td>\n",
              "      <td>NaN</td>\n",
              "    </tr>\n",
              "  </tbody>\n",
              "</table>\n",
              "<p>1978 rows × 98 columns</p>\n",
              "</div>\n",
              "      <button class=\"colab-df-convert\" onclick=\"convertToInteractive('df-ac8be860-2f49-474c-be19-32f60e1fec08')\"\n",
              "              title=\"Convert this dataframe to an interactive table.\"\n",
              "              style=\"display:none;\">\n",
              "        \n",
              "  <svg xmlns=\"http://www.w3.org/2000/svg\" height=\"24px\"viewBox=\"0 0 24 24\"\n",
              "       width=\"24px\">\n",
              "    <path d=\"M0 0h24v24H0V0z\" fill=\"none\"/>\n",
              "    <path d=\"M18.56 5.44l.94 2.06.94-2.06 2.06-.94-2.06-.94-.94-2.06-.94 2.06-2.06.94zm-11 1L8.5 8.5l.94-2.06 2.06-.94-2.06-.94L8.5 2.5l-.94 2.06-2.06.94zm10 10l.94 2.06.94-2.06 2.06-.94-2.06-.94-.94-2.06-.94 2.06-2.06.94z\"/><path d=\"M17.41 7.96l-1.37-1.37c-.4-.4-.92-.59-1.43-.59-.52 0-1.04.2-1.43.59L10.3 9.45l-7.72 7.72c-.78.78-.78 2.05 0 2.83L4 21.41c.39.39.9.59 1.41.59.51 0 1.02-.2 1.41-.59l7.78-7.78 2.81-2.81c.8-.78.8-2.07 0-2.86zM5.41 20L4 18.59l7.72-7.72 1.47 1.35L5.41 20z\"/>\n",
              "  </svg>\n",
              "      </button>\n",
              "      \n",
              "  <style>\n",
              "    .colab-df-container {\n",
              "      display:flex;\n",
              "      flex-wrap:wrap;\n",
              "      gap: 12px;\n",
              "    }\n",
              "\n",
              "    .colab-df-convert {\n",
              "      background-color: #E8F0FE;\n",
              "      border: none;\n",
              "      border-radius: 50%;\n",
              "      cursor: pointer;\n",
              "      display: none;\n",
              "      fill: #1967D2;\n",
              "      height: 32px;\n",
              "      padding: 0 0 0 0;\n",
              "      width: 32px;\n",
              "    }\n",
              "\n",
              "    .colab-df-convert:hover {\n",
              "      background-color: #E2EBFA;\n",
              "      box-shadow: 0px 1px 2px rgba(60, 64, 67, 0.3), 0px 1px 3px 1px rgba(60, 64, 67, 0.15);\n",
              "      fill: #174EA6;\n",
              "    }\n",
              "\n",
              "    [theme=dark] .colab-df-convert {\n",
              "      background-color: #3B4455;\n",
              "      fill: #D2E3FC;\n",
              "    }\n",
              "\n",
              "    [theme=dark] .colab-df-convert:hover {\n",
              "      background-color: #434B5C;\n",
              "      box-shadow: 0px 1px 3px 1px rgba(0, 0, 0, 0.15);\n",
              "      filter: drop-shadow(0px 1px 2px rgba(0, 0, 0, 0.3));\n",
              "      fill: #FFFFFF;\n",
              "    }\n",
              "  </style>\n",
              "\n",
              "      <script>\n",
              "        const buttonEl =\n",
              "          document.querySelector('#df-ac8be860-2f49-474c-be19-32f60e1fec08 button.colab-df-convert');\n",
              "        buttonEl.style.display =\n",
              "          google.colab.kernel.accessAllowed ? 'block' : 'none';\n",
              "\n",
              "        async function convertToInteractive(key) {\n",
              "          const element = document.querySelector('#df-ac8be860-2f49-474c-be19-32f60e1fec08');\n",
              "          const dataTable =\n",
              "            await google.colab.kernel.invokeFunction('convertToInteractive',\n",
              "                                                     [key], {});\n",
              "          if (!dataTable) return;\n",
              "\n",
              "          const docLinkHtml = 'Like what you see? Visit the ' +\n",
              "            '<a target=\"_blank\" href=https://colab.research.google.com/notebooks/data_table.ipynb>data table notebook</a>'\n",
              "            + ' to learn more about interactive tables.';\n",
              "          element.innerHTML = '';\n",
              "          dataTable['output_type'] = 'display_data';\n",
              "          await google.colab.output.renderOutput(dataTable, element);\n",
              "          const docLink = document.createElement('div');\n",
              "          docLink.innerHTML = docLinkHtml;\n",
              "          element.appendChild(docLink);\n",
              "        }\n",
              "      </script>\n",
              "    </div>\n",
              "  </div>\n",
              "  "
            ]
          },
          "metadata": {},
          "execution_count": 114
        }
      ]
    },
    {
      "cell_type": "code",
      "source": [
        "df[FIELD_HARMFUL_FACTORS]"
      ],
      "metadata": {
        "id": "-AGtM7MzzFKV",
        "outputId": "14f70191-887f-4307-f921-b489d963875d",
        "colab": {
          "base_uri": "https://localhost:8080/"
        }
      },
      "execution_count": 90,
      "outputs": [
        {
          "output_type": "execute_result",
          "data": {
            "text/plain": [
              "0         11x4\n",
              "1        4x2x5\n",
              "2        4x2x5\n",
              "3         11x1\n",
              "4         11x1\n",
              "         ...  \n",
              "1977       6x1\n",
              "1978       6x1\n",
              "1979    5x1,23\n",
              "1980        23\n",
              "1981        27\n",
              "Name: ВредныеФакторы, Length: 1978, dtype: object"
            ]
          },
          "metadata": {},
          "execution_count": 90
        }
      ]
    },
    {
      "cell_type": "code",
      "source": [
        "df[FIELD_HARMFUL_FACTORS] = df[FIELD_HARMFUL_FACTORS].str.split(\",\")"
      ],
      "metadata": {
        "id": "h4G9vPf5z6ju"
      },
      "execution_count": 107,
      "outputs": []
    },
    {
      "cell_type": "code",
      "source": [
        "harmful_values = df[FIELD_HARMFUL_FACTORS].explode().sort_values().unique()"
      ],
      "metadata": {
        "id": "c1fEdd5BsmYS"
      },
      "execution_count": 108,
      "outputs": []
    },
    {
      "cell_type": "code",
      "source": [
        "harmful_values"
      ],
      "metadata": {
        "id": "DcmqNvmTu8TL",
        "outputId": "335363c5-9d77-4625-ec59-9f4ca4c2c49d",
        "colab": {
          "base_uri": "https://localhost:8080/"
        }
      },
      "execution_count": 109,
      "outputs": [
        {
          "output_type": "execute_result",
          "data": {
            "text/plain": [
              "array(['10', '11', '11x1', '11x2', '11x3', '11x4', '12', '13', '14', '15',\n",
              "       '17', '18', '18x1', '18x2', '1x1', '1x14x1', '1x14x2', '1x15',\n",
              "       '1x17', '1x18x3', '1x19x1', '1x2', '1x23', '1x24', '1x29',\n",
              "       '1x29x1', '1x29x2', '1x29x4', '1x3', '1x30x1', '1x34x1', '1x36',\n",
              "       '1x36x1', '1x37', '1x37x1', '1x37x1x1', '1x37x1x2', '1x39',\n",
              "       '1x45x1', '1x46', '1x48', '1x49', '1x49x14', '1x49x2', '1x50',\n",
              "       '1x8x1', '1x8x1x1', '1x8x1x2', '1x8x2', '1x8x2x1', '1x8x2x2',\n",
              "       '1x8x3', '1x8x3x1', '1x8x3x2', '22', '23', '24', '25', '26', '27',\n",
              "       '2x4', '2x4x3', '3x1', '3x1x2', '3x1x7', '3x1x8x1', '3x1x8x2',\n",
              "       '3x1x8x3', '3x4', '4x1', '4x10', '4x2', '4x2x1', '4x2x3', '4x2x4',\n",
              "       '4x2x5', '4x3x1', '4x3x2', '4x4', '4x5', '4x6', '4x7', '4x8',\n",
              "       '4x9', '5x1', '5x2', '5x2x1', '6', '6x1', '6x2', '8', '9'],\n",
              "      dtype=object)"
            ]
          },
          "metadata": {},
          "execution_count": 109
        }
      ]
    },
    {
      "cell_type": "code",
      "source": [
        "tokenizer = Tokenizer(filters='!\"#$%&()*+,-–—./…:;<=>?@[\\\\]^_`{|}~«»\\t\\n\\xa0\\ufeff', lower=True, split=' ', oov_token='unknown', char_level=False)\n",
        "tokenizer.fit_on_texts(harmful_values)"
      ],
      "metadata": {
        "id": "8J89EGrlr8x5"
      },
      "execution_count": 110,
      "outputs": []
    },
    {
      "cell_type": "code",
      "source": [
        "df[FIELD_HARMFUL_FACTORS][1979]"
      ],
      "metadata": {
        "id": "yFW0Ashi18EM",
        "outputId": "ea5e52d2-68d7-4d9c-9c4e-2c7cd3b6c878",
        "colab": {
          "base_uri": "https://localhost:8080/"
        }
      },
      "execution_count": 115,
      "outputs": [
        {
          "output_type": "execute_result",
          "data": {
            "text/plain": [
              "['5x1', '23']"
            ]
          },
          "metadata": {},
          "execution_count": 115
        }
      ]
    },
    {
      "cell_type": "code",
      "source": [
        "tokenizer.texts_to_sequences(\"5x1 23\")"
      ],
      "metadata": {
        "id": "yHzmko2FvRaM",
        "outputId": "526cc5a7-6bac-4129-ec89-3fd5d39b304a",
        "colab": {
          "base_uri": "https://localhost:8080/"
        }
      },
      "execution_count": 123,
      "outputs": [
        {
          "output_type": "execute_result",
          "data": {
            "text/plain": [
              "[[1], [1], [1], [], [1], [1]]"
            ]
          },
          "metadata": {},
          "execution_count": 123
        }
      ]
    },
    {
      "cell_type": "code",
      "source": [
        "\" \".join(['1x29x1', '1x29x2'])"
      ],
      "metadata": {
        "id": "NH-8CzmtwAdv",
        "outputId": "59414497-890a-47b3-c0b3-ea6dca3b2667",
        "colab": {
          "base_uri": "https://localhost:8080/",
          "height": 35
        }
      },
      "execution_count": 106,
      "outputs": [
        {
          "output_type": "execute_result",
          "data": {
            "text/plain": [
              "'1x29x1 1x29x2'"
            ],
            "application/vnd.google.colaboratory.intrinsic+json": {
              "type": "string"
            }
          },
          "metadata": {},
          "execution_count": 106
        }
      ]
    },
    {
      "cell_type": "code",
      "source": [
        "tokenized"
      ],
      "metadata": {
        "id": "UgiYD1V122tM",
        "outputId": "b2b54651-5577-4eec-9307-5346da65c6e6",
        "colab": {
          "base_uri": "https://localhost:8080/"
        }
      },
      "execution_count": 121,
      "outputs": [
        {
          "output_type": "execute_result",
          "data": {
            "text/plain": [
              "[[86], [57]]"
            ]
          },
          "metadata": {},
          "execution_count": 121
        }
      ]
    },
    {
      "cell_type": "code",
      "source": [
        "np.ravel(tokenized)"
      ],
      "metadata": {
        "id": "1jvKFihfvrNm",
        "outputId": "b9d5e35a-8ab9-4162-eec2-f9a81795ba77",
        "colab": {
          "base_uri": "https://localhost:8080/"
        }
      },
      "execution_count": 118,
      "outputs": [
        {
          "output_type": "execute_result",
          "data": {
            "text/plain": [
              "array([86, 57])"
            ]
          },
          "metadata": {},
          "execution_count": 118
        }
      ]
    }
  ]
}