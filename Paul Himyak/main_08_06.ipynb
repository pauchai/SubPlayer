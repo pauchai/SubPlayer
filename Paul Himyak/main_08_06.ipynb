{
  "nbformat": 4,
  "nbformat_minor": 0,
  "metadata": {
    "colab": {
      "provenance": [],
      "gpuType": "T4",
      "include_colab_link": true
    },
    "kernelspec": {
      "name": "python3",
      "display_name": "Python 3"
    },
    "language_info": {
      "name": "python"
    },
    "accelerator": "GPU"
  },
  "cells": [
    {
      "cell_type": "markdown",
      "metadata": {
        "id": "view-in-github",
        "colab_type": "text"
      },
      "source": [
        "<a href=\"https://colab.research.google.com/github/pauchai/SubPlayer/blob/master/Paul%20Himyak/main_08_06.ipynb\" target=\"_parent\"><img src=\"https://colab.research.google.com/assets/colab-badge.svg\" alt=\"Open In Colab\"/></a>"
      ]
    },
    {
      "cell_type": "code",
      "source": [
        "import pandas as pd\n",
        "import matplotlib.pyplot as plt\n",
        "import uuid\n",
        "import re\n",
        "import numpy as np\n",
        "import seaborn as sns\n",
        "from datetime import datetime\n",
        "\n",
        "from sklearn.model_selection import train_test_split \n",
        "from sklearn.metrics import confusion_matrix, ConfusionMatrixDisplay\n",
        "from sklearn.utils import resample\n",
        "\n",
        "from tensorflow.keras.preprocessing.text import Tokenizer\n",
        "from tensorflow.keras.preprocessing.sequence import pad_sequences\n",
        "\n",
        "from tensorflow.keras.layers import concatenate, Embedding, Conv1D, Input, Dense, Dropout, BatchNormalization, Flatten , SpatialDropout1D, Reshape, RepeatVector, GlobalMaxPooling1D\n",
        "from tensorflow.keras.models import Model\n",
        "from tensorflow.keras.optimizers import Adam\n",
        "import tensorflow.keras.losses as keras_losses\n",
        "import tensorflow.keras.metrics as keras_metrics\n",
        "from tensorflow.keras import utils\n",
        "import tensorflow as tf\n",
        "!pip install -q tensorflow-addons\n",
        "import tensorflow_addons as tfad\n",
        "\n",
        "import sklearn.metrics as skl_metrics\n",
        "\n",
        "\n",
        "\n",
        "\n",
        "import gdown"
      ],
      "metadata": {
        "id": "P83i6KfIF2gd",
        "colab": {
          "base_uri": "https://localhost:8080/"
        },
        "outputId": "4220c1fb-6eaa-4b5a-a988-8be621aeb951"
      },
      "outputs": [
        {
          "output_type": "stream",
          "name": "stdout",
          "text": [
            "\u001b[?25l     \u001b[90m━━━━━━━━━━━━━━━━━━━━━━━━━━━━━━━━━━━━━━━━\u001b[0m \u001b[32m0.0/591.0 kB\u001b[0m \u001b[31m?\u001b[0m eta \u001b[36m-:--:--\u001b[0m\r\u001b[2K     \u001b[91m━━━━━━━━━━━━━━━━━━━━━━━\u001b[0m\u001b[90m╺\u001b[0m\u001b[90m━━━━━━━━━━━━━━\u001b[0m \u001b[32m358.4/591.0 kB\u001b[0m \u001b[31m10.6 MB/s\u001b[0m eta \u001b[36m0:00:01\u001b[0m\r\u001b[2K     \u001b[90m━━━━━━━━━━━━━━━━━━━━━━━━━━━━━━━━━━━━━━\u001b[0m \u001b[32m591.0/591.0 kB\u001b[0m \u001b[31m11.0 MB/s\u001b[0m eta \u001b[36m0:00:00\u001b[0m\n",
            "\u001b[?25h"
          ]
        },
        {
          "output_type": "stream",
          "name": "stderr",
          "text": [
            "/usr/local/lib/python3.10/dist-packages/tensorflow_addons/utils/tfa_eol_msg.py:23: UserWarning: \n",
            "\n",
            "TensorFlow Addons (TFA) has ended development and introduction of new features.\n",
            "TFA has entered a minimal maintenance and release mode until a planned end of life in May 2024.\n",
            "Please modify downstream libraries to take dependencies from other repositories in our TensorFlow community (e.g. Keras, Keras-CV, and Keras-NLP). \n",
            "\n",
            "For more information see: https://github.com/tensorflow/addons/issues/2807 \n",
            "\n",
            "  warnings.warn(\n"
          ]
        }
      ],
      "execution_count": null
    },
    {
      "cell_type": "code",
      "metadata": {
        "id": "1vSWmbjqEvHX",
        "colab": {
          "base_uri": "https://localhost:8080/",
          "height": 36
        },
        "outputId": "8e8beddc-70c6-49a4-e1bf-5dd5f8be60ae"
      },
      "outputs": [
        {
          "output_type": "execute_result",
          "data": {
            "text/plain": [
              "'profpatolog_modified.xlsx'"
            ],
            "application/vnd.google.colaboratory.intrinsic+json": {
              "type": "string"
            }
          },
          "metadata": {},
          "execution_count": 3
        }
      ],
      "source": [
        "dataset_url = \"https://drive.google.com/uc?export=download&id=1ErXvN290PPthLGsb0ALpa_0aUDnvC0jg\"\n",
        "#dataset_url = \"https://docs.google.com/spreadsheets/d/1ErXvN290PPthLGsb0ALpa_0aUDnvC0jg/edit?usp=share_link&ouid=113369956649761615778&rtpof=true&sd=true\"\n",
        "dataset_filename = \"profpatolog_modified.xlsx\"\n",
        "#!wget -qc dataset_url -O dataset_filename\n",
        "gdown.download(dataset_url, output=dataset_filename, quiet=True )\n"
      ],
      "execution_count": null
    },
    {
      "cell_type": "code",
      "source": [
        "df = pd.read_excel(\"profpatolog_modified.xlsx\")\n"
      ],
      "metadata": {
        "id": "c2g1o_nMF48g"
      },
      "outputs": [],
      "execution_count": null
    },
    {
      "cell_type": "code",
      "source": [
        "del df['Unnamed: 0']"
      ],
      "metadata": {
        "id": "QHIIwbuCxZjz"
      },
      "outputs": [],
      "execution_count": null
    },
    {
      "cell_type": "code",
      "source": [
        "FIELD_CLIENT_AGE = \"КлиентВозраст\"\n",
        "FIELD_CLIENT_BIRTH_DAY = \"КлиентДатаРождения\"\n",
        "FIELD_CLIENT_GENDER = \"КлиентПол\"\n",
        "FIELD_CLIENT_GENDER_M = 0\n",
        "FIELD_CLIENT_GENDER_F = 1\n",
        "FIELD_CONCLUSION = \"ЗаключениеМК\"\n",
        "FIELD_CONCLUSION_FIT = 1\n",
        "FIELD_CONCLUSION_PART_FIT = 2\n",
        "FIELD_CONCLUSION_NOT_FIT = 0\n",
        "\n",
        "FIELD_DISPANSARY_GROUP = \"ДиспансернаяГруппа\"\n",
        "FIELD_DISPANSARY_GROUP_I = 0\n",
        "FIELD_DISPANSARY_GROUP_II = 1\n",
        "FIELD_DISPANSARY_GROUP_III = 2\n",
        "FIELD_DISPANSARY_GROUP_OTHER = 3\n",
        "\n",
        "FIELD_HARMFUL_FACTORS = \"ВредныеФакторы\"\n",
        "\n",
        "\n",
        "FIELD_NEW_AGE_CATEGORY = \"ВозрастКатегория\"\n",
        "FIELD_NEW_MKBS = \"mkbs\"\n",
        "\n",
        "FIELD_CLIENT_PROFESSION = \"Профессия\"\n",
        "FIELD_NEW_CLIENT_PROFESSION = \"Profession\"\n",
        "FIELD_NEW_CLIENT_ADDITIONS = \"Дополнения сводные\"\n",
        "FIELD_NEW_CLIENT_DIAG = \"Diagnoz\""
      ],
      "metadata": {
        "id": "ACwbB23gGTTN"
      },
      "outputs": [],
      "execution_count": null
    },
    {
      "cell_type": "code",
      "source": [
        "import re\n",
        "#функция из названя столбца выделяет первое значение\n",
        "def extract_specialist_from_column_name(string):\n",
        "    # Выделить первую часть до символа `_`\n",
        "    first_part = string.split(\"_\")[0]\n",
        "\n",
        "    # Разбить первую часть на слова по стилю CamelCase и исключить цифры\n",
        "    words = re.findall('[A-ZА-ЯЁ][a-zа-яё]*', first_part)\n",
        "\n",
        "    # Объединить слова в строку с пробелами\n",
        "    result = ' '.join(words)\n",
        "\n",
        "    return result\n",
        "extract_specialist_from_column_name(\"ПсихиатрияНаркология1_ДиагнозПредставление1\")"
      ],
      "metadata": {
        "colab": {
          "base_uri": "https://localhost:8080/",
          "height": 36
        },
        "id": "Ex970gHu3EE-",
        "outputId": "c234461e-69e4-41d4-ae51-619b9bc6818d"
      },
      "execution_count": null,
      "outputs": [
        {
          "output_type": "execute_result",
          "data": {
            "text/plain": [
              "'Психиатрия Наркология'"
            ],
            "application/vnd.google.colaboratory.intrinsic+json": {
              "type": "string"
            }
          },
          "metadata": {},
          "execution_count": 7
        }
      ]
    },
    {
      "cell_type": "code",
      "source": [
        "#функция объединения ячеек в одну удаляя ненужный символ и объединяя вместе с названиями колонок\n",
        "def join_not_nan_columns(df, columns_filter, value_for_unset = None):\n",
        "  if value_for_unset is not None:\n",
        "    df.loc[:, columns_filter.columns] = df.loc[:, columns_filter.columns].replace(value_for_unset, np.nan)\n",
        "  return df[columns_filter.columns].apply(lambda row: \",\".join(f\"{extract_specialist_from_column_name(column_name)} {value}\" for column_name, value in zip(columns_filter.columns, row) if pd.notna(value)), axis=1)\n",
        "  \n",
        "\n"
      ],
      "metadata": {
        "id": "czpGp1teAUWo"
      },
      "execution_count": null,
      "outputs": []
    },
    {
      "cell_type": "code",
      "source": [
        "diag_filter = df.filter(regex=\"(?i)Диагноз\\s?Представление\")\n",
        "df[FIELD_NEW_CLIENT_DIAG] =  join_not_nan_columns(df, diag_filter, value_for_unset=\"Общий медицинский осмотр\")\n",
        "#Удаляю ненужные колонки\n",
        "df = df.drop(columns=diag_filter)"
      ],
      "metadata": {
        "colab": {
          "base_uri": "https://localhost:8080/"
        },
        "id": "OP63MSG-F9nL",
        "outputId": "76846f1c-aee0-407b-fa5c-2f4f84e8e709"
      },
      "execution_count": null,
      "outputs": [
        {
          "output_type": "stream",
          "name": "stderr",
          "text": [
            "<ipython-input-8-15e3a35bde05>:4: DeprecationWarning: In a future version, `df.iloc[:, i] = newvals` will attempt to set the values inplace instead of always setting a new array. To retain the old behavior, use either `df[df.columns[i]] = newvals` or, if columns are non-unique, `df.isetitem(i, newvals)`\n",
            "  df.loc[:, columns_filter.columns] = df.loc[:, columns_filter.columns].replace(value_for_unset, np.nan)\n"
          ]
        }
      ]
    },
    {
      "cell_type": "code",
      "source": [
        "additions_filter = df.filter(regex=\"(?i)Дополнение_Значение$\")\n",
        "df[FIELD_NEW_CLIENT_ADDITIONS] = join_not_nan_columns(df, additions_filter)\n",
        "df = df.drop(columns=additions_filter)"
      ],
      "metadata": {
        "id": "HxJrSNPlaNKt"
      },
      "execution_count": null,
      "outputs": []
    },
    {
      "cell_type": "code",
      "source": [
        "mkbs_filter = df.filter(regex=\"(?i)МКБ10\")\n",
        "df[FIELD_NEW_MKBS] = join_not_nan_columns(df, mkbs_filter, value_for_unset=\"Z00.0\")\n",
        "df = df.drop(columns=mkbs_filter)"
      ],
      "metadata": {
        "colab": {
          "base_uri": "https://localhost:8080/"
        },
        "id": "enBKwl4mJKGb",
        "outputId": "7445ce0e-57d9-4f92-e04d-73ba07d3e3a4"
      },
      "execution_count": null,
      "outputs": [
        {
          "output_type": "stream",
          "name": "stderr",
          "text": [
            "<ipython-input-8-15e3a35bde05>:4: DeprecationWarning: In a future version, `df.iloc[:, i] = newvals` will attempt to set the values inplace instead of always setting a new array. To retain the old behavior, use either `df[df.columns[i]] = newvals` or, if columns are non-unique, `df.isetitem(i, newvals)`\n",
            "  df.loc[:, columns_filter.columns] = df.loc[:, columns_filter.columns].replace(value_for_unset, np.nan)\n"
          ]
        }
      ]
    },
    {
      "cell_type": "code",
      "source": [
        "df "
      ],
      "metadata": {
        "colab": {
          "base_uri": "https://localhost:8080/",
          "height": 799
        },
        "id": "NSdHA4UZKEdu",
        "outputId": "d6d4f1aa-1c47-48f0-9801-06020a5b5576"
      },
      "execution_count": null,
      "outputs": [
        {
          "output_type": "execute_result",
          "data": {
            "text/plain": [
              "     КлиентДатаРождения КлиентПол            ЗаключениеМК ДиспансернаяГруппа  \\\n",
              "0            1976-10-24   Женский                   Годен                  I   \n",
              "1            1987-11-18   Мужской                   Годен               IIIа   \n",
              "2            1985-09-08   Мужской  ГоденСКоррекциейЗрения                 II   \n",
              "3            1988-04-25   Мужской                   Годен                  I   \n",
              "4            1984-04-17   Мужской  ГоденСКоррекциейЗрения                 II   \n",
              "...                 ...       ...                     ...                ...   \n",
              "1973         1972-11-12   Мужской                     NaN                NaN   \n",
              "1974         1986-07-09   Мужской                     NaN                NaN   \n",
              "1975         1994-05-12   Мужской                     NaN                NaN   \n",
              "1976         1972-04-17   Женский                     NaN                NaN   \n",
              "1977         1971-09-14   Мужской                   Годен                NaN   \n",
              "\n",
              "     ВредныеФакторы                                      Профессия  \\\n",
              "0              11.4      Ведущий специалист по организации обуения   \n",
              "1             4.2.5                             Ведущий специалист   \n",
              "2             4.2.5                               Главный менеджер   \n",
              "3              11.1                             Главный специалист   \n",
              "4              11.1                             Старший специалист   \n",
              "...             ...                                            ...   \n",
              "1973            6.1                      Директор по строительству   \n",
              "1974            6.1  Начальник производственно-технического отдела   \n",
              "1975         5.1,23                            Помощник кладовщика   \n",
              "1976             23                                         Повар    \n",
              "1977             27                                   Анестезиолог   \n",
              "\n",
              "                                                Diagnoz  \\\n",
              "0                                                         \n",
              "1     Терапия Гипертензивная [гипертоническая] болез...   \n",
              "2                                  Офтальмология Миопия   \n",
              "3                                                         \n",
              "4                             Офтальмология Астигматизм   \n",
              "...                                                 ...   \n",
              "1973                                                      \n",
              "1974                                                      \n",
              "1975                        Стоматология Кариес дентина   \n",
              "1976  Терапия Гипертензивная [гипертоническая] болез...   \n",
              "1977                                                      \n",
              "\n",
              "                                     Дополнения сводные                 mkbs  \n",
              "0     Эндоскопия Дискинезия желчевыводящих путей ,Те...                       \n",
              "1                                 Терапия В анамнезе ГБ        Терапия I11.9  \n",
              "2     Терапия карбомезипин,мексидол,Офтальмология но...  Офтальмология H52.1  \n",
              "3     Эндоскопия Патологии со стороны слизистой пище...                       \n",
              "4     Эндоскопия Без патологии.,Офтальмология носит ...  Офтальмология H52.2  \n",
              "...                                                 ...                  ...  \n",
              "1973                                                                          \n",
              "1974                                                                          \n",
              "1975  Психиатрия Наркология Тесты на обобщение и иск...   Стоматология K02.1  \n",
              "1976  Терапия Гипертоническая болезнь, принимает Амл...        Терапия I11.9  \n",
              "1977                                                                          \n",
              "\n",
              "[1978 rows x 9 columns]"
            ],
            "text/html": [
              "\n",
              "  <div id=\"df-695ca688-c99e-4af6-b2aa-c3d68f67f38c\">\n",
              "    <div class=\"colab-df-container\">\n",
              "      <div>\n",
              "<style scoped>\n",
              "    .dataframe tbody tr th:only-of-type {\n",
              "        vertical-align: middle;\n",
              "    }\n",
              "\n",
              "    .dataframe tbody tr th {\n",
              "        vertical-align: top;\n",
              "    }\n",
              "\n",
              "    .dataframe thead th {\n",
              "        text-align: right;\n",
              "    }\n",
              "</style>\n",
              "<table border=\"1\" class=\"dataframe\">\n",
              "  <thead>\n",
              "    <tr style=\"text-align: right;\">\n",
              "      <th></th>\n",
              "      <th>КлиентДатаРождения</th>\n",
              "      <th>КлиентПол</th>\n",
              "      <th>ЗаключениеМК</th>\n",
              "      <th>ДиспансернаяГруппа</th>\n",
              "      <th>ВредныеФакторы</th>\n",
              "      <th>Профессия</th>\n",
              "      <th>Diagnoz</th>\n",
              "      <th>Дополнения сводные</th>\n",
              "      <th>mkbs</th>\n",
              "    </tr>\n",
              "  </thead>\n",
              "  <tbody>\n",
              "    <tr>\n",
              "      <th>0</th>\n",
              "      <td>1976-10-24</td>\n",
              "      <td>Женский</td>\n",
              "      <td>Годен</td>\n",
              "      <td>I</td>\n",
              "      <td>11.4</td>\n",
              "      <td>Ведущий специалист по организации обуения</td>\n",
              "      <td></td>\n",
              "      <td>Эндоскопия Дискинезия желчевыводящих путей ,Те...</td>\n",
              "      <td></td>\n",
              "    </tr>\n",
              "    <tr>\n",
              "      <th>1</th>\n",
              "      <td>1987-11-18</td>\n",
              "      <td>Мужской</td>\n",
              "      <td>Годен</td>\n",
              "      <td>IIIа</td>\n",
              "      <td>4.2.5</td>\n",
              "      <td>Ведущий специалист</td>\n",
              "      <td>Терапия Гипертензивная [гипертоническая] болез...</td>\n",
              "      <td>Терапия В анамнезе ГБ</td>\n",
              "      <td>Терапия I11.9</td>\n",
              "    </tr>\n",
              "    <tr>\n",
              "      <th>2</th>\n",
              "      <td>1985-09-08</td>\n",
              "      <td>Мужской</td>\n",
              "      <td>ГоденСКоррекциейЗрения</td>\n",
              "      <td>II</td>\n",
              "      <td>4.2.5</td>\n",
              "      <td>Главный менеджер</td>\n",
              "      <td>Офтальмология Миопия</td>\n",
              "      <td>Терапия карбомезипин,мексидол,Офтальмология но...</td>\n",
              "      <td>Офтальмология H52.1</td>\n",
              "    </tr>\n",
              "    <tr>\n",
              "      <th>3</th>\n",
              "      <td>1988-04-25</td>\n",
              "      <td>Мужской</td>\n",
              "      <td>Годен</td>\n",
              "      <td>I</td>\n",
              "      <td>11.1</td>\n",
              "      <td>Главный специалист</td>\n",
              "      <td></td>\n",
              "      <td>Эндоскопия Патологии со стороны слизистой пище...</td>\n",
              "      <td></td>\n",
              "    </tr>\n",
              "    <tr>\n",
              "      <th>4</th>\n",
              "      <td>1984-04-17</td>\n",
              "      <td>Мужской</td>\n",
              "      <td>ГоденСКоррекциейЗрения</td>\n",
              "      <td>II</td>\n",
              "      <td>11.1</td>\n",
              "      <td>Старший специалист</td>\n",
              "      <td>Офтальмология Астигматизм</td>\n",
              "      <td>Эндоскопия Без патологии.,Офтальмология носит ...</td>\n",
              "      <td>Офтальмология H52.2</td>\n",
              "    </tr>\n",
              "    <tr>\n",
              "      <th>...</th>\n",
              "      <td>...</td>\n",
              "      <td>...</td>\n",
              "      <td>...</td>\n",
              "      <td>...</td>\n",
              "      <td>...</td>\n",
              "      <td>...</td>\n",
              "      <td>...</td>\n",
              "      <td>...</td>\n",
              "      <td>...</td>\n",
              "    </tr>\n",
              "    <tr>\n",
              "      <th>1973</th>\n",
              "      <td>1972-11-12</td>\n",
              "      <td>Мужской</td>\n",
              "      <td>NaN</td>\n",
              "      <td>NaN</td>\n",
              "      <td>6.1</td>\n",
              "      <td>Директор по строительству</td>\n",
              "      <td></td>\n",
              "      <td></td>\n",
              "      <td></td>\n",
              "    </tr>\n",
              "    <tr>\n",
              "      <th>1974</th>\n",
              "      <td>1986-07-09</td>\n",
              "      <td>Мужской</td>\n",
              "      <td>NaN</td>\n",
              "      <td>NaN</td>\n",
              "      <td>6.1</td>\n",
              "      <td>Начальник производственно-технического отдела</td>\n",
              "      <td></td>\n",
              "      <td></td>\n",
              "      <td></td>\n",
              "    </tr>\n",
              "    <tr>\n",
              "      <th>1975</th>\n",
              "      <td>1994-05-12</td>\n",
              "      <td>Мужской</td>\n",
              "      <td>NaN</td>\n",
              "      <td>NaN</td>\n",
              "      <td>5.1,23</td>\n",
              "      <td>Помощник кладовщика</td>\n",
              "      <td>Стоматология Кариес дентина</td>\n",
              "      <td>Психиатрия Наркология Тесты на обобщение и иск...</td>\n",
              "      <td>Стоматология K02.1</td>\n",
              "    </tr>\n",
              "    <tr>\n",
              "      <th>1976</th>\n",
              "      <td>1972-04-17</td>\n",
              "      <td>Женский</td>\n",
              "      <td>NaN</td>\n",
              "      <td>NaN</td>\n",
              "      <td>23</td>\n",
              "      <td>Повар</td>\n",
              "      <td>Терапия Гипертензивная [гипертоническая] болез...</td>\n",
              "      <td>Терапия Гипертоническая болезнь, принимает Амл...</td>\n",
              "      <td>Терапия I11.9</td>\n",
              "    </tr>\n",
              "    <tr>\n",
              "      <th>1977</th>\n",
              "      <td>1971-09-14</td>\n",
              "      <td>Мужской</td>\n",
              "      <td>Годен</td>\n",
              "      <td>NaN</td>\n",
              "      <td>27</td>\n",
              "      <td>Анестезиолог</td>\n",
              "      <td></td>\n",
              "      <td></td>\n",
              "      <td></td>\n",
              "    </tr>\n",
              "  </tbody>\n",
              "</table>\n",
              "<p>1978 rows × 9 columns</p>\n",
              "</div>\n",
              "      <button class=\"colab-df-convert\" onclick=\"convertToInteractive('df-695ca688-c99e-4af6-b2aa-c3d68f67f38c')\"\n",
              "              title=\"Convert this dataframe to an interactive table.\"\n",
              "              style=\"display:none;\">\n",
              "        \n",
              "  <svg xmlns=\"http://www.w3.org/2000/svg\" height=\"24px\"viewBox=\"0 0 24 24\"\n",
              "       width=\"24px\">\n",
              "    <path d=\"M0 0h24v24H0V0z\" fill=\"none\"/>\n",
              "    <path d=\"M18.56 5.44l.94 2.06.94-2.06 2.06-.94-2.06-.94-.94-2.06-.94 2.06-2.06.94zm-11 1L8.5 8.5l.94-2.06 2.06-.94-2.06-.94L8.5 2.5l-.94 2.06-2.06.94zm10 10l.94 2.06.94-2.06 2.06-.94-2.06-.94-.94-2.06-.94 2.06-2.06.94z\"/><path d=\"M17.41 7.96l-1.37-1.37c-.4-.4-.92-.59-1.43-.59-.52 0-1.04.2-1.43.59L10.3 9.45l-7.72 7.72c-.78.78-.78 2.05 0 2.83L4 21.41c.39.39.9.59 1.41.59.51 0 1.02-.2 1.41-.59l7.78-7.78 2.81-2.81c.8-.78.8-2.07 0-2.86zM5.41 20L4 18.59l7.72-7.72 1.47 1.35L5.41 20z\"/>\n",
              "  </svg>\n",
              "      </button>\n",
              "      \n",
              "  <style>\n",
              "    .colab-df-container {\n",
              "      display:flex;\n",
              "      flex-wrap:wrap;\n",
              "      gap: 12px;\n",
              "    }\n",
              "\n",
              "    .colab-df-convert {\n",
              "      background-color: #E8F0FE;\n",
              "      border: none;\n",
              "      border-radius: 50%;\n",
              "      cursor: pointer;\n",
              "      display: none;\n",
              "      fill: #1967D2;\n",
              "      height: 32px;\n",
              "      padding: 0 0 0 0;\n",
              "      width: 32px;\n",
              "    }\n",
              "\n",
              "    .colab-df-convert:hover {\n",
              "      background-color: #E2EBFA;\n",
              "      box-shadow: 0px 1px 2px rgba(60, 64, 67, 0.3), 0px 1px 3px 1px rgba(60, 64, 67, 0.15);\n",
              "      fill: #174EA6;\n",
              "    }\n",
              "\n",
              "    [theme=dark] .colab-df-convert {\n",
              "      background-color: #3B4455;\n",
              "      fill: #D2E3FC;\n",
              "    }\n",
              "\n",
              "    [theme=dark] .colab-df-convert:hover {\n",
              "      background-color: #434B5C;\n",
              "      box-shadow: 0px 1px 3px 1px rgba(0, 0, 0, 0.15);\n",
              "      filter: drop-shadow(0px 1px 2px rgba(0, 0, 0, 0.3));\n",
              "      fill: #FFFFFF;\n",
              "    }\n",
              "  </style>\n",
              "\n",
              "      <script>\n",
              "        const buttonEl =\n",
              "          document.querySelector('#df-695ca688-c99e-4af6-b2aa-c3d68f67f38c button.colab-df-convert');\n",
              "        buttonEl.style.display =\n",
              "          google.colab.kernel.accessAllowed ? 'block' : 'none';\n",
              "\n",
              "        async function convertToInteractive(key) {\n",
              "          const element = document.querySelector('#df-695ca688-c99e-4af6-b2aa-c3d68f67f38c');\n",
              "          const dataTable =\n",
              "            await google.colab.kernel.invokeFunction('convertToInteractive',\n",
              "                                                     [key], {});\n",
              "          if (!dataTable) return;\n",
              "\n",
              "          const docLinkHtml = 'Like what you see? Visit the ' +\n",
              "            '<a target=\"_blank\" href=https://colab.research.google.com/notebooks/data_table.ipynb>data table notebook</a>'\n",
              "            + ' to learn more about interactive tables.';\n",
              "          element.innerHTML = '';\n",
              "          dataTable['output_type'] = 'display_data';\n",
              "          await google.colab.output.renderOutput(dataTable, element);\n",
              "          const docLink = document.createElement('div');\n",
              "          docLink.innerHTML = docLinkHtml;\n",
              "          element.appendChild(docLink);\n",
              "        }\n",
              "      </script>\n",
              "    </div>\n",
              "  </div>\n",
              "  "
            ]
          },
          "metadata": {},
          "execution_count": 12
        }
      ]
    },
    {
      "cell_type": "code",
      "source": [
        "from datetime import datetime\n",
        "class MyUtils:\n",
        "  conclusion_map = {FIELD_CONCLUSION_FIT:'Годен', FIELD_CONCLUSION_PART_FIT:\"Частично годен\", FIELD_CONCLUSION_NOT_FIT: 'Негоден'}\n",
        "  @classmethod\n",
        "  def conclusion_labels(cls):\n",
        "    return  [cls.conclusion_map[k] for k in sorted(cls.conclusion_map)]\n",
        "\n",
        "  @classmethod\n",
        "  def resolve_conclusion_map(cls,x):\n",
        "    return cls.conclusion_map[x]\n",
        "  @staticmethod  \n",
        "  # Определяем функцию для расчета возраста на основе даты\n",
        "  def resolve_birthdate_to_age(date):\n",
        "    current_year = pd.Timestamp.now().year\n",
        "    age = current_year - date.year\n",
        "    return age\n",
        "  def resolve_genger(x):\n",
        "    if x == 'Мужской':\n",
        "        return FIELD_CLIENT_GENDER_M\n",
        "    elif x == 'Женский':\n",
        "        return FIELD_CLIENT_GENDER_F\n",
        "    else:\n",
        "        return None\n",
        "\n",
        "  def resolve_conclusion_binary(arg):\n",
        "    try:\n",
        "      if \"Годен\" == arg:\n",
        "        return FIELD_CONCLUSION_FIT\n",
        "      else:\n",
        "        return FIELD_CONCLUSION_NOT_FIT\n",
        "    except (TypeError):\n",
        "        return None\n",
        "  def resolve_conclusion(arg):\n",
        "    try:\n",
        "      if \"Годен\" == arg:\n",
        "        return FIELD_CONCLUSION_FIT\n",
        "      elif \"Негоден\" in arg:\n",
        "        return FIELD_CONCLUSION_NOT_FIT\n",
        "      elif \"Годен\" in arg:\n",
        "        return FIELD_CONCLUSION_PART_FIT\n",
        "      else:\n",
        "        return FIELD_CONCLUSION_NOT_FIT\n",
        "    except (TypeError):\n",
        "        return None\n",
        "  def resolve_dispansary_group(arg):\n",
        "    try:\n",
        "      if arg == \"I\":\n",
        "        return FIELD_DISPANSARY_GROUP_I\n",
        "      elif arg == \"II\":\n",
        "        return FIELD_DISPANSARY_GROUP_II\n",
        "      elif \"III\" in arg :\n",
        "        return FIELD_DISPANSARY_GROUP_III\n",
        "      else:\n",
        "        return FIELD_DISPANSARY_GROUP_OTHER\n",
        "    except (TypeError):\n",
        "        return None\n",
        "  def resolve_age_to_category(arg):\n",
        "    outClass =int((arg-13)/5)\n",
        "    outClass = max(0, min(10,outClass))\n",
        "    return outClass"
      ],
      "metadata": {
        "id": "no1rdjq8gAo5"
      },
      "outputs": [],
      "execution_count": null
    },
    {
      "cell_type": "code",
      "source": [
        "# Преобразование заключения в цифру\n",
        "df[FIELD_CONCLUSION] = df[FIELD_CONCLUSION].apply(lambda x: MyUtils.resolve_conclusion(x))"
      ],
      "metadata": {
        "id": "K_y8i4Lhids7"
      },
      "outputs": [],
      "execution_count": null
    },
    {
      "cell_type": "code",
      "source": [
        "def ___unused___balance_dataset():\n",
        "  # Разделим данные по значениям поля FIELD_CONCLUSION\n",
        "  fit = df[df[FIELD_CONCLUSION] == FIELD_CONCLUSION_FIT]\n",
        "  not_fit = df[df[FIELD_CONCLUSION] == FIELD_CONCLUSION_NOT_FIT]\n",
        "  part_fit = df[df[FIELD_CONCLUSION] == FIELD_CONCLUSION_PART_FIT]\n",
        "\n",
        "  # Увеличим меньшие классы до размера большего класса\n",
        "  n_samples = len(fit)\n",
        "  not_fit_upsampled = resample(not_fit, replace=True, n_samples=n_samples, random_state=42)\n",
        "  part_fit_upsampled = resample(part_fit, replace=True, n_samples=n_samples, random_state=42)\n",
        "\n",
        "  # Объединим данные и перемешаем их\n",
        "  df_balanced = pd.concat([fit, not_fit_upsampled, part_fit_upsampled])\n",
        "  df_balanced = df_balanced.sample(frac=1, random_state=42)\n"
      ],
      "metadata": {
        "id": "xH3lLkj0U8jK"
      },
      "outputs": [],
      "execution_count": null
    },
    {
      "cell_type": "code",
      "source": [
        "# Преобразование колонки возраста в цифровой вид\n",
        "df[FIELD_CLIENT_AGE] = df[FIELD_CLIENT_BIRTH_DAY].apply(MyUtils.resolve_birthdate_to_age)\n",
        "\n",
        "# разделение возраста на категории\n",
        "df[FIELD_NEW_AGE_CATEGORY] = df[FIELD_CLIENT_AGE].apply(MyUtils.resolve_age_to_category)\n",
        "\n",
        "# Пол в цифру\n",
        "df[FIELD_CLIENT_GENDER] = df[FIELD_CLIENT_GENDER].apply(lambda x: MyUtils.resolve_genger(x) if pd.notnull(x) else x)\n",
        "\n",
        "# Удалим неиспользованные колонки\n",
        "del df[FIELD_CLIENT_BIRTH_DAY]\n",
        "del  df[FIELD_CLIENT_AGE]"
      ],
      "metadata": {
        "id": "pDec93FchU2W"
      },
      "outputs": [],
      "execution_count": null
    },
    {
      "cell_type": "code",
      "source": [
        "#Преобразование диспансерных групп в цифру\n",
        "df[FIELD_DISPANSARY_GROUP] = df[FIELD_DISPANSARY_GROUP].apply(MyUtils.resolve_dispansary_group)"
      ],
      "metadata": {
        "id": "A2mCflmmh8j_"
      },
      "outputs": [],
      "execution_count": null
    },
    {
      "cell_type": "code",
      "source": [
        "# разделяем факторы по одному значению\n",
        "df[FIELD_HARMFUL_FACTORS] = df[FIELD_HARMFUL_FACTORS].str.split(\",\")"
      ],
      "metadata": {
        "id": "O8GH_WB1ImjW"
      },
      "outputs": [],
      "execution_count": null
    },
    {
      "cell_type": "code",
      "source": [
        "df.dropna(inplace = True)"
      ],
      "metadata": {
        "id": "3LHxZ1wDxty6"
      },
      "outputs": [],
      "execution_count": null
    },
    {
      "cell_type": "markdown",
      "source": [
        "Подготавливаю все однозначные цифровые данные в OHE"
      ],
      "metadata": {
        "id": "Yz7Il0yQ-cmx"
      }
    },
    {
      "cell_type": "code",
      "source": [
        "# Объединяю категориальные значения в OHE\n",
        "df_ohe  = pd.get_dummies(df[[FIELD_CLIENT_GENDER, FIELD_DISPANSARY_GROUP, FIELD_NEW_AGE_CATEGORY]],  columns = [FIELD_CLIENT_GENDER, FIELD_DISPANSARY_GROUP, FIELD_NEW_AGE_CATEGORY] )\n",
        "xTrain0 = df_ohe.values\n",
        "xTrain0.shape\n"
      ],
      "metadata": {
        "id": "yOrH0jogzbIA",
        "outputId": "71ed59fe-4592-47d0-cb9a-7b362f7dfea9",
        "colab": {
          "base_uri": "https://localhost:8080/"
        }
      },
      "outputs": [
        {
          "output_type": "execute_result",
          "data": {
            "text/plain": [
              "(1562, 16)"
            ]
          },
          "metadata": {},
          "execution_count": 20
        }
      ],
      "execution_count": null
    },
    {
      "cell_type": "code",
      "source": [
        "yTrain =  pd.get_dummies(df[FIELD_CONCLUSION]).values"
      ],
      "metadata": {
        "id": "uWqHha7N5rhy"
      },
      "outputs": [],
      "execution_count": null
    },
    {
      "cell_type": "code",
      "source": [
        "Y_CLASSES = yTrain.shape[1]\n",
        "Y_CLASSES"
      ],
      "metadata": {
        "colab": {
          "base_uri": "https://localhost:8080/"
        },
        "id": "eotMwYrWTXzq",
        "outputId": "32042c67-682b-4672-d2c4-36eef31804ac"
      },
      "outputs": [
        {
          "output_type": "execute_result",
          "data": {
            "text/plain": [
              "3"
            ]
          },
          "metadata": {},
          "execution_count": 22
        }
      ],
      "execution_count": null
    },
    {
      "cell_type": "code",
      "source": [
        "df"
      ],
      "metadata": {
        "colab": {
          "base_uri": "https://localhost:8080/",
          "height": 765
        },
        "id": "7wX_D0BPTYog",
        "outputId": "264a621f-f5b5-4330-8471-457808dd2008"
      },
      "execution_count": null,
      "outputs": [
        {
          "output_type": "execute_result",
          "data": {
            "text/plain": [
              "      КлиентПол  ЗаключениеМК  ДиспансернаяГруппа   ВредныеФакторы  \\\n",
              "0             1           1.0                 0.0           [11.4]   \n",
              "1             0           1.0                 2.0          [4.2.5]   \n",
              "2             0           2.0                 1.0          [4.2.5]   \n",
              "3             0           1.0                 0.0           [11.1]   \n",
              "4             0           2.0                 1.0           [11.1]   \n",
              "...         ...           ...                 ...              ...   \n",
              "1956          0           1.0                 1.0  [4.4, 4.5, 6.1]   \n",
              "1957          0           1.0                 0.0  [4.4, 4.5, 6.1]   \n",
              "1958          0           1.0                 0.0            [4.4]   \n",
              "1968          0           1.0                 0.0        [3.1.8.2]   \n",
              "1969          0           1.0                 0.0     [4.2.5, 6.1]   \n",
              "\n",
              "                                              Профессия  \\\n",
              "0             Ведущий специалист по организации обуения   \n",
              "1                                    Ведущий специалист   \n",
              "2                                      Главный менеджер   \n",
              "3                                    Главный специалист   \n",
              "4                                    Старший специалист   \n",
              "...                                                 ...   \n",
              "1956                                            Инженер   \n",
              "1957                                            Инженер   \n",
              "1958                              Начальник лаборатории   \n",
              "1968  Инженер по бурению 1 категории, непосредственн...   \n",
              "1969                           Приемщик вагонов в депо    \n",
              "\n",
              "                                                Diagnoz  \\\n",
              "0                                                         \n",
              "1     Терапия Гипертензивная [гипертоническая] болез...   \n",
              "2                                  Офтальмология Миопия   \n",
              "3                                                         \n",
              "4                             Офтальмология Астигматизм   \n",
              "...                                                 ...   \n",
              "1956                               Офтальмология Миопия   \n",
              "1957                                                      \n",
              "1958                                                      \n",
              "1968                                                      \n",
              "1969                                                      \n",
              "\n",
              "                                     Дополнения сводные                 mkbs  \\\n",
              "0     Эндоскопия Дискинезия желчевыводящих путей ,Те...                        \n",
              "1                                 Терапия В анамнезе ГБ        Терапия I11.9   \n",
              "2     Терапия карбомезипин,мексидол,Офтальмология но...  Офтальмология H52.1   \n",
              "3     Эндоскопия Патологии со стороны слизистой пище...                        \n",
              "4     Эндоскопия Без патологии.,Офтальмология носит ...  Офтальмология H52.2   \n",
              "...                                                 ...                  ...   \n",
              "1956  Офтальмология 1,0,Офтальмология -0,75 -0,50/-0,50  Офтальмология H52.1   \n",
              "1957                                                                           \n",
              "1958                                                                           \n",
              "1968                                                                           \n",
              "1969  Офтальмология 2019г Лазик (-3.0),Психиатрия На...                        \n",
              "\n",
              "      ВозрастКатегория  \n",
              "0                    6  \n",
              "1                    4  \n",
              "2                    5  \n",
              "3                    4  \n",
              "4                    5  \n",
              "...                ...  \n",
              "1956                 4  \n",
              "1957                 3  \n",
              "1958                 4  \n",
              "1968                 4  \n",
              "1969                 3  \n",
              "\n",
              "[1562 rows x 9 columns]"
            ],
            "text/html": [
              "\n",
              "  <div id=\"df-ed0aaac7-3639-4d98-8287-b89faedd4275\">\n",
              "    <div class=\"colab-df-container\">\n",
              "      <div>\n",
              "<style scoped>\n",
              "    .dataframe tbody tr th:only-of-type {\n",
              "        vertical-align: middle;\n",
              "    }\n",
              "\n",
              "    .dataframe tbody tr th {\n",
              "        vertical-align: top;\n",
              "    }\n",
              "\n",
              "    .dataframe thead th {\n",
              "        text-align: right;\n",
              "    }\n",
              "</style>\n",
              "<table border=\"1\" class=\"dataframe\">\n",
              "  <thead>\n",
              "    <tr style=\"text-align: right;\">\n",
              "      <th></th>\n",
              "      <th>КлиентПол</th>\n",
              "      <th>ЗаключениеМК</th>\n",
              "      <th>ДиспансернаяГруппа</th>\n",
              "      <th>ВредныеФакторы</th>\n",
              "      <th>Профессия</th>\n",
              "      <th>Diagnoz</th>\n",
              "      <th>Дополнения сводные</th>\n",
              "      <th>mkbs</th>\n",
              "      <th>ВозрастКатегория</th>\n",
              "    </tr>\n",
              "  </thead>\n",
              "  <tbody>\n",
              "    <tr>\n",
              "      <th>0</th>\n",
              "      <td>1</td>\n",
              "      <td>1.0</td>\n",
              "      <td>0.0</td>\n",
              "      <td>[11.4]</td>\n",
              "      <td>Ведущий специалист по организации обуения</td>\n",
              "      <td></td>\n",
              "      <td>Эндоскопия Дискинезия желчевыводящих путей ,Те...</td>\n",
              "      <td></td>\n",
              "      <td>6</td>\n",
              "    </tr>\n",
              "    <tr>\n",
              "      <th>1</th>\n",
              "      <td>0</td>\n",
              "      <td>1.0</td>\n",
              "      <td>2.0</td>\n",
              "      <td>[4.2.5]</td>\n",
              "      <td>Ведущий специалист</td>\n",
              "      <td>Терапия Гипертензивная [гипертоническая] болез...</td>\n",
              "      <td>Терапия В анамнезе ГБ</td>\n",
              "      <td>Терапия I11.9</td>\n",
              "      <td>4</td>\n",
              "    </tr>\n",
              "    <tr>\n",
              "      <th>2</th>\n",
              "      <td>0</td>\n",
              "      <td>2.0</td>\n",
              "      <td>1.0</td>\n",
              "      <td>[4.2.5]</td>\n",
              "      <td>Главный менеджер</td>\n",
              "      <td>Офтальмология Миопия</td>\n",
              "      <td>Терапия карбомезипин,мексидол,Офтальмология но...</td>\n",
              "      <td>Офтальмология H52.1</td>\n",
              "      <td>5</td>\n",
              "    </tr>\n",
              "    <tr>\n",
              "      <th>3</th>\n",
              "      <td>0</td>\n",
              "      <td>1.0</td>\n",
              "      <td>0.0</td>\n",
              "      <td>[11.1]</td>\n",
              "      <td>Главный специалист</td>\n",
              "      <td></td>\n",
              "      <td>Эндоскопия Патологии со стороны слизистой пище...</td>\n",
              "      <td></td>\n",
              "      <td>4</td>\n",
              "    </tr>\n",
              "    <tr>\n",
              "      <th>4</th>\n",
              "      <td>0</td>\n",
              "      <td>2.0</td>\n",
              "      <td>1.0</td>\n",
              "      <td>[11.1]</td>\n",
              "      <td>Старший специалист</td>\n",
              "      <td>Офтальмология Астигматизм</td>\n",
              "      <td>Эндоскопия Без патологии.,Офтальмология носит ...</td>\n",
              "      <td>Офтальмология H52.2</td>\n",
              "      <td>5</td>\n",
              "    </tr>\n",
              "    <tr>\n",
              "      <th>...</th>\n",
              "      <td>...</td>\n",
              "      <td>...</td>\n",
              "      <td>...</td>\n",
              "      <td>...</td>\n",
              "      <td>...</td>\n",
              "      <td>...</td>\n",
              "      <td>...</td>\n",
              "      <td>...</td>\n",
              "      <td>...</td>\n",
              "    </tr>\n",
              "    <tr>\n",
              "      <th>1956</th>\n",
              "      <td>0</td>\n",
              "      <td>1.0</td>\n",
              "      <td>1.0</td>\n",
              "      <td>[4.4, 4.5, 6.1]</td>\n",
              "      <td>Инженер</td>\n",
              "      <td>Офтальмология Миопия</td>\n",
              "      <td>Офтальмология 1,0,Офтальмология -0,75 -0,50/-0,50</td>\n",
              "      <td>Офтальмология H52.1</td>\n",
              "      <td>4</td>\n",
              "    </tr>\n",
              "    <tr>\n",
              "      <th>1957</th>\n",
              "      <td>0</td>\n",
              "      <td>1.0</td>\n",
              "      <td>0.0</td>\n",
              "      <td>[4.4, 4.5, 6.1]</td>\n",
              "      <td>Инженер</td>\n",
              "      <td></td>\n",
              "      <td></td>\n",
              "      <td></td>\n",
              "      <td>3</td>\n",
              "    </tr>\n",
              "    <tr>\n",
              "      <th>1958</th>\n",
              "      <td>0</td>\n",
              "      <td>1.0</td>\n",
              "      <td>0.0</td>\n",
              "      <td>[4.4]</td>\n",
              "      <td>Начальник лаборатории</td>\n",
              "      <td></td>\n",
              "      <td></td>\n",
              "      <td></td>\n",
              "      <td>4</td>\n",
              "    </tr>\n",
              "    <tr>\n",
              "      <th>1968</th>\n",
              "      <td>0</td>\n",
              "      <td>1.0</td>\n",
              "      <td>0.0</td>\n",
              "      <td>[3.1.8.2]</td>\n",
              "      <td>Инженер по бурению 1 категории, непосредственн...</td>\n",
              "      <td></td>\n",
              "      <td></td>\n",
              "      <td></td>\n",
              "      <td>4</td>\n",
              "    </tr>\n",
              "    <tr>\n",
              "      <th>1969</th>\n",
              "      <td>0</td>\n",
              "      <td>1.0</td>\n",
              "      <td>0.0</td>\n",
              "      <td>[4.2.5, 6.1]</td>\n",
              "      <td>Приемщик вагонов в депо</td>\n",
              "      <td></td>\n",
              "      <td>Офтальмология 2019г Лазик (-3.0),Психиатрия На...</td>\n",
              "      <td></td>\n",
              "      <td>3</td>\n",
              "    </tr>\n",
              "  </tbody>\n",
              "</table>\n",
              "<p>1562 rows × 9 columns</p>\n",
              "</div>\n",
              "      <button class=\"colab-df-convert\" onclick=\"convertToInteractive('df-ed0aaac7-3639-4d98-8287-b89faedd4275')\"\n",
              "              title=\"Convert this dataframe to an interactive table.\"\n",
              "              style=\"display:none;\">\n",
              "        \n",
              "  <svg xmlns=\"http://www.w3.org/2000/svg\" height=\"24px\"viewBox=\"0 0 24 24\"\n",
              "       width=\"24px\">\n",
              "    <path d=\"M0 0h24v24H0V0z\" fill=\"none\"/>\n",
              "    <path d=\"M18.56 5.44l.94 2.06.94-2.06 2.06-.94-2.06-.94-.94-2.06-.94 2.06-2.06.94zm-11 1L8.5 8.5l.94-2.06 2.06-.94-2.06-.94L8.5 2.5l-.94 2.06-2.06.94zm10 10l.94 2.06.94-2.06 2.06-.94-2.06-.94-.94-2.06-.94 2.06-2.06.94z\"/><path d=\"M17.41 7.96l-1.37-1.37c-.4-.4-.92-.59-1.43-.59-.52 0-1.04.2-1.43.59L10.3 9.45l-7.72 7.72c-.78.78-.78 2.05 0 2.83L4 21.41c.39.39.9.59 1.41.59.51 0 1.02-.2 1.41-.59l7.78-7.78 2.81-2.81c.8-.78.8-2.07 0-2.86zM5.41 20L4 18.59l7.72-7.72 1.47 1.35L5.41 20z\"/>\n",
              "  </svg>\n",
              "      </button>\n",
              "      \n",
              "  <style>\n",
              "    .colab-df-container {\n",
              "      display:flex;\n",
              "      flex-wrap:wrap;\n",
              "      gap: 12px;\n",
              "    }\n",
              "\n",
              "    .colab-df-convert {\n",
              "      background-color: #E8F0FE;\n",
              "      border: none;\n",
              "      border-radius: 50%;\n",
              "      cursor: pointer;\n",
              "      display: none;\n",
              "      fill: #1967D2;\n",
              "      height: 32px;\n",
              "      padding: 0 0 0 0;\n",
              "      width: 32px;\n",
              "    }\n",
              "\n",
              "    .colab-df-convert:hover {\n",
              "      background-color: #E2EBFA;\n",
              "      box-shadow: 0px 1px 2px rgba(60, 64, 67, 0.3), 0px 1px 3px 1px rgba(60, 64, 67, 0.15);\n",
              "      fill: #174EA6;\n",
              "    }\n",
              "\n",
              "    [theme=dark] .colab-df-convert {\n",
              "      background-color: #3B4455;\n",
              "      fill: #D2E3FC;\n",
              "    }\n",
              "\n",
              "    [theme=dark] .colab-df-convert:hover {\n",
              "      background-color: #434B5C;\n",
              "      box-shadow: 0px 1px 3px 1px rgba(0, 0, 0, 0.15);\n",
              "      filter: drop-shadow(0px 1px 2px rgba(0, 0, 0, 0.3));\n",
              "      fill: #FFFFFF;\n",
              "    }\n",
              "  </style>\n",
              "\n",
              "      <script>\n",
              "        const buttonEl =\n",
              "          document.querySelector('#df-ed0aaac7-3639-4d98-8287-b89faedd4275 button.colab-df-convert');\n",
              "        buttonEl.style.display =\n",
              "          google.colab.kernel.accessAllowed ? 'block' : 'none';\n",
              "\n",
              "        async function convertToInteractive(key) {\n",
              "          const element = document.querySelector('#df-ed0aaac7-3639-4d98-8287-b89faedd4275');\n",
              "          const dataTable =\n",
              "            await google.colab.kernel.invokeFunction('convertToInteractive',\n",
              "                                                     [key], {});\n",
              "          if (!dataTable) return;\n",
              "\n",
              "          const docLinkHtml = 'Like what you see? Visit the ' +\n",
              "            '<a target=\"_blank\" href=https://colab.research.google.com/notebooks/data_table.ipynb>data table notebook</a>'\n",
              "            + ' to learn more about interactive tables.';\n",
              "          element.innerHTML = '';\n",
              "          dataTable['output_type'] = 'display_data';\n",
              "          await google.colab.output.renderOutput(dataTable, element);\n",
              "          const docLink = document.createElement('div');\n",
              "          docLink.innerHTML = docLinkHtml;\n",
              "          element.appendChild(docLink);\n",
              "        }\n",
              "      </script>\n",
              "    </div>\n",
              "  </div>\n",
              "  "
            ]
          },
          "metadata": {},
          "execution_count": 23
        }
      ]
    },
    {
      "cell_type": "markdown",
      "source": [
        "Токенизируем наши поля"
      ],
      "metadata": {
        "id": "0gaR78O_TzEC"
      }
    },
    {
      "cell_type": "markdown",
      "source": [
        "Это моя обертка над токенизатором, для удобства использования для повторяющейся задачи"
      ],
      "metadata": {
        "id": "5K2ghKaakUXu"
      }
    },
    {
      "cell_type": "code",
      "source": [
        "np_len = np.vectorize(len)\n",
        "\n",
        "\n",
        "class MySequences:\n",
        "  value = None\n",
        "  max_len = None\n",
        "  def get_padded(self):\n",
        "    return pad_sequences(self.value, maxlen=self.max_len, padding='post')\n",
        "\n",
        "\n",
        "class MyTokenizer:\n",
        "  tokenizer:Tokenizer\n",
        "  _indexed = None\n",
        "  def __init__(self, *tokenizer_args, **tokenizer_kwargs):\n",
        "    self.tokenizer = Tokenizer(*tokenizer_args, **tokenizer_kwargs)\n",
        "    \n",
        "  @property\n",
        "  def vocab_size(self):\n",
        "    return len(self.tokenizer.word_index) + 1\n",
        " \n",
        "  def fit_on_texts(self, series):\n",
        "    self.tokenizer.fit_on_texts(series)\n",
        " \n",
        "  def texts_to_sequences(self, series):\n",
        "    \n",
        "    self._indexed = MySequences()\n",
        "\n",
        "\n",
        "    self._indexed.value = self.tokenizer.texts_to_sequences(series)\n",
        "    self._indexed.max_len = np_len(self._indexed.value).max()\n",
        "    return self._indexed\n",
        "  \n",
        "  def process_data(self, series):\n",
        "    self.fit_on_texts(series)\n",
        "    self.texts_to_sequences(series)\n",
        "  \n",
        "  @property\n",
        "  def indexed(self)->MySequences:\n",
        "    return self._indexed\n",
        "\n",
        "  def __call__(self):\n",
        "    return self.tokenizer"
      ],
      "metadata": {
        "id": "eZaVjrHmNfQI"
      },
      "execution_count": null,
      "outputs": []
    },
    {
      "cell_type": "markdown",
      "source": [
        "Токенизируем колонки"
      ],
      "metadata": {
        "id": "MDFNoWP3KKIf"
      }
    },
    {
      "cell_type": "code",
      "source": [
        "df[FIELD_NEW_MKBS]"
      ],
      "metadata": {
        "colab": {
          "base_uri": "https://localhost:8080/"
        },
        "id": "Raa_fNytKnhA",
        "outputId": "6f02b1bb-1816-4738-9cb9-afbaaca3eefe"
      },
      "execution_count": null,
      "outputs": [
        {
          "output_type": "execute_result",
          "data": {
            "text/plain": [
              "0                          \n",
              "1             Терапия I11.9\n",
              "2       Офтальмология H52.1\n",
              "3                          \n",
              "4       Офтальмология H52.2\n",
              "               ...         \n",
              "1956    Офтальмология H52.1\n",
              "1957                       \n",
              "1958                       \n",
              "1968                       \n",
              "1969                       \n",
              "Name: mkbs, Length: 1562, dtype: object"
            ]
          },
          "metadata": {},
          "execution_count": 25
        }
      ]
    },
    {
      "cell_type": "code",
      "source": [
        "#Токенизируем МКБ и подготавиваем для трейна\n",
        "tokenizer_mkb = MyTokenizer()\n",
        "tokenizer_mkb.process_data(df[FIELD_NEW_MKBS])\n",
        "xTrainMkb = tokenizer_mkb.indexed.get_padded()"
      ],
      "metadata": {
        "id": "5QfwEGduA77h",
        "colab": {
          "base_uri": "https://localhost:8080/"
        },
        "outputId": "e44b2efc-a2dd-4594-cf68-538444300001"
      },
      "outputs": [
        {
          "output_type": "stream",
          "name": "stderr",
          "text": [
            "/usr/local/lib/python3.10/dist-packages/numpy/lib/function_base.py:2336: VisibleDeprecationWarning: Creating an ndarray from ragged nested sequences (which is a list-or-tuple of lists-or-tuples-or ndarrays with different lengths or shapes) is deprecated. If you meant to do this, you must specify 'dtype=object' when creating the ndarray.\n",
            "  args = [asarray(arg) for arg in args]\n"
          ]
        }
      ],
      "execution_count": null
    },
    {
      "cell_type": "code",
      "source": [
        "df[FIELD_HARMFUL_FACTORS]"
      ],
      "metadata": {
        "colab": {
          "base_uri": "https://localhost:8080/"
        },
        "id": "SrshASNmK1_Y",
        "outputId": "8eda4743-6319-4ff4-dae9-df404857f6fe"
      },
      "execution_count": null,
      "outputs": [
        {
          "output_type": "execute_result",
          "data": {
            "text/plain": [
              "0                [11.4]\n",
              "1               [4.2.5]\n",
              "2               [4.2.5]\n",
              "3                [11.1]\n",
              "4                [11.1]\n",
              "             ...       \n",
              "1956    [4.4, 4.5, 6.1]\n",
              "1957    [4.4, 4.5, 6.1]\n",
              "1958              [4.4]\n",
              "1968          [3.1.8.2]\n",
              "1969       [4.2.5, 6.1]\n",
              "Name: ВредныеФакторы, Length: 1562, dtype: object"
            ]
          },
          "metadata": {},
          "execution_count": 27
        }
      ]
    },
    {
      "cell_type": "code",
      "source": [
        "#Токенизируем Вредные Факторы  и подготавиваем для трейна\n",
        "tokenizer_harmfull = MyTokenizer()\n",
        "tokenizer_harmfull.process_data(df[FIELD_HARMFUL_FACTORS])\n",
        "xTrainHarmFull = tokenizer_harmfull.indexed.get_padded()\n"
      ],
      "metadata": {
        "colab": {
          "base_uri": "https://localhost:8080/"
        },
        "id": "JxK3vi5fYrF4",
        "outputId": "ec18f07f-9968-4e0d-e408-4a0467f0bf88"
      },
      "execution_count": null,
      "outputs": [
        {
          "output_type": "stream",
          "name": "stderr",
          "text": [
            "/usr/local/lib/python3.10/dist-packages/numpy/lib/function_base.py:2336: VisibleDeprecationWarning: Creating an ndarray from ragged nested sequences (which is a list-or-tuple of lists-or-tuples-or ndarrays with different lengths or shapes) is deprecated. If you meant to do this, you must specify 'dtype=object' when creating the ndarray.\n",
            "  args = [asarray(arg) for arg in args]\n"
          ]
        }
      ]
    },
    {
      "cell_type": "code",
      "source": [
        "df[FIELD_CLIENT_PROFESSION]"
      ],
      "metadata": {
        "colab": {
          "base_uri": "https://localhost:8080/"
        },
        "id": "pEthhkcGK_O-",
        "outputId": "f9f15810-2dbc-4e3b-d288-a953061dcc94"
      },
      "execution_count": null,
      "outputs": [
        {
          "output_type": "execute_result",
          "data": {
            "text/plain": [
              "0               Ведущий специалист по организации обуения\n",
              "1                                      Ведущий специалист\n",
              "2                                        Главный менеджер\n",
              "3                                      Главный специалист\n",
              "4                                      Старший специалист\n",
              "                              ...                        \n",
              "1956                                              Инженер\n",
              "1957                                              Инженер\n",
              "1958                                Начальник лаборатории\n",
              "1968    Инженер по бурению 1 категории, непосредственн...\n",
              "1969                             Приемщик вагонов в депо \n",
              "Name: Профессия, Length: 1562, dtype: object"
            ]
          },
          "metadata": {},
          "execution_count": 28
        }
      ]
    },
    {
      "cell_type": "code",
      "source": [
        "#Токенизируем Профессии и подготавиваем для трейна\n",
        "tokenizer_prof = MyTokenizer(num_words=1000, filters='!\"#$%&()*+,-–—./:;<=>?@[\\]^_`{|}~\\t\\n\\xa0', lower=True, split=' ', oov_token='unknown', char_level=False)\n",
        "tokenizer_prof.process_data(df[FIELD_CLIENT_PROFESSION]) \n",
        "xTrainProf = tokenizer_prof.indexed.get_padded()\n",
        "\n"
      ],
      "metadata": {
        "id": "ASRBU5I6o3vY",
        "colab": {
          "base_uri": "https://localhost:8080/"
        },
        "outputId": "d9387523-2f03-42cf-9d3c-409afeed0f4d"
      },
      "outputs": [
        {
          "output_type": "stream",
          "name": "stderr",
          "text": [
            "/usr/local/lib/python3.10/dist-packages/numpy/lib/function_base.py:2336: VisibleDeprecationWarning: Creating an ndarray from ragged nested sequences (which is a list-or-tuple of lists-or-tuples-or ndarrays with different lengths or shapes) is deprecated. If you meant to do this, you must specify 'dtype=object' when creating the ndarray.\n",
            "  args = [asarray(arg) for arg in args]\n"
          ]
        }
      ],
      "execution_count": null
    },
    {
      "cell_type": "code",
      "source": [
        "df[FIELD_NEW_CLIENT_ADDITIONS]"
      ],
      "metadata": {
        "colab": {
          "base_uri": "https://localhost:8080/"
        },
        "id": "VxdoFB7uLD_L",
        "outputId": "25155c38-66d3-451d-a127-3b59996ed0db"
      },
      "execution_count": null,
      "outputs": [
        {
          "output_type": "execute_result",
          "data": {
            "text/plain": [
              "0       Эндоскопия Дискинезия желчевыводящих путей ,Те...\n",
              "1                                   Терапия В анамнезе ГБ\n",
              "2       Терапия карбомезипин,мексидол,Офтальмология но...\n",
              "3       Эндоскопия Патологии со стороны слизистой пище...\n",
              "4       Эндоскопия Без патологии.,Офтальмология носит ...\n",
              "                              ...                        \n",
              "1956    Офтальмология 1,0,Офтальмология -0,75 -0,50/-0,50\n",
              "1957                                                     \n",
              "1958                                                     \n",
              "1968                                                     \n",
              "1969    Офтальмология 2019г Лазик (-3.0),Психиатрия На...\n",
              "Name: Дополнения сводные, Length: 1562, dtype: object"
            ]
          },
          "metadata": {},
          "execution_count": 30
        }
      ]
    },
    {
      "cell_type": "code",
      "source": [
        "#Токенизируем Дополнительные комментарии специалистов и подготавиваем для трейна\n",
        "tokenizer_additions = MyTokenizer(num_words=1000, filters='!\"#$%&()*+,-–—./:;<=>?@[\\]^_`{|}~\\t\\n\\xa0', lower=True, split=' ', oov_token='unknown', char_level=False)\n",
        "tokenizer_additions.process_data(df[FIELD_NEW_CLIENT_ADDITIONS]) \n",
        "xTrainAdditions = tokenizer_additions.indexed.get_padded()\n",
        "\n"
      ],
      "metadata": {
        "id": "gBxhNt9CdyuY"
      },
      "execution_count": null,
      "outputs": []
    },
    {
      "cell_type": "code",
      "source": [
        "df[FIELD_NEW_CLIENT_DIAG]"
      ],
      "metadata": {
        "colab": {
          "base_uri": "https://localhost:8080/"
        },
        "id": "0gedMUUbLK46",
        "outputId": "e251905e-afe6-4904-af94-910df2a230e2"
      },
      "execution_count": null,
      "outputs": [
        {
          "output_type": "execute_result",
          "data": {
            "text/plain": [
              "0                                                        \n",
              "1       Терапия Гипертензивная [гипертоническая] болез...\n",
              "2                                    Офтальмология Миопия\n",
              "3                                                        \n",
              "4                               Офтальмология Астигматизм\n",
              "                              ...                        \n",
              "1956                                 Офтальмология Миопия\n",
              "1957                                                     \n",
              "1958                                                     \n",
              "1968                                                     \n",
              "1969                                                     \n",
              "Name: Diagnoz, Length: 1562, dtype: object"
            ]
          },
          "metadata": {},
          "execution_count": 33
        }
      ]
    },
    {
      "cell_type": "code",
      "source": [
        "#Токенизируем Сводные диагнозы и подготавиваем для трейна\n",
        "tokenizer_diagnose = MyTokenizer(num_words=1000, filters='!\"#$%&()*+,-–—./:;<=>?@[\\]^_`{|}~\\t\\n\\xa0', lower=True, split=' ', oov_token='unknown', char_level=False)\n",
        "tokenizer_diagnose.process_data(df[FIELD_NEW_CLIENT_DIAG]) \n",
        "xTrainDiag = tokenizer_diagnose.indexed.get_padded()\n"
      ],
      "metadata": {
        "colab": {
          "base_uri": "https://localhost:8080/"
        },
        "id": "A5gWUVKqcZ2z",
        "outputId": "46694733-0e5f-478d-d2f3-e411e62a8001"
      },
      "execution_count": null,
      "outputs": [
        {
          "output_type": "stream",
          "name": "stderr",
          "text": [
            "/usr/local/lib/python3.10/dist-packages/numpy/lib/function_base.py:2336: VisibleDeprecationWarning: Creating an ndarray from ragged nested sequences (which is a list-or-tuple of lists-or-tuples-or ndarrays with different lengths or shapes) is deprecated. If you meant to do this, you must specify 'dtype=object' when creating the ndarray.\n",
            "  args = [asarray(arg) for arg in args]\n"
          ]
        }
      ]
    },
    {
      "cell_type": "code",
      "source": [
        "x_train, x_test, x_train_mkb, x_test_mkb, x_train_harmfull, x_test_harmfull, x_train_prof, x_test_prof, x_train_additions, x_test_additions, x_train_diag, x_test_diag,  y_train, y_test = train_test_split(xTrain0,\n",
        "                                                                                                              xTrainMkb,\n",
        "                                                                                                              xTrainHarmFull,\n",
        "                                                                                                              xTrainProf,\n",
        "                                                                                                              xTrainAdditions, \n",
        "                                                                                                              xTrainDiag,                                                                                                            \n",
        "                                                                                                              yTrain, \n",
        "                                                                                                              test_size=0.2,\n",
        "                                                                                                              shuffle = False)"
      ],
      "metadata": {
        "id": "PFlbTaYhzEZG"
      },
      "outputs": [],
      "execution_count": null
    },
    {
      "cell_type": "code",
      "source": [
        "from os import name\n",
        "# На этот вход подаются все OHE\n",
        "input0 = Input((x_train.shape[1], ), name=\"OHE\")\n",
        "# Сюда подаются mkb в виде последовательности токенов , поскольку они уже объединины в одой колонке\n",
        "input_mkb = Input((x_train_mkb.shape[1],), name=\"MKB\")\n",
        "# Сюда подаются вредные факторы тоже аналогично мкб , как будто это предложение из токенов \n",
        "input_harmfull = Input((x_train_harmfull.shape[1],), name=\"harm\")\n",
        "# Сюда подаются профессии , тоже как предложение токенов\n",
        "input_prof = Input((x_train_prof.shape[1],), name=\"prof\")\n",
        "# Дополнения от специалистов\n",
        "input_additions = Input((x_train_additions.shape[1],), name=\"additions\")\n",
        "# Диагнозы от специалистов (текст)\n",
        "input_diag = Input((x_train_diag.shape[1],), name=\"diag\")"
      ],
      "metadata": {
        "id": "xBK0bLli6rua"
      },
      "outputs": [],
      "execution_count": null
    },
    {
      "cell_type": "code",
      "source": [
        "print(\n",
        "    input_harmfull.shape,\n",
        "    input_prof.shape,\n",
        "    input_additions.shape,\n",
        "    input_diag.shape\n",
        ")\n"
      ],
      "metadata": {
        "id": "SffH7HpWIQBk",
        "outputId": "cfd3c25e-45f6-4f98-d1d1-521fadbe9982",
        "colab": {
          "base_uri": "https://localhost:8080/"
        }
      },
      "outputs": [
        {
          "output_type": "stream",
          "name": "stdout",
          "text": [
            "(None, 13) (None, 12) (None, 117) (None, 108)\n"
          ]
        }
      ],
      "execution_count": null
    },
    {
      "cell_type": "code",
      "source": [
        "def create_model1(input0, input_mkb, input_harmfull, input_prof):\n",
        "  x0 = BatchNormalization()(input0)\n",
        "  x0 = Dense(1024, activation='relu') (x0)\n",
        "  x0 = BatchNormalization()(x0)\n",
        "  x0 = Dropout(0.3)(x0)\n",
        "  x0 = Dense(768, activation='sigmoid')(x0)\n",
        "  x0 = BatchNormalization()(x0)\n",
        "  x0 = Dropout(0.3)(x0)\n",
        "  x0 = Dense(512, activation='sigmoid')(x0)\n",
        "\n",
        "  x1 = Embedding(tokenizer_mkb.vocab_size, 128,  input_length = tokenizer_mkb.indexed.max_len)(input_mkb)\n",
        "  x1 = SpatialDropout1D(0.2)(x1)\n",
        "  x1 = Dense(100, activation = 'sigmoid')(x1)\n",
        "  #x1 = Flatten()(x1)\n",
        "\n",
        "  x2 = Embedding(tokenizer_harmfull.vocab_size, 128, input_length = tokenizer_harmfull.indexed.max_len)(input_harmfull)\n",
        "  x2 = SpatialDropout1D(0.2)(x2)\n",
        "  x2 = Dense(100, activation = 'sigmoid')(x2)\n",
        "  #x2 = Flatten()(x2)\n",
        "\n",
        " # x3 = Embedding(prof_vocab_size, 256, input_length = prof_max_len)(input_prof)\n",
        " # x3 = SpatialDropout1D(0.2)(x3)\n",
        "  x3 = Dense(100, activation = 'sigmoid')(input_prof)\n",
        "  x3 = Reshape((1, 100))(x3)\n",
        "\n",
        "  #x3 = Flatten()(x3)\n",
        "\n",
        "  x_ = concatenate([x1, x2, x3], axis = -2)\n",
        "  x_ = Flatten()(x_)\n",
        "  x = concatenate([x0, x_])\n",
        "\n",
        "\n",
        "  x = Dense(800, activation = 'relu')(x)\n",
        "  x = BatchNormalization()(x)\n",
        "  x = Dropout(0.3)(x)\n",
        "  x = Dense(Y_CLASSES, activation='softmax')(x)\n",
        "\n",
        "  return Model((input0, input_mkb, input_harmfull, input_prof), x )\n"
      ],
      "metadata": {
        "id": "1S2NAzZw8Um2"
      },
      "execution_count": null,
      "outputs": []
    },
    {
      "cell_type": "markdown",
      "source": [
        "Модель 1"
      ],
      "metadata": {
        "id": "-SeONgscAh-x"
      }
    },
    {
      "cell_type": "code",
      "source": [
        "#model1 = create_model1(input0, input_mkb, input_harmfull, input_prof)\n",
        "#utils.plot_model(model1, dpi=60, show_shapes = True)\n"
      ],
      "metadata": {
        "id": "sTqDxSXnmA8h"
      },
      "execution_count": null,
      "outputs": []
    },
    {
      "cell_type": "code",
      "source": [
        "def f1_score_keras(y_true, y_pred):\n",
        "    y_pred = tf.round(y_pred)  # Округление предсказанных значений до 0 или 1\n",
        "    return skl_metrics.f1_score(y_true, y_pred)\n",
        "\n",
        "f1score = tfad.metrics.F1Score(num_classes=Y_CLASSES)\n"
      ],
      "metadata": {
        "id": "buEdBBV-HLa7"
      },
      "execution_count": null,
      "outputs": []
    },
    {
      "cell_type": "code",
      "source": [
        "#model1.compile(optimizer = Adam(learning_rate = 1e-5), loss = keras_losses.categorical_crossentropy, metrics=['mae', 'accuracy'])"
      ],
      "metadata": {
        "id": "CTNtSx_GVWkS"
      },
      "execution_count": null,
      "outputs": []
    },
    {
      "cell_type": "code",
      "source": [
        "\n",
        "# Визуальная оценка ошибки на обучающей и проверочной выборках\n",
        "\n",
        "def compare_sharp_loss (history, x_size, y_size):\n",
        "  \n",
        "  plt.figure(figsize=(x_size,y_size))\n",
        "  plt.plot(history.history['loss'], \n",
        "         label='Ошибка на обучающей выборке')\n",
        "  \n",
        "  plt.plot(history.history['val_loss'], \n",
        "         label='Ошибка проверочном наборе')\n",
        "  plt.xlabel('Эпоха обучения')\n",
        "  plt.ylabel('Средняя ошибка')\n",
        "  plt.legend()\n",
        "  plt.show()"
      ],
      "metadata": {
        "id": "WPAL3J7rnIWW"
      },
      "outputs": [],
      "execution_count": null
    },
    {
      "cell_type": "code",
      "source": [
        "#history = model1.fit([x_train, x_train_mkb, x_train_harmfull, x_train_prof],\n",
        "#                    y_train,\n",
        "#                    batch_size=32,\n",
        "#                    epochs = 100,\n",
        "#                    validation_split = 0.2,\n",
        "#                    verbose = 1)"
      ],
      "metadata": {
        "id": "lZAupbFKWh7p"
      },
      "execution_count": null,
      "outputs": []
    },
    {
      "cell_type": "code",
      "source": [
        "#model1.save(\"drive/MyDrive/prof_patolog/model1.h5\")"
      ],
      "metadata": {
        "id": "whZkyE6zCdYx"
      },
      "execution_count": null,
      "outputs": []
    },
    {
      "cell_type": "code",
      "source": [],
      "metadata": {
        "id": "8PrFp11XECZ0"
      },
      "execution_count": null,
      "outputs": []
    },
    {
      "cell_type": "code",
      "source": [
        "#дообучение\n",
        "#model1.compile(optimizer = Adam(learning_rate = 5e-6), loss = keras_losses.categorical_crossentropy, metrics=['mae', 'accuracy'])\n",
        "#history = model1.fit([x_train, x_train_mkb, x_train_harmfull, x_train_prof], #model1.fit([x_train, x_train_mkb, x_train_harmfull, x_train_prof],\n",
        "##                    y_train,\n",
        "#                    batch_size=32,\n",
        "#                    epochs = 50,\n",
        "#                    validation_split = 0.2,\n",
        "#                    verbose = 1)"
      ],
      "metadata": {
        "id": "O1OChdi9DvsQ"
      },
      "execution_count": null,
      "outputs": []
    },
    {
      "cell_type": "code",
      "source": [
        "#compare_sharp_loss(history, 10, 4)"
      ],
      "metadata": {
        "id": "1FPBsoMznK7C"
      },
      "execution_count": null,
      "outputs": []
    },
    {
      "cell_type": "markdown",
      "source": [
        "Модель 2"
      ],
      "metadata": {
        "id": "w8Y5yUGDBHEk"
      }
    },
    {
      "cell_type": "code",
      "source": [
        "x0 = BatchNormalization()(input0)\n",
        "x0 = Dense(1024, activation='relu') (x0)\n",
        "x0 = BatchNormalization()(x0)\n",
        "x0 = Dropout(0.3)(x0)\n",
        "x0 = Dense(768, activation='sigmoid')(x0)\n",
        "x0 = BatchNormalization()(x0)\n",
        "x0 = Dropout(0.3)(x0)\n",
        "x0 = Dense(512, activation='sigmoid')(x0)\n",
        "\n",
        "x1 = Embedding(tokenizer_mkb.vocab_size, 128, input_length = tokenizer_mkb.indexed.max_len)(input_mkb)\n",
        "x1 = SpatialDropout1D(0.2)(x1)\n",
        "x1 = Conv1D(128,3, activation = 'relu', padding='same')(x1)\n",
        "x1 = GlobalMaxPooling1D()(x1)\n",
        "x1 = Dense(256, activation = 'sigmoid')(x1)\n",
        "#x1 = Flatten()(x1)\n",
        "\n",
        "x2 = Embedding(tokenizer_harmfull.vocab_size, 128, input_length = tokenizer_harmfull.indexed.max_len)(input_harmfull)\n",
        "x2 = SpatialDropout1D(0.2)(x2)\n",
        "x2 = Conv1D(128,3, activation = 'relu', padding='same')(x2)\n",
        "x2 = GlobalMaxPooling1D()(x2)\n",
        "x2 = Dense(256, activation = 'relu')(x2)\n",
        "#x2 = Flatten()(x2)\n",
        "\n",
        "x3 = Embedding(tokenizer_prof.vocab_size, 256, input_length = tokenizer_prof.indexed.max_len)(input_prof)\n",
        "x3 = SpatialDropout1D(0.2)(x3)\n",
        "x3 = Conv1D(128,2, activation = 'relu', padding='same')(x3)\n",
        "x3 = GlobalMaxPooling1D()(x3)\n",
        "x3 = Dense(256, activation = 'relu')(x3)\n",
        "#x3 = Flatten()(x3)\n",
        "\n",
        "x4 = Embedding(tokenizer_additions.vocab_size, 256, input_length = tokenizer_additions.indexed.max_len)(input_additions)\n",
        "x4 = SpatialDropout1D(0.2)(x4)\n",
        "x4 = Conv1D(128,2, activation = 'relu', padding='same')(x4)\n",
        "x4 = GlobalMaxPooling1D()(x4)\n",
        "x4 = Dense(256, activation = 'relu')(x4)\n",
        "#x3 = Flatten()(x3)\n",
        "\n",
        "x = concatenate([x0,x1, x2, x3, x4])\n",
        "x = Dense(800, activation = 'relu')(x)\n",
        "x = BatchNormalization()(x)\n",
        "x = Dropout(0.3)(x)\n",
        "x = Dense(Y_CLASSES, activation='softmax')(x)\n",
        "\n",
        "model2 =  Model((input0, input_mkb, input_harmfull, input_prof, input_additions), x )\n",
        "model2.compile(optimizer = Adam(learning_rate = 1e-4), loss = keras_losses.mse, metrics=[keras_metrics.mae, f1score])\n"
      ],
      "metadata": {
        "id": "90seVJWImma1"
      },
      "outputs": [],
      "execution_count": null
    },
    {
      "cell_type": "code",
      "source": [
        "utils.plot_model(model2, dpi=60, show_shapes = True)\n"
      ],
      "metadata": {
        "colab": {
          "base_uri": "https://localhost:8080/",
          "height": 758
        },
        "id": "G7GjGfp_qV4Q",
        "outputId": "edbafe43-e16f-4e83-cef2-ad61d07ce5d0"
      },
      "outputs": [
        {
          "output_type": "execute_result",
          "data": {
            "image/png": "[encoded data removed]",
            "text/plain": [
              "<IPython.core.display.Image object>"
            ]
          },
          "metadata": {},
          "execution_count": 227
        }
      ],
      "execution_count": null
    },
    {
      "cell_type": "code",
      "source": [
        "print(x_train.shape,x_train_mkb.shape, x_train_harmfull.shape, x_train_prof.shape, x_train_additions.shape)"
      ],
      "metadata": {
        "colab": {
          "base_uri": "https://localhost:8080/"
        },
        "id": "I9XGqLuDNosI",
        "outputId": "8fbef807-d6af-41bb-c879-069cce87b643"
      },
      "execution_count": null,
      "outputs": [
        {
          "output_type": "stream",
          "name": "stdout",
          "text": [
            "(1249, 16) (1249, 48) (1249, 13) (1249, 12) (1249, 117)\n"
          ]
        }
      ]
    },
    {
      "cell_type": "code",
      "source": [
        "history = model2.fit([x_train, x_train_mkb, x_train_harmfull, x_train_prof, x_train_additions],\n",
        "                    y_train,\n",
        "                    batch_size=32,\n",
        "                    epochs = 70,\n",
        "                    validation_split = 0.20,\n",
        "                    verbose = 1)"
      ],
      "metadata": {
        "colab": {
          "base_uri": "https://localhost:8080/"
        },
        "id": "Y2UTfoQxnhdo",
        "outputId": "e11eb7b0-b438-4c8a-f2ef-b8d68bbf5512"
      },
      "outputs": [
        {
          "output_type": "stream",
          "name": "stdout",
          "text": [
            "Epoch 1/70\n",
            "32/32 [==============================] - 39s 633ms/step - loss: 0.2403 - mean_absolute_error: 0.3551 - f1_score: 0.3069 - val_loss: 0.1514 - val_mean_absolute_error: 0.3631 - val_f1_score: 0.3158\n",
            "Epoch 2/70\n",
            "32/32 [==============================] - 7s 190ms/step - loss: 0.1654 - mean_absolute_error: 0.2426 - f1_score: 0.3896 - val_loss: 0.1178 - val_mean_absolute_error: 0.3150 - val_f1_score: 0.3158\n",
            "Epoch 3/70\n",
            "32/32 [==============================] - 6s 175ms/step - loss: 0.1426 - mean_absolute_error: 0.1947 - f1_score: 0.3960 - val_loss: 0.0929 - val_mean_absolute_error: 0.2717 - val_f1_score: 0.3158\n",
            "Epoch 4/70\n",
            "32/32 [==============================] - 3s 112ms/step - loss: 0.1357 - mean_absolute_error: 0.1787 - f1_score: 0.4132 - val_loss: 0.0807 - val_mean_absolute_error: 0.2470 - val_f1_score: 0.3158\n",
            "Epoch 5/70\n",
            "32/32 [==============================] - 4s 125ms/step - loss: 0.1352 - mean_absolute_error: 0.1779 - f1_score: 0.4190 - val_loss: 0.0786 - val_mean_absolute_error: 0.2413 - val_f1_score: 0.4172\n",
            "Epoch 6/70\n",
            "32/32 [==============================] - 3s 104ms/step - loss: 0.1334 - mean_absolute_error: 0.1728 - f1_score: 0.4231 - val_loss: 0.0734 - val_mean_absolute_error: 0.2167 - val_f1_score: 0.4533\n",
            "Epoch 7/70\n",
            "32/32 [==============================] - 3s 97ms/step - loss: 0.1319 - mean_absolute_error: 0.1728 - f1_score: 0.4360 - val_loss: 0.0782 - val_mean_absolute_error: 0.1982 - val_f1_score: 0.4633\n",
            "Epoch 8/70\n",
            "32/32 [==============================] - 3s 91ms/step - loss: 0.1292 - mean_absolute_error: 0.1650 - f1_score: 0.4329 - val_loss: 0.0858 - val_mean_absolute_error: 0.1801 - val_f1_score: 0.4674\n",
            "Epoch 9/70\n",
            "32/32 [==============================] - 4s 133ms/step - loss: 0.1279 - mean_absolute_error: 0.1638 - f1_score: 0.4250 - val_loss: 0.0928 - val_mean_absolute_error: 0.1621 - val_f1_score: 0.4601\n",
            "Epoch 10/70\n",
            "32/32 [==============================] - 2s 51ms/step - loss: 0.1271 - mean_absolute_error: 0.1655 - f1_score: 0.4607 - val_loss: 0.0903 - val_mean_absolute_error: 0.1389 - val_f1_score: 0.4717\n",
            "Epoch 11/70\n",
            "32/32 [==============================] - 3s 82ms/step - loss: 0.1237 - mean_absolute_error: 0.1607 - f1_score: 0.4604 - val_loss: 0.0911 - val_mean_absolute_error: 0.1288 - val_f1_score: 0.4674\n",
            "Epoch 12/70\n",
            "32/32 [==============================] - 2s 48ms/step - loss: 0.1291 - mean_absolute_error: 0.1659 - f1_score: 0.4521 - val_loss: 0.0914 - val_mean_absolute_error: 0.1317 - val_f1_score: 0.4717\n",
            "Epoch 13/70\n",
            "32/32 [==============================] - 1s 43ms/step - loss: 0.1227 - mean_absolute_error: 0.1604 - f1_score: 0.4656 - val_loss: 0.0947 - val_mean_absolute_error: 0.1297 - val_f1_score: 0.4489\n",
            "Epoch 14/70\n",
            "32/32 [==============================] - 1s 37ms/step - loss: 0.1236 - mean_absolute_error: 0.1612 - f1_score: 0.4597 - val_loss: 0.0943 - val_mean_absolute_error: 0.1313 - val_f1_score: 0.4365\n",
            "Epoch 15/70\n",
            "32/32 [==============================] - 2s 48ms/step - loss: 0.1223 - mean_absolute_error: 0.1561 - f1_score: 0.4674 - val_loss: 0.0943 - val_mean_absolute_error: 0.1299 - val_f1_score: 0.4619\n",
            "Epoch 16/70\n",
            "32/32 [==============================] - 2s 65ms/step - loss: 0.1220 - mean_absolute_error: 0.1601 - f1_score: 0.4707 - val_loss: 0.1024 - val_mean_absolute_error: 0.1341 - val_f1_score: 0.4396\n",
            "Epoch 17/70\n",
            "32/32 [==============================] - 1s 37ms/step - loss: 0.1215 - mean_absolute_error: 0.1556 - f1_score: 0.4602 - val_loss: 0.1054 - val_mean_absolute_error: 0.1362 - val_f1_score: 0.4219\n",
            "Epoch 18/70\n",
            "32/32 [==============================] - 1s 30ms/step - loss: 0.1200 - mean_absolute_error: 0.1580 - f1_score: 0.4746 - val_loss: 0.0985 - val_mean_absolute_error: 0.1339 - val_f1_score: 0.4348\n",
            "Epoch 19/70\n",
            "32/32 [==============================] - 2s 50ms/step - loss: 0.1197 - mean_absolute_error: 0.1571 - f1_score: 0.4765 - val_loss: 0.0958 - val_mean_absolute_error: 0.1223 - val_f1_score: 0.4674\n",
            "Epoch 20/70\n",
            "32/32 [==============================] - 1s 41ms/step - loss: 0.1200 - mean_absolute_error: 0.1573 - f1_score: 0.4676 - val_loss: 0.0933 - val_mean_absolute_error: 0.1256 - val_f1_score: 0.4787\n",
            "Epoch 21/70\n",
            "32/32 [==============================] - 2s 49ms/step - loss: 0.1206 - mean_absolute_error: 0.1610 - f1_score: 0.4592 - val_loss: 0.0961 - val_mean_absolute_error: 0.1331 - val_f1_score: 0.4600\n",
            "Epoch 22/70\n",
            "32/32 [==============================] - 1s 23ms/step - loss: 0.1187 - mean_absolute_error: 0.1566 - f1_score: 0.4727 - val_loss: 0.1003 - val_mean_absolute_error: 0.1331 - val_f1_score: 0.4748\n",
            "Epoch 23/70\n",
            "32/32 [==============================] - 1s 38ms/step - loss: 0.1168 - mean_absolute_error: 0.1545 - f1_score: 0.4831 - val_loss: 0.0941 - val_mean_absolute_error: 0.1206 - val_f1_score: 0.4652\n",
            "Epoch 24/70\n",
            "32/32 [==============================] - 1s 37ms/step - loss: 0.1158 - mean_absolute_error: 0.1522 - f1_score: 0.4883 - val_loss: 0.0976 - val_mean_absolute_error: 0.1291 - val_f1_score: 0.4613\n",
            "Epoch 25/70\n",
            "32/32 [==============================] - 1s 47ms/step - loss: 0.1202 - mean_absolute_error: 0.1605 - f1_score: 0.4662 - val_loss: 0.0986 - val_mean_absolute_error: 0.1318 - val_f1_score: 0.4444\n",
            "Epoch 26/70\n",
            "32/32 [==============================] - 1s 43ms/step - loss: 0.1162 - mean_absolute_error: 0.1594 - f1_score: 0.4822 - val_loss: 0.0959 - val_mean_absolute_error: 0.1236 - val_f1_score: 0.4384\n",
            "Epoch 27/70\n",
            "32/32 [==============================] - 1s 30ms/step - loss: 0.1118 - mean_absolute_error: 0.1514 - f1_score: 0.4915 - val_loss: 0.1082 - val_mean_absolute_error: 0.1325 - val_f1_score: 0.3828\n",
            "Epoch 28/70\n",
            "32/32 [==============================] - 1s 36ms/step - loss: 0.1111 - mean_absolute_error: 0.1532 - f1_score: 0.4954 - val_loss: 0.0903 - val_mean_absolute_error: 0.1209 - val_f1_score: 0.4463\n",
            "Epoch 29/70\n",
            "32/32 [==============================] - 1s 16ms/step - loss: 0.1095 - mean_absolute_error: 0.1578 - f1_score: 0.4812 - val_loss: 0.0858 - val_mean_absolute_error: 0.1171 - val_f1_score: 0.4564\n",
            "Epoch 30/70\n",
            "32/32 [==============================] - 1s 31ms/step - loss: 0.1069 - mean_absolute_error: 0.1626 - f1_score: 0.5001 - val_loss: 0.0862 - val_mean_absolute_error: 0.1083 - val_f1_score: 0.4356\n",
            "Epoch 31/70\n",
            "32/32 [==============================] - 1s 23ms/step - loss: 0.0892 - mean_absolute_error: 0.1431 - f1_score: 0.5066 - val_loss: 0.0914 - val_mean_absolute_error: 0.1220 - val_f1_score: 0.4313\n",
            "Epoch 32/70\n",
            "32/32 [==============================] - 1s 30ms/step - loss: 0.0804 - mean_absolute_error: 0.1325 - f1_score: 0.5257 - val_loss: 0.0886 - val_mean_absolute_error: 0.1202 - val_f1_score: 0.4286\n",
            "Epoch 33/70\n",
            "32/32 [==============================] - 1s 41ms/step - loss: 0.0727 - mean_absolute_error: 0.1276 - f1_score: 0.5566 - val_loss: 0.0842 - val_mean_absolute_error: 0.1415 - val_f1_score: 0.4605\n",
            "Epoch 34/70\n",
            "32/32 [==============================] - 1s 23ms/step - loss: 0.0671 - mean_absolute_error: 0.1220 - f1_score: 0.5501 - val_loss: 0.0796 - val_mean_absolute_error: 0.1412 - val_f1_score: 0.4443\n",
            "Epoch 35/70\n",
            "32/32 [==============================] - 1s 16ms/step - loss: 0.0638 - mean_absolute_error: 0.1181 - f1_score: 0.5685 - val_loss: 0.0926 - val_mean_absolute_error: 0.1636 - val_f1_score: 0.4501\n",
            "Epoch 36/70\n",
            "32/32 [==============================] - 1s 23ms/step - loss: 0.0570 - mean_absolute_error: 0.1184 - f1_score: 0.5948 - val_loss: 0.1223 - val_mean_absolute_error: 0.2396 - val_f1_score: 0.4217\n",
            "Epoch 37/70\n",
            "32/32 [==============================] - 1s 29ms/step - loss: 0.0426 - mean_absolute_error: 0.0996 - f1_score: 0.6142 - val_loss: 0.0784 - val_mean_absolute_error: 0.1706 - val_f1_score: 0.4389\n",
            "Epoch 38/70\n",
            "32/32 [==============================] - 1s 32ms/step - loss: 0.0225 - mean_absolute_error: 0.0832 - f1_score: 0.7898 - val_loss: 0.0622 - val_mean_absolute_error: 0.1242 - val_f1_score: 0.4531\n",
            "Epoch 39/70\n",
            "32/32 [==============================] - 1s 47ms/step - loss: 0.0183 - mean_absolute_error: 0.0693 - f1_score: 0.7878 - val_loss: 0.0507 - val_mean_absolute_error: 0.0981 - val_f1_score: 0.4760\n",
            "Epoch 40/70\n",
            "32/32 [==============================] - 1s 19ms/step - loss: 0.0148 - mean_absolute_error: 0.0593 - f1_score: 0.7765 - val_loss: 0.0706 - val_mean_absolute_error: 0.1510 - val_f1_score: 0.4600\n",
            "Epoch 41/70\n",
            "32/32 [==============================] - 1s 24ms/step - loss: 0.0108 - mean_absolute_error: 0.0473 - f1_score: 0.8951 - val_loss: 0.0605 - val_mean_absolute_error: 0.1099 - val_f1_score: 0.4662\n",
            "Epoch 42/70\n",
            "32/32 [==============================] - 1s 30ms/step - loss: 0.0091 - mean_absolute_error: 0.0417 - f1_score: 0.8946 - val_loss: 0.0586 - val_mean_absolute_error: 0.1028 - val_f1_score: 0.4406\n",
            "Epoch 43/70\n",
            "32/32 [==============================] - 1s 22ms/step - loss: 0.0085 - mean_absolute_error: 0.0377 - f1_score: 0.8177 - val_loss: 0.0557 - val_mean_absolute_error: 0.0927 - val_f1_score: 0.4461\n",
            "Epoch 44/70\n",
            "32/32 [==============================] - 1s 23ms/step - loss: 0.0091 - mean_absolute_error: 0.0378 - f1_score: 0.8365 - val_loss: 0.0534 - val_mean_absolute_error: 0.0851 - val_f1_score: 0.4571\n",
            "Epoch 45/70\n",
            "32/32 [==============================] - 1s 16ms/step - loss: 0.0067 - mean_absolute_error: 0.0315 - f1_score: 0.9053 - val_loss: 0.0602 - val_mean_absolute_error: 0.0946 - val_f1_score: 0.4584\n",
            "Epoch 46/70\n",
            "32/32 [==============================] - 1s 23ms/step - loss: 0.0079 - mean_absolute_error: 0.0327 - f1_score: 0.8708 - val_loss: 0.0560 - val_mean_absolute_error: 0.0939 - val_f1_score: 0.4708\n",
            "Epoch 47/70\n",
            "32/32 [==============================] - 1s 29ms/step - loss: 0.0054 - mean_absolute_error: 0.0278 - f1_score: 0.9518 - val_loss: 0.0552 - val_mean_absolute_error: 0.0906 - val_f1_score: 0.4622\n",
            "Epoch 48/70\n",
            "32/32 [==============================] - 1s 23ms/step - loss: 0.0053 - mean_absolute_error: 0.0255 - f1_score: 0.9033 - val_loss: 0.0639 - val_mean_absolute_error: 0.0990 - val_f1_score: 0.4545\n",
            "Epoch 49/70\n",
            "32/32 [==============================] - 1s 23ms/step - loss: 0.0057 - mean_absolute_error: 0.0254 - f1_score: 0.8991 - val_loss: 0.0593 - val_mean_absolute_error: 0.0936 - val_f1_score: 0.4787\n",
            "Epoch 50/70\n",
            "32/32 [==============================] - 1s 23ms/step - loss: 0.0055 - mean_absolute_error: 0.0244 - f1_score: 0.9033 - val_loss: 0.0611 - val_mean_absolute_error: 0.0931 - val_f1_score: 0.4744\n",
            "Epoch 51/70\n",
            "32/32 [==============================] - 1s 36ms/step - loss: 0.0043 - mean_absolute_error: 0.0204 - f1_score: 0.9034 - val_loss: 0.0623 - val_mean_absolute_error: 0.0974 - val_f1_score: 0.4424\n",
            "Epoch 52/70\n",
            "32/32 [==============================] - 1s 31ms/step - loss: 0.0049 - mean_absolute_error: 0.0219 - f1_score: 0.9221 - val_loss: 0.0642 - val_mean_absolute_error: 0.0983 - val_f1_score: 0.4585\n",
            "Epoch 53/70\n",
            "32/32 [==============================] - 1s 24ms/step - loss: 0.0038 - mean_absolute_error: 0.0199 - f1_score: 0.9562 - val_loss: 0.0648 - val_mean_absolute_error: 0.0974 - val_f1_score: 0.4584\n",
            "Epoch 54/70\n",
            "32/32 [==============================] - 1s 34ms/step - loss: 0.0048 - mean_absolute_error: 0.0212 - f1_score: 0.8798 - val_loss: 0.0660 - val_mean_absolute_error: 0.1014 - val_f1_score: 0.4105\n",
            "Epoch 55/70\n",
            "32/32 [==============================] - 1s 23ms/step - loss: 0.0051 - mean_absolute_error: 0.0210 - f1_score: 0.9054 - val_loss: 0.0739 - val_mean_absolute_error: 0.1058 - val_f1_score: 0.4245\n",
            "Epoch 56/70\n",
            "32/32 [==============================] - 1s 16ms/step - loss: 0.0042 - mean_absolute_error: 0.0200 - f1_score: 0.9076 - val_loss: 0.0646 - val_mean_absolute_error: 0.0944 - val_f1_score: 0.4623\n",
            "Epoch 57/70\n",
            "32/32 [==============================] - 0s 15ms/step - loss: 0.0041 - mean_absolute_error: 0.0186 - f1_score: 0.8819 - val_loss: 0.0680 - val_mean_absolute_error: 0.0981 - val_f1_score: 0.4437\n",
            "Epoch 58/70\n",
            "32/32 [==============================] - 1s 30ms/step - loss: 0.0035 - mean_absolute_error: 0.0173 - f1_score: 0.9562 - val_loss: 0.0612 - val_mean_absolute_error: 0.0897 - val_f1_score: 0.4584\n",
            "Epoch 59/70\n",
            "32/32 [==============================] - 1s 23ms/step - loss: 0.0044 - mean_absolute_error: 0.0190 - f1_score: 0.8819 - val_loss: 0.0678 - val_mean_absolute_error: 0.0980 - val_f1_score: 0.4265\n",
            "Epoch 60/70\n",
            "32/32 [==============================] - 1s 16ms/step - loss: 0.0046 - mean_absolute_error: 0.0178 - f1_score: 0.9475 - val_loss: 0.0648 - val_mean_absolute_error: 0.0950 - val_f1_score: 0.4499\n",
            "Epoch 61/70\n",
            "32/32 [==============================] - 1s 16ms/step - loss: 0.0047 - mean_absolute_error: 0.0187 - f1_score: 0.9477 - val_loss: 0.0620 - val_mean_absolute_error: 0.0901 - val_f1_score: 0.4623\n",
            "Epoch 62/70\n",
            "32/32 [==============================] - 1s 23ms/step - loss: 0.0047 - mean_absolute_error: 0.0190 - f1_score: 0.9501 - val_loss: 0.0637 - val_mean_absolute_error: 0.0915 - val_f1_score: 0.4623\n",
            "Epoch 63/70\n",
            "32/32 [==============================] - 1s 28ms/step - loss: 0.0028 - mean_absolute_error: 0.0148 - f1_score: 0.9935 - val_loss: 0.0604 - val_mean_absolute_error: 0.0888 - val_f1_score: 0.4662\n",
            "Epoch 64/70\n",
            "32/32 [==============================] - 1s 16ms/step - loss: 0.0034 - mean_absolute_error: 0.0150 - f1_score: 0.8594 - val_loss: 0.0661 - val_mean_absolute_error: 0.0940 - val_f1_score: 0.4548\n",
            "Epoch 65/70\n",
            "32/32 [==============================] - 0s 15ms/step - loss: 0.0032 - mean_absolute_error: 0.0157 - f1_score: 0.9542 - val_loss: 0.0698 - val_mean_absolute_error: 0.0987 - val_f1_score: 0.4437\n",
            "Epoch 66/70\n",
            "32/32 [==============================] - 1s 17ms/step - loss: 0.0029 - mean_absolute_error: 0.0131 - f1_score: 0.8840 - val_loss: 0.0705 - val_mean_absolute_error: 0.1000 - val_f1_score: 0.4472\n",
            "Epoch 67/70\n",
            "32/32 [==============================] - 1s 23ms/step - loss: 0.0029 - mean_absolute_error: 0.0133 - f1_score: 0.9935 - val_loss: 0.0819 - val_mean_absolute_error: 0.1106 - val_f1_score: 0.4310\n",
            "Epoch 68/70\n",
            "32/32 [==============================] - 1s 23ms/step - loss: 0.0030 - mean_absolute_error: 0.0146 - f1_score: 0.9563 - val_loss: 0.0753 - val_mean_absolute_error: 0.1054 - val_f1_score: 0.4348\n",
            "Epoch 69/70\n",
            "32/32 [==============================] - 1s 17ms/step - loss: 0.0025 - mean_absolute_error: 0.0122 - f1_score: 0.9286 - val_loss: 0.0769 - val_mean_absolute_error: 0.1077 - val_f1_score: 0.4411\n",
            "Epoch 70/70\n",
            "32/32 [==============================] - 0s 16ms/step - loss: 0.0030 - mean_absolute_error: 0.0123 - f1_score: 0.9892 - val_loss: 0.0784 - val_mean_absolute_error: 0.1103 - val_f1_score: 0.4288\n"
          ]
        }
      ],
      "execution_count": null
    },
    {
      "cell_type": "code",
      "source": [
        "compare_sharp_loss(history, 10, 4)"
      ],
      "metadata": {
        "colab": {
          "base_uri": "https://localhost:8080/",
          "height": 391
        },
        "id": "HSwLxs6rpGFT",
        "outputId": "3c4e31ee-f7ac-44f1-9304-5e3886f35899"
      },
      "outputs": [
        {
          "output_type": "display_data",
          "data": {
            "text/plain": [
              "<Figure size 1000x400 with 1 Axes>"
            ],
            "image/png": "[encoded data removed]"
          },
          "metadata": {}
        }
      ],
      "execution_count": null
    },
    {
      "cell_type": "markdown",
      "source": [
        "F1Score"
      ],
      "metadata": {
        "id": "2TUaM2RLUKzM"
      }
    },
    {
      "cell_type": "code",
      "source": [
        "\n",
        "train_f1scores = np.array(history.history['f1_score'])\n",
        "val_f1scores = np.array(history.history['val_f1_score'])\n",
        "plt.figure(figsize=(10,5))\n",
        "\n",
        "for class_idx in range(Y_CLASSES):\n",
        "    color = f'C{class_idx}'\n",
        "    plt.plot(train_f1scores[:, class_idx], color=color, linestyle = '-', label=f'Training (Class {MyUtils.conclusion_map[class_idx]})')\n",
        "    plt.plot(val_f1scores[:, class_idx], color=color, linestyle = '--',label=f'Validation (Class {MyUtils.conclusion_map[class_idx]})')\n",
        "\n",
        "plt.legend(fontsize='small')\n",
        "\n",
        "plt.xlabel('Эпоха обучения')\n",
        "plt.ylabel('Средняя f1score')\n",
        "\n",
        "#plt.title(\"Training and Validation F1 Score by Class\")\n",
        "\n",
        "plt.show()"
      ],
      "metadata": {
        "colab": {
          "base_uri": "https://localhost:8080/",
          "height": 465
        },
        "id": "EPx0-yEULod5",
        "outputId": "a14b4b38-ed67-46e0-d6df-9d8f9d8b0d8c"
      },
      "execution_count": null,
      "outputs": [
        {
          "output_type": "display_data",
          "data": {
            "text/plain": [
              "<Figure size 1000x500 with 1 Axes>"
            ],
            "image/png": "[encoded data removed]"
          },
          "metadata": {}
        }
      ]
    },
    {
      "cell_type": "code",
      "source": [
        "y_pred  = model2.predict((x_test, x_test_mkb, x_test_harmfull, x_test_prof, x_test_additions))\n"
      ],
      "metadata": {
        "id": "LMURxjGRNRm_",
        "outputId": "0e5c9fb3-4077-4746-f222-604466a33a15",
        "colab": {
          "base_uri": "https://localhost:8080/"
        }
      },
      "outputs": [
        {
          "output_type": "stream",
          "name": "stdout",
          "text": [
            "10/10 [==============================] - 0s 21ms/step\n"
          ]
        }
      ],
      "execution_count": null
    },
    {
      "cell_type": "code",
      "source": [
        "print(y_pred[0], '-' , y_test[0])\n"
      ],
      "metadata": {
        "id": "GLQeegaLNWsZ",
        "outputId": "46085d86-b3b7-46b9-8758-eb5c7aed6916",
        "colab": {
          "base_uri": "https://localhost:8080/"
        }
      },
      "outputs": [
        {
          "output_type": "stream",
          "name": "stdout",
          "text": [
            "[1.02908336e-04 9.99894321e-01 2.77734875e-06] - [0 1 0]\n"
          ]
        }
      ],
      "execution_count": null
    },
    {
      "cell_type": "code",
      "source": [
        "y_pred_idx = np.argmax(y_pred, axis=1)\n",
        "y_test_idx = np.argmax(y_test, axis=1)\n",
        "df_result = pd.DataFrame({'pred': y_pred_idx, 'test': y_test_idx})\n",
        "df_result['pred'] = df_result['pred'].apply(MyUtils.resolve_conclusion_map)\n",
        "df_result['test'] = df_result['test'].apply(MyUtils.resolve_conclusion_map)\n",
        "display(df_result)\n",
        "num_wrong = 0\n",
        "for pred, test in zip(y_pred_idx, y_test_idx):\n",
        "    if pred != test:\n",
        "        num_wrong += 1\n",
        "\n",
        "percent_wrong = num_wrong / len(y_test_idx) * 100\n",
        "print(f\"Percent wrong: {percent_wrong:.2f}%\")\n"
      ],
      "metadata": {
        "id": "kpSS2DJQsQ1E",
        "outputId": "36ef5b88-67c0-419d-f63e-a96fa50eee5c",
        "colab": {
          "base_uri": "https://localhost:8080/",
          "height": 441
        }
      },
      "outputs": [
        {
          "output_type": "display_data",
          "data": {
            "text/plain": [
              "      pred   test\n",
              "0    Годен  Годен\n",
              "1    Годен  Годен\n",
              "2    Годен  Годен\n",
              "3    Годен  Годен\n",
              "4    Годен  Годен\n",
              "..     ...    ...\n",
              "308  Годен  Годен\n",
              "309  Годен  Годен\n",
              "310  Годен  Годен\n",
              "311  Годен  Годен\n",
              "312  Годен  Годен\n",
              "\n",
              "[313 rows x 2 columns]"
            ],
            "text/html": [
              "\n",
              "  <div id=\"df-5fa0ad36-02dc-4472-b447-0773fcf2547f\">\n",
              "    <div class=\"colab-df-container\">\n",
              "      <div>\n",
              "<style scoped>\n",
              "    .dataframe tbody tr th:only-of-type {\n",
              "        vertical-align: middle;\n",
              "    }\n",
              "\n",
              "    .dataframe tbody tr th {\n",
              "        vertical-align: top;\n",
              "    }\n",
              "\n",
              "    .dataframe thead th {\n",
              "        text-align: right;\n",
              "    }\n",
              "</style>\n",
              "<table border=\"1\" class=\"dataframe\">\n",
              "  <thead>\n",
              "    <tr style=\"text-align: right;\">\n",
              "      <th></th>\n",
              "      <th>pred</th>\n",
              "      <th>test</th>\n",
              "    </tr>\n",
              "  </thead>\n",
              "  <tbody>\n",
              "    <tr>\n",
              "      <th>0</th>\n",
              "      <td>Годен</td>\n",
              "      <td>Годен</td>\n",
              "    </tr>\n",
              "    <tr>\n",
              "      <th>1</th>\n",
              "      <td>Годен</td>\n",
              "      <td>Годен</td>\n",
              "    </tr>\n",
              "    <tr>\n",
              "      <th>2</th>\n",
              "      <td>Годен</td>\n",
              "      <td>Годен</td>\n",
              "    </tr>\n",
              "    <tr>\n",
              "      <th>3</th>\n",
              "      <td>Годен</td>\n",
              "      <td>Годен</td>\n",
              "    </tr>\n",
              "    <tr>\n",
              "      <th>4</th>\n",
              "      <td>Годен</td>\n",
              "      <td>Годен</td>\n",
              "    </tr>\n",
              "    <tr>\n",
              "      <th>...</th>\n",
              "      <td>...</td>\n",
              "      <td>...</td>\n",
              "    </tr>\n",
              "    <tr>\n",
              "      <th>308</th>\n",
              "      <td>Годен</td>\n",
              "      <td>Годен</td>\n",
              "    </tr>\n",
              "    <tr>\n",
              "      <th>309</th>\n",
              "      <td>Годен</td>\n",
              "      <td>Годен</td>\n",
              "    </tr>\n",
              "    <tr>\n",
              "      <th>310</th>\n",
              "      <td>Годен</td>\n",
              "      <td>Годен</td>\n",
              "    </tr>\n",
              "    <tr>\n",
              "      <th>311</th>\n",
              "      <td>Годен</td>\n",
              "      <td>Годен</td>\n",
              "    </tr>\n",
              "    <tr>\n",
              "      <th>312</th>\n",
              "      <td>Годен</td>\n",
              "      <td>Годен</td>\n",
              "    </tr>\n",
              "  </tbody>\n",
              "</table>\n",
              "<p>313 rows × 2 columns</p>\n",
              "</div>\n",
              "      <button class=\"colab-df-convert\" onclick=\"convertToInteractive('df-5fa0ad36-02dc-4472-b447-0773fcf2547f')\"\n",
              "              title=\"Convert this dataframe to an interactive table.\"\n",
              "              style=\"display:none;\">\n",
              "        \n",
              "  <svg xmlns=\"http://www.w3.org/2000/svg\" height=\"24px\"viewBox=\"0 0 24 24\"\n",
              "       width=\"24px\">\n",
              "    <path d=\"M0 0h24v24H0V0z\" fill=\"none\"/>\n",
              "    <path d=\"M18.56 5.44l.94 2.06.94-2.06 2.06-.94-2.06-.94-.94-2.06-.94 2.06-2.06.94zm-11 1L8.5 8.5l.94-2.06 2.06-.94-2.06-.94L8.5 2.5l-.94 2.06-2.06.94zm10 10l.94 2.06.94-2.06 2.06-.94-2.06-.94-.94-2.06-.94 2.06-2.06.94z\"/><path d=\"M17.41 7.96l-1.37-1.37c-.4-.4-.92-.59-1.43-.59-.52 0-1.04.2-1.43.59L10.3 9.45l-7.72 7.72c-.78.78-.78 2.05 0 2.83L4 21.41c.39.39.9.59 1.41.59.51 0 1.02-.2 1.41-.59l7.78-7.78 2.81-2.81c.8-.78.8-2.07 0-2.86zM5.41 20L4 18.59l7.72-7.72 1.47 1.35L5.41 20z\"/>\n",
              "  </svg>\n",
              "      </button>\n",
              "      \n",
              "  <style>\n",
              "    .colab-df-container {\n",
              "      display:flex;\n",
              "      flex-wrap:wrap;\n",
              "      gap: 12px;\n",
              "    }\n",
              "\n",
              "    .colab-df-convert {\n",
              "      background-color: #E8F0FE;\n",
              "      border: none;\n",
              "      border-radius: 50%;\n",
              "      cursor: pointer;\n",
              "      display: none;\n",
              "      fill: #1967D2;\n",
              "      height: 32px;\n",
              "      padding: 0 0 0 0;\n",
              "      width: 32px;\n",
              "    }\n",
              "\n",
              "    .colab-df-convert:hover {\n",
              "      background-color: #E2EBFA;\n",
              "      box-shadow: 0px 1px 2px rgba(60, 64, 67, 0.3), 0px 1px 3px 1px rgba(60, 64, 67, 0.15);\n",
              "      fill: #174EA6;\n",
              "    }\n",
              "\n",
              "    [theme=dark] .colab-df-convert {\n",
              "      background-color: #3B4455;\n",
              "      fill: #D2E3FC;\n",
              "    }\n",
              "\n",
              "    [theme=dark] .colab-df-convert:hover {\n",
              "      background-color: #434B5C;\n",
              "      box-shadow: 0px 1px 3px 1px rgba(0, 0, 0, 0.15);\n",
              "      filter: drop-shadow(0px 1px 2px rgba(0, 0, 0, 0.3));\n",
              "      fill: #FFFFFF;\n",
              "    }\n",
              "  </style>\n",
              "\n",
              "      <script>\n",
              "        const buttonEl =\n",
              "          document.querySelector('#df-5fa0ad36-02dc-4472-b447-0773fcf2547f button.colab-df-convert');\n",
              "        buttonEl.style.display =\n",
              "          google.colab.kernel.accessAllowed ? 'block' : 'none';\n",
              "\n",
              "        async function convertToInteractive(key) {\n",
              "          const element = document.querySelector('#df-5fa0ad36-02dc-4472-b447-0773fcf2547f');\n",
              "          const dataTable =\n",
              "            await google.colab.kernel.invokeFunction('convertToInteractive',\n",
              "                                                     [key], {});\n",
              "          if (!dataTable) return;\n",
              "\n",
              "          const docLinkHtml = 'Like what you see? Visit the ' +\n",
              "            '<a target=\"_blank\" href=https://colab.research.google.com/notebooks/data_table.ipynb>data table notebook</a>'\n",
              "            + ' to learn more about interactive tables.';\n",
              "          element.innerHTML = '';\n",
              "          dataTable['output_type'] = 'display_data';\n",
              "          await google.colab.output.renderOutput(dataTable, element);\n",
              "          const docLink = document.createElement('div');\n",
              "          docLink.innerHTML = docLinkHtml;\n",
              "          element.appendChild(docLink);\n",
              "        }\n",
              "      </script>\n",
              "    </div>\n",
              "  </div>\n",
              "  "
            ]
          },
          "metadata": {}
        },
        {
          "output_type": "stream",
          "name": "stdout",
          "text": [
            "Percent wrong: 10.54%\n"
          ]
        }
      ],
      "execution_count": null
    },
    {
      "cell_type": "code",
      "source": [
        "(df_result['pred'] != df_result['test']).sum()\n"
      ],
      "metadata": {
        "colab": {
          "base_uri": "https://localhost:8080/"
        },
        "id": "fLMCXX9IlDKG",
        "outputId": "97639099-7182-4016-df42-35924bd3ef29"
      },
      "execution_count": null,
      "outputs": [
        {
          "output_type": "execute_result",
          "data": {
            "text/plain": [
              "33"
            ]
          },
          "metadata": {},
          "execution_count": 131
        }
      ]
    },
    {
      "cell_type": "code",
      "source": [
        "# Подсчет общего количества значений в столбце test\n",
        "total_values = df_result['test'].count()\n",
        "\n",
        "# Подсчет количества несовпадений\n",
        "num_mismatches = (df_result['pred'] != df_result['test']).sum()\n",
        "\n",
        "# Подсчет процентного соотношения несовпадений\n",
        "mismatch_percentage = (num_mismatches / total_values) * 100\n",
        "mismatch_percentage\n"
      ],
      "metadata": {
        "colab": {
          "base_uri": "https://localhost:8080/"
        },
        "id": "DL3yIRbTJSwD",
        "outputId": "e8d27759-cb13-4e18-ed5c-d07549b01c61"
      },
      "outputs": [
        {
          "output_type": "execute_result",
          "data": {
            "text/plain": [
              "10.543130990415335"
            ]
          },
          "metadata": {},
          "execution_count": 157
        }
      ],
      "execution_count": null
    },
    {
      "cell_type": "code",
      "source": [
        "np.argmax(y_pred, axis = -1).shape"
      ],
      "metadata": {
        "colab": {
          "base_uri": "https://localhost:8080/"
        },
        "id": "HQ_69z4MdWOQ",
        "outputId": "577bd217-4794-48a1-b6f0-ddef19db0dd2"
      },
      "outputs": [
        {
          "output_type": "execute_result",
          "data": {
            "text/plain": [
              "(313,)"
            ]
          },
          "metadata": {},
          "execution_count": 158
        }
      ],
      "execution_count": null
    },
    {
      "cell_type": "code",
      "source": [
        "np.argmax(y_test, axis = -1).shape"
      ],
      "metadata": {
        "colab": {
          "base_uri": "https://localhost:8080/"
        },
        "id": "7ppcg09ycbKi",
        "outputId": "3a70e38e-17f8-4736-9268-9d142618f90b"
      },
      "outputs": [
        {
          "output_type": "execute_result",
          "data": {
            "text/plain": [
              "(313,)"
            ]
          },
          "metadata": {},
          "execution_count": 159
        }
      ],
      "execution_count": null
    },
    {
      "cell_type": "code",
      "source": [
        "cm = confusion_matrix(np.argmax(y_test, axis=-1),\n",
        "                          np.argmax(y_pred, axis=-1),\n",
        "                          normalize='true')"
      ],
      "metadata": {
        "id": "KCIQL3EYb3ir"
      },
      "outputs": [],
      "execution_count": null
    },
    {
      "cell_type": "code",
      "source": [
        "cm = np.around(cm, 1)"
      ],
      "metadata": {
        "id": "lrhtGqueesH2"
      },
      "outputs": [],
      "execution_count": null
    },
    {
      "cell_type": "code",
      "source": [
        "MyUtils.conclusion_labels()[np.argmax([1,0,0])]"
      ],
      "metadata": {
        "id": "nv_vzjKhMijL",
        "outputId": "16d792d5-e2d0-4374-cfb6-d1beb849be26",
        "colab": {
          "base_uri": "https://localhost:8080/",
          "height": 36
        }
      },
      "outputs": [
        {
          "output_type": "execute_result",
          "data": {
            "text/plain": [
              "'Негоден'"
            ],
            "application/vnd.google.colaboratory.intrinsic+json": {
              "type": "string"
            }
          },
          "metadata": {},
          "execution_count": 162
        }
      ],
      "execution_count": null
    },
    {
      "cell_type": "code",
      "source": [
        "\n",
        "figsize = (10,10)\n",
        "title = \"model2\"\n",
        "# Отрисовка матрицы ошибок\n",
        "fig, ax = plt.subplots(figsize=figsize)\n",
        "ax.set_title(f'Нейросеть {title}: матрица ошибок нормализованная', fontsize=18)\n",
        "disp = ConfusionMatrixDisplay(confusion_matrix=cm, display_labels=MyUtils.conclusion_labels())\n",
        "disp.plot(ax=ax)\n",
        "plt.gca().images[-1].colorbar.remove()  # Стирание ненужной цветовой шкалы\n",
        "plt.xlabel('Предсказанные классы', fontsize=16)\n",
        "plt.ylabel('Верные классы', fontsize=16)\n",
        "fig.autofmt_xdate(rotation=45)          # Наклон меток горизонтальной оси при необходимости\n",
        "plt.show()    "
      ],
      "metadata": {
        "colab": {
          "base_uri": "https://localhost:8080/",
          "height": 872
        },
        "id": "fYfH3kh0dwHi",
        "outputId": "466ac8a9-57f9-4299-c9ab-09678695c95d"
      },
      "outputs": [
        {
          "output_type": "display_data",
          "data": {
            "text/plain": [
              "<Figure size 1000x1000 with 1 Axes>"
            ],
            "image/png": "[encoded data removed]"
          },
          "metadata": {}
        }
      ],
      "execution_count": null
    },
    {
      "cell_type": "code",
      "source": [
        "# Подсчет матрицы ошибок\n",
        "cm = confusion_matrix(y_test_idx, y_pred_idx)\n",
        "\n",
        "# Подсчет количества верных предсказаний\n",
        "num_correct = cm.diagonal().sum()\n",
        "\n",
        "# Подсчет количества ошибочных предсказаний\n",
        "num_mismatches = cm.sum() - num_correct\n",
        "\n",
        "# Подсчет процентного соотношения несовпадений\n",
        "mismatch_percentage = (num_mismatches / cm.sum()) * 100\n",
        "\n",
        "# Вывод результата\n",
        "print(f'Количество верных предсказаний: {num_correct}')\n",
        "print(f'Количество ошибочных предсказаний: {num_mismatches}')\n",
        "print(f'Процентное соотношение несовпадений: {mismatch_percentage:.2f}%')"
      ],
      "metadata": {
        "colab": {
          "base_uri": "https://localhost:8080/"
        },
        "id": "3ld5l5QGh3KT",
        "outputId": "b2a0bcb1-4a47-4f08-d515-7aaa17c95d3f"
      },
      "outputs": [
        {
          "output_type": "stream",
          "name": "stdout",
          "text": [
            "Количество верных предсказаний: 280\n",
            "Количество ошибочных предсказаний: 33\n",
            "Процентное соотношение несовпадений: 10.54%\n"
          ]
        }
      ],
      "execution_count": null
    },
    {
      "cell_type": "code",
      "source": [
        "fig, ax = plt.subplots(figsize=figsize)\n",
        "ax.scatter(y_test_idx, y_pred_idx)"
      ],
      "metadata": {
        "colab": {
          "base_uri": "https://localhost:8080/",
          "height": 848
        },
        "id": "6pvpn04_QGHp",
        "outputId": "c0ec1299-ca1e-4549-fa6d-f7c165be120a"
      },
      "outputs": [
        {
          "output_type": "execute_result",
          "data": {
            "text/plain": [
              "<matplotlib.collections.PathCollection at 0x7f92a1586a10>"
            ]
          },
          "metadata": {},
          "execution_count": 140
        },
        {
          "output_type": "display_data",
          "data": {
            "text/plain": [
              "<Figure size 1000x1000 with 1 Axes>"
            ],
            "image/png": "[encoded data removed]"
          },
          "metadata": {}
        }
      ],
      "execution_count": null
    },
    {
      "cell_type": "markdown",
      "source": [
        "**Вывод**: Основная идея объединить МКБ в одну колонку и пройти по ней как по предложению через свертки, для выявления взаимосвязи между специалистами.\n",
        "\n",
        "Результат слабоватый, возможно из-за слишком несбалансированнной базы\n",
        "По этой же причине не стал обрабатывать основные текстовые поля, хотя была та же идея избавится от разрежения значений полей специалистов путём объединения текстов колонок в одну в виде текста с разбивкой на абзацы и заголовками  для каждого специалиста.\n",
        "Если будет база со сбалансированными данными, возможно это будет уместно сделать "
      ],
      "metadata": {
        "id": "l1SlAlJwBdVx"
      }
    }
  ]
}