{
  "nbformat": 4,
  "nbformat_minor": 0,
  "metadata": {
    "colab": {
      "provenance": [],
      "include_colab_link": true
    },
    "kernelspec": {
      "name": "python3",
      "display_name": "Python 3"
    },
    "language_info": {
      "name": "python"
    },
    "accelerator": "GPU"
  },
  "cells": [
    {
      "cell_type": "markdown",
      "metadata": {
        "id": "view-in-github",
        "colab_type": "text"
      },
      "source": [
        "<a href=\"https://colab.research.google.com/github/pauchai/SubPlayer/blob/master/lessons/%D0%9F%D1%80%D0%BE%D0%B4%D0%B2%D0%B8%D0%BD%D1%83%D1%82%D1%8B%D0%B9_%D0%B1%D0%BB%D0%BE%D0%BA_%7C_%D0%93%D0%B5%D0%BD%D0%B5%D1%82%D0%B8%D1%87%D0%B5%D1%81%D0%BA%D0%B8%D0%B5_%D0%B0%D0%BB%D0%B3%D0%BE%D1%80%D0%B8%D1%82%D0%BC%D1%8B_%D0%9F%D0%BE%D0%B4%D0%B1%D0%BE%D1%80_%D0%B3%D0%B8%D0%BF%D0%B5%D1%80%D0%BF%D0%B0%D1%80%D0%B0%D0%BC%D0%B5%D1%82%D1%80%D0%BE%D0%B2_%D0%BD%D0%B5%D0%B9%D1%80%D0%BE%D0%BD%D0%BD%D0%BE%D0%B9_%D1%81%D0%B5%D1%82%D0%B8_%7C_%D0%94%D0%97_Light_(%D0%A0%D0%B0%D0%B7%D0%B1%D0%BE%D1%80)_%7C_%D0%A3%D0%98%D0%98.ipynb\" target=\"_parent\"><img src=\"https://colab.research.google.com/assets/colab-badge.svg\" alt=\"Open In Colab\"/></a>"
      ]
    },
    {
      "cell_type": "markdown",
      "source": [
        "**Задание LIGHT**\n",
        "\n",
        "\n",
        "Подберите архитектуру нейронной сети с помощью генетического алгоритма для задачи предсказания тренда акций Сбербанка (подготовку данных можно взять из занятия \"временные ряды\", можно сделать самостоятельно)"
      ],
      "metadata": {
        "id": "EbVutWKXk4E1"
      }
    },
    {
      "cell_type": "code",
      "source": [
        "import gdown\n",
        "\n",
        "# Загрузка датасетов из облака\n",
        "gdown.download('https://storage.yandexcloud.net/aiueducation/Content/base/l11/SBER_MIN60.txt', None, quiet=True)"
      ],
      "metadata": {
        "colab": {
          "base_uri": "https://localhost:8080/",
          "height": 35
        },
        "id": "Itmr4VWYle1y",
        "outputId": "04810625-297c-4116-9c8a-985985eb3a2e"
      },
      "execution_count": null,
      "outputs": [
        {
          "output_type": "execute_result",
          "data": {
            "text/plain": [
              "'SBER_MIN60.txt'"
            ],
            "application/vnd.google.colaboratory.intrinsic+json": {
              "type": "string"
            }
          },
          "metadata": {},
          "execution_count": 1
        }
      ]
    },
    {
      "cell_type": "markdown",
      "source": [
        "Подключаем необходимый набор библиотек:"
      ],
      "metadata": {
        "id": "C_LHHvnGljlK"
      }
    },
    {
      "cell_type": "code",
      "source": [
        "# Работа с массивами\n",
        "import numpy as np\n",
        "\n",
        "# Работа с таблицами\n",
        "import pandas as pd\n",
        "\n",
        "# Кодирование категориальных данных в формате OHE\n",
        "from tensorflow.keras.utils import to_categorical\n",
        "\n",
        "# Классы-конструкторы моделей нейронных сетей\n",
        "from tensorflow.keras.models import Sequential, Model\n",
        "\n",
        "# Основные слои\n",
        "from tensorflow.keras.layers import concatenate, Input, Dense, Dropout, BatchNormalization, Flatten, Conv1D, Conv2D, LSTM, GlobalMaxPooling1D, MaxPooling1D, RepeatVector, GlobalAveragePooling1D\n",
        "\n",
        "# Оптимизаторы\n",
        "from tensorflow.keras.optimizers import Adam\n",
        "\n",
        "# Нормировщики\n",
        "from sklearn.preprocessing import StandardScaler, MinMaxScaler \n",
        "\n",
        "# Матрица ошибок классификатора\n",
        "from sklearn.metrics import confusion_matrix, ConfusionMatrixDisplay\n",
        "\n",
        "# Отрисовка графиков\n",
        "import matplotlib.pyplot as plt\n",
        "\n",
        "# Отрисовка графики в ячейке colab\n",
        "%matplotlib inline\n",
        "\n",
        "import random\n",
        "\n",
        "import time\n",
        "\n",
        "# Отключение предупреждений\n",
        "import warnings\n",
        "warnings.filterwarnings('ignore')"
      ],
      "metadata": {
        "id": "f8bCe3uClhO1"
      },
      "execution_count": null,
      "outputs": []
    },
    {
      "cell_type": "code",
      "source": [
        "# Назначение размера и стиля графиков по умолчанию\n",
        "from pylab import rcParams\n",
        "plt.style.use('ggplot')\n",
        "rcParams['figure.figsize'] = (14, 7)"
      ],
      "metadata": {
        "id": "v2o7ceinmA1I"
      },
      "execution_count": null,
      "outputs": []
    },
    {
      "cell_type": "code",
      "source": [
        "# Чтение данных в таблицу Pandas и назначение имен столбцов\n",
        "data = pd.read_csv('SBER_MIN60.txt', sep=\"\\t\", names=['Datetime', 'Open', 'High', 'Low', 'Close'])\n",
        "\n",
        "# Настройка имен столбцов\n",
        "COL_DATE = 'Datetime'\n",
        "COL_CLOSE = 'Close'\n",
        "\n",
        "# Настройка временного интервала для ограничения данных\n",
        "TIME_RANGE = ('2010-09-01 10:00:00.000', '2018-12-31 23:59:00.000')"
      ],
      "metadata": {
        "id": "lPDRDFq3lpQv"
      },
      "execution_count": null,
      "outputs": []
    },
    {
      "cell_type": "code",
      "source": [
        "# Преобразование столбца даты в индекс таблицы и удаление ненужного столбца даты\n",
        "data.index = pd.to_datetime(data[COL_DATE])\n",
        "data.drop(columns=COL_DATE, inplace=True)\n",
        "\n",
        "# Отбор данных по заданному временному интервалу\n",
        "mask = (data.index >= TIME_RANGE[0]) & (data.index <= TIME_RANGE[1])\n",
        "data = data[mask]"
      ],
      "metadata": {
        "id": "Olj4nvuEltpK"
      },
      "execution_count": null,
      "outputs": []
    },
    {
      "cell_type": "markdown",
      "source": [
        "Отобразим датафрейм"
      ],
      "metadata": {
        "id": "BB9lU0uzlxAQ"
      }
    },
    {
      "cell_type": "code",
      "source": [
        "data.head()"
      ],
      "metadata": {
        "colab": {
          "base_uri": "https://localhost:8080/",
          "height": 238
        },
        "id": "P1Wf6SZhlwTR",
        "outputId": "a0500eef-e971-44eb-82c0-0af7b9ac2f1c"
      },
      "execution_count": null,
      "outputs": [
        {
          "output_type": "execute_result",
          "data": {
            "text/plain": [
              "                      Open   High    Low  Close\n",
              "Datetime                                       \n",
              "2010-09-01 10:00:00  78.55  78.67  77.94  78.04\n",
              "2010-09-01 11:00:00  78.04  78.10  77.60  78.00\n",
              "2010-09-01 12:00:00  78.00  78.88  77.98  78.88\n",
              "2010-09-01 13:00:00  78.89  79.19  78.80  78.85\n",
              "2010-09-01 14:00:00  78.85  78.99  78.61  78.86"
            ],
            "text/html": [
              "\n",
              "  <div id=\"df-ac7303d2-f70f-4bcb-b29a-0eed99319bc6\">\n",
              "    <div class=\"colab-df-container\">\n",
              "      <div>\n",
              "<style scoped>\n",
              "    .dataframe tbody tr th:only-of-type {\n",
              "        vertical-align: middle;\n",
              "    }\n",
              "\n",
              "    .dataframe tbody tr th {\n",
              "        vertical-align: top;\n",
              "    }\n",
              "\n",
              "    .dataframe thead th {\n",
              "        text-align: right;\n",
              "    }\n",
              "</style>\n",
              "<table border=\"1\" class=\"dataframe\">\n",
              "  <thead>\n",
              "    <tr style=\"text-align: right;\">\n",
              "      <th></th>\n",
              "      <th>Open</th>\n",
              "      <th>High</th>\n",
              "      <th>Low</th>\n",
              "      <th>Close</th>\n",
              "    </tr>\n",
              "    <tr>\n",
              "      <th>Datetime</th>\n",
              "      <th></th>\n",
              "      <th></th>\n",
              "      <th></th>\n",
              "      <th></th>\n",
              "    </tr>\n",
              "  </thead>\n",
              "  <tbody>\n",
              "    <tr>\n",
              "      <th>2010-09-01 10:00:00</th>\n",
              "      <td>78.55</td>\n",
              "      <td>78.67</td>\n",
              "      <td>77.94</td>\n",
              "      <td>78.04</td>\n",
              "    </tr>\n",
              "    <tr>\n",
              "      <th>2010-09-01 11:00:00</th>\n",
              "      <td>78.04</td>\n",
              "      <td>78.10</td>\n",
              "      <td>77.60</td>\n",
              "      <td>78.00</td>\n",
              "    </tr>\n",
              "    <tr>\n",
              "      <th>2010-09-01 12:00:00</th>\n",
              "      <td>78.00</td>\n",
              "      <td>78.88</td>\n",
              "      <td>77.98</td>\n",
              "      <td>78.88</td>\n",
              "    </tr>\n",
              "    <tr>\n",
              "      <th>2010-09-01 13:00:00</th>\n",
              "      <td>78.89</td>\n",
              "      <td>79.19</td>\n",
              "      <td>78.80</td>\n",
              "      <td>78.85</td>\n",
              "    </tr>\n",
              "    <tr>\n",
              "      <th>2010-09-01 14:00:00</th>\n",
              "      <td>78.85</td>\n",
              "      <td>78.99</td>\n",
              "      <td>78.61</td>\n",
              "      <td>78.86</td>\n",
              "    </tr>\n",
              "  </tbody>\n",
              "</table>\n",
              "</div>\n",
              "      <button class=\"colab-df-convert\" onclick=\"convertToInteractive('df-ac7303d2-f70f-4bcb-b29a-0eed99319bc6')\"\n",
              "              title=\"Convert this dataframe to an interactive table.\"\n",
              "              style=\"display:none;\">\n",
              "        \n",
              "  <svg xmlns=\"http://www.w3.org/2000/svg\" height=\"24px\"viewBox=\"0 0 24 24\"\n",
              "       width=\"24px\">\n",
              "    <path d=\"M0 0h24v24H0V0z\" fill=\"none\"/>\n",
              "    <path d=\"M18.56 5.44l.94 2.06.94-2.06 2.06-.94-2.06-.94-.94-2.06-.94 2.06-2.06.94zm-11 1L8.5 8.5l.94-2.06 2.06-.94-2.06-.94L8.5 2.5l-.94 2.06-2.06.94zm10 10l.94 2.06.94-2.06 2.06-.94-2.06-.94-.94-2.06-.94 2.06-2.06.94z\"/><path d=\"M17.41 7.96l-1.37-1.37c-.4-.4-.92-.59-1.43-.59-.52 0-1.04.2-1.43.59L10.3 9.45l-7.72 7.72c-.78.78-.78 2.05 0 2.83L4 21.41c.39.39.9.59 1.41.59.51 0 1.02-.2 1.41-.59l7.78-7.78 2.81-2.81c.8-.78.8-2.07 0-2.86zM5.41 20L4 18.59l7.72-7.72 1.47 1.35L5.41 20z\"/>\n",
              "  </svg>\n",
              "      </button>\n",
              "      \n",
              "  <style>\n",
              "    .colab-df-container {\n",
              "      display:flex;\n",
              "      flex-wrap:wrap;\n",
              "      gap: 12px;\n",
              "    }\n",
              "\n",
              "    .colab-df-convert {\n",
              "      background-color: #E8F0FE;\n",
              "      border: none;\n",
              "      border-radius: 50%;\n",
              "      cursor: pointer;\n",
              "      display: none;\n",
              "      fill: #1967D2;\n",
              "      height: 32px;\n",
              "      padding: 0 0 0 0;\n",
              "      width: 32px;\n",
              "    }\n",
              "\n",
              "    .colab-df-convert:hover {\n",
              "      background-color: #E2EBFA;\n",
              "      box-shadow: 0px 1px 2px rgba(60, 64, 67, 0.3), 0px 1px 3px 1px rgba(60, 64, 67, 0.15);\n",
              "      fill: #174EA6;\n",
              "    }\n",
              "\n",
              "    [theme=dark] .colab-df-convert {\n",
              "      background-color: #3B4455;\n",
              "      fill: #D2E3FC;\n",
              "    }\n",
              "\n",
              "    [theme=dark] .colab-df-convert:hover {\n",
              "      background-color: #434B5C;\n",
              "      box-shadow: 0px 1px 3px 1px rgba(0, 0, 0, 0.15);\n",
              "      filter: drop-shadow(0px 1px 2px rgba(0, 0, 0, 0.3));\n",
              "      fill: #FFFFFF;\n",
              "    }\n",
              "  </style>\n",
              "\n",
              "      <script>\n",
              "        const buttonEl =\n",
              "          document.querySelector('#df-ac7303d2-f70f-4bcb-b29a-0eed99319bc6 button.colab-df-convert');\n",
              "        buttonEl.style.display =\n",
              "          google.colab.kernel.accessAllowed ? 'block' : 'none';\n",
              "\n",
              "        async function convertToInteractive(key) {\n",
              "          const element = document.querySelector('#df-ac7303d2-f70f-4bcb-b29a-0eed99319bc6');\n",
              "          const dataTable =\n",
              "            await google.colab.kernel.invokeFunction('convertToInteractive',\n",
              "                                                     [key], {});\n",
              "          if (!dataTable) return;\n",
              "\n",
              "          const docLinkHtml = 'Like what you see? Visit the ' +\n",
              "            '<a target=\"_blank\" href=https://colab.research.google.com/notebooks/data_table.ipynb>data table notebook</a>'\n",
              "            + ' to learn more about interactive tables.';\n",
              "          element.innerHTML = '';\n",
              "          dataTable['output_type'] = 'display_data';\n",
              "          await google.colab.output.renderOutput(dataTable, element);\n",
              "          const docLink = document.createElement('div');\n",
              "          docLink.innerHTML = docLinkHtml;\n",
              "          element.appendChild(docLink);\n",
              "        }\n",
              "      </script>\n",
              "    </div>\n",
              "  </div>\n",
              "  "
            ]
          },
          "metadata": {},
          "execution_count": 6
        }
      ]
    },
    {
      "cell_type": "markdown",
      "source": [
        "на графике:"
      ],
      "metadata": {
        "id": "OULsELzHl7Wj"
      }
    },
    {
      "cell_type": "code",
      "source": [
        "# Отображение временного ряда в графическом виде\n",
        "plt.figure(figsize=(20, 8))\n",
        "plt.plot(data.index, data[COL_CLOSE])\n",
        "plt.title('График цены на SBER (1h)')\n",
        "plt.show()"
      ],
      "metadata": {
        "colab": {
          "base_uri": "https://localhost:8080/",
          "height": 500
        },
        "id": "68jbs2Phl4O8",
        "outputId": "674cfbc0-cf84-46d6-e331-e871cd55d07f"
      },
      "execution_count": null,
      "outputs": [
        {
          "output_type": "display_data",
          "data": {
            "text/plain": [
              "<Figure size 1440x576 with 1 Axes>"
            ],
            "image/png": "[encoded data removed]"
          },
          "metadata": {}
        }
      ]
    },
    {
      "cell_type": "markdown",
      "source": [
        "Зададим гиперпараметры"
      ],
      "metadata": {
        "id": "9HhJDAhGmFz1"
      }
    },
    {
      "cell_type": "code",
      "source": [
        "# Задание гиперпараметров\n",
        "INDICATOR_DEPTH = 14                      # Глубина расчета индикаторов тренда (шаги)\n",
        "SEQ_LEN = 19                              # Длина серии (подпоследовательности) входных данных для анализа\n",
        "PREDICT_LAG = 1                           # Количество шагов в будущее для предсказания\n",
        "TEST_LEN = 600                            # Объем тестовой выборки (в конце данных)\n",
        "CLASS_LABELS = ['Нисходящий/боковой', \n",
        "                'Восходящий']             # Метки классов: 0-нисходящий/боковой тренд, 1-восходящий тренд"
      ],
      "metadata": {
        "id": "MJDjxjBhl82P"
      },
      "execution_count": null,
      "outputs": []
    },
    {
      "cell_type": "code",
      "source": [
        "# Расчет индикаторов относительной доходности\n",
        "for i in range(1, INDICATOR_DEPTH + 1):\n",
        "    indicator_change = f'Close_chng_{i}'\n",
        "    # Относительная доходность в сотых долях за период i шагов назад\n",
        "    data[indicator_change] = data[COL_CLOSE].pct_change(i)"
      ],
      "metadata": {
        "id": "a20asjeQmJW-"
      },
      "execution_count": null,
      "outputs": []
    },
    {
      "cell_type": "code",
      "source": [
        "# Удаление строк с неполными данными\n",
        "data.dropna(inplace=True)"
      ],
      "metadata": {
        "id": "8TZWqdrhmNgt"
      },
      "execution_count": null,
      "outputs": []
    },
    {
      "cell_type": "code",
      "source": [
        "# Вычисление индикаторов направления тренда\n",
        "for i in range(1, INDICATOR_DEPTH + 1):\n",
        "    indicator_change = f'Close_chng_{i}'\n",
        "    indicator_trend = f'Y_{i}'\n",
        "    # Заполнение столбца индикатора тренда нулями (нисходящий/боковой тренд)\n",
        "    data[indicator_trend] = 0.\n",
        "    # Если индикатор изменения периода на i шагов положителен, то тренд восходящий\n",
        "    data.loc[data[indicator_change] > 0. , indicator_trend] = 1."
      ],
      "metadata": {
        "id": "c2T56OnwmQJv"
      },
      "execution_count": null,
      "outputs": []
    },
    {
      "cell_type": "code",
      "source": [
        "# Формируем x_data\n",
        "x_col = [COL_CLOSE] + [f'Y_{i}' for i in range(1, INDICATOR_DEPTH + 1)]\n",
        "x_data = data[x_col].values\n",
        "\n",
        "# Проверка результата\n",
        "print(x_data.shape, type(x_data))"
      ],
      "metadata": {
        "colab": {
          "base_uri": "https://localhost:8080/"
        },
        "id": "A07MPR5GmS1g",
        "outputId": "568c3dba-07cf-46b8-b2ef-a7ab56ae6201"
      },
      "execution_count": null,
      "outputs": [
        {
          "output_type": "stream",
          "name": "stdout",
          "text": [
            "(18804, 15) <class 'numpy.ndarray'>\n"
          ]
        }
      ]
    },
    {
      "cell_type": "code",
      "source": [
        "# Формируем y_data\n",
        "indicator_name = f'Y_{INDICATOR_DEPTH}'\n",
        "y_class = data[indicator_name]\n",
        "\n",
        "# Кодирование признака класса в one hot encoding\n",
        "y_data = to_categorical(y_class)\n",
        "\n",
        "# Проверка результата\n",
        "print(y_data.shape)"
      ],
      "metadata": {
        "colab": {
          "base_uri": "https://localhost:8080/"
        },
        "id": "HxEOGFyUmWIc",
        "outputId": "2c489292-6f7c-49ba-f54b-050fdfdf32eb"
      },
      "execution_count": null,
      "outputs": [
        {
          "output_type": "stream",
          "name": "stdout",
          "text": [
            "(18804, 2)\n"
          ]
        }
      ]
    },
    {
      "cell_type": "markdown",
      "source": [
        "Формируем выборки"
      ],
      "metadata": {
        "id": "qfKPN4Rdmo97"
      }
    },
    {
      "cell_type": "code",
      "source": [
        "x_train_data, y_train_data = x_data[:-TEST_LEN-SEQ_LEN], y_data[:-TEST_LEN-SEQ_LEN]\n",
        "x_test_data, y_test_data = x_data[-TEST_LEN:], y_data[-TEST_LEN:]\n",
        "\n",
        "# Проверка результата\n",
        "print('train_data: ', x_train_data.shape, y_train_data.shape,\n",
        "      '\\ntest_data:  ', x_test_data.shape, y_test_data.shape,\n",
        "      '\\nОбщая длина:', x_train_data.shape[0] + x_test_data.shape[0])"
      ],
      "metadata": {
        "colab": {
          "base_uri": "https://localhost:8080/"
        },
        "id": "-P3wS9gBmeks",
        "outputId": "ba7cf609-1f16-4414-b246-5d4ee2030558"
      },
      "execution_count": null,
      "outputs": [
        {
          "output_type": "stream",
          "name": "stdout",
          "text": [
            "train_data:  (18185, 15) (18185, 2) \n",
            "test_data:   (600, 15) (600, 2) \n",
            "Общая длина: 18785\n"
          ]
        }
      ]
    },
    {
      "cell_type": "markdown",
      "source": [
        "Масштабируем:"
      ],
      "metadata": {
        "id": "6Olbg8MOmx8b"
      }
    },
    {
      "cell_type": "code",
      "source": [
        "x_scaler = StandardScaler()\n",
        "x_scaler.fit(x_train_data)\n",
        "x_train_data = x_scaler.transform(x_train_data)\n",
        "x_test_data = x_scaler.transform(x_test_data)\n",
        "\n",
        "# Проверка результата\n",
        "print(x_train_data.shape, x_test_data.shape, type(x_train_data))\n",
        "x_test_data[-1:]"
      ],
      "metadata": {
        "colab": {
          "base_uri": "https://localhost:8080/"
        },
        "id": "u_BKlT73mrtL",
        "outputId": "8f665e91-cf76-4aa3-9619-5a5865cf1ccf"
      },
      "execution_count": null,
      "outputs": [
        {
          "output_type": "stream",
          "name": "stdout",
          "text": [
            "(18185, 15) (600, 15) <class 'numpy.ndarray'>\n"
          ]
        },
        {
          "output_type": "execute_result",
          "data": {
            "text/plain": [
              "array([[ 1.40650193,  1.00247764,  0.99271283,  0.99522723,  0.99053149,\n",
              "         0.98401555,  0.9820689 ,  0.97678842, -1.02331264, -1.02353787,\n",
              "        -1.02286232,  0.97904815,  0.97431919, -1.02952561, -1.02794036]])"
            ]
          },
          "metadata": {},
          "execution_count": 15
        }
      ]
    },
    {
      "cell_type": "markdown",
      "source": [
        "Формируем x_train и y_train"
      ],
      "metadata": {
        "id": "4K6kEKbOm3fQ"
      }
    },
    {
      "cell_type": "code",
      "source": [
        "# Функция разделения набора данных на выборки для обучения нейросети \n",
        "# x_data - набор входных данных\n",
        "# y_data - набор выходных данных\n",
        "# seq_len - длина серии (подпоследовательности) входных данных для анализа\n",
        "# predict_lag - количество шагов в будущее для предсказания\n",
        "def split_sequence(x_data, y_data, seq_len, predict_lag):\n",
        "    # Определение максимального индекса начала подпоследовательности\n",
        "    x_len = x_data.shape[0] - seq_len - (predict_lag - 1)\n",
        "    # Формирование подпоследовательностей входных данных\n",
        "    x = [x_data[i:i + seq_len] for i in range(x_len)]\n",
        "    # Формирование меток выходных данных, \n",
        "    # отстоящих на predict_lag шагов после конца подпоследовательности\n",
        "    y = [y_data[i + seq_len + predict_lag - 1] for i in range(x_len)]\n",
        "    # Возврат результатов в виде массивов numpy\n",
        "    return np.array(x), np.array(y)"
      ],
      "metadata": {
        "id": "Ra9IfRramzEK"
      },
      "execution_count": null,
      "outputs": []
    },
    {
      "cell_type": "code",
      "source": [
        "# Формирование выборок для обучения нейросети\n",
        "x_train, y_train = split_sequence(x_train_data, y_train_data, SEQ_LEN, PREDICT_LAG)\n",
        "x_test, y_test = split_sequence(x_test_data, y_test_data, SEQ_LEN, PREDICT_LAG)\n",
        "\n",
        "# Проверка результата\n",
        "print('Массивы x_train и y_train:\\t', x_train.shape, y_train.shape)\n",
        "print('Массивы x_test и y_test:\\t', x_test.shape, y_test.shape)"
      ],
      "metadata": {
        "colab": {
          "base_uri": "https://localhost:8080/"
        },
        "id": "TcPD-Y5om52M",
        "outputId": "c3118fce-7ecb-4554-99a0-4a4ceb15721b"
      },
      "execution_count": null,
      "outputs": [
        {
          "output_type": "stream",
          "name": "stdout",
          "text": [
            "Массивы x_train и y_train:\t (18166, 19, 15) (18166, 2)\n",
            "Массивы x_test и y_test:\t (581, 19, 15) (581, 2)\n"
          ]
        }
      ]
    },
    {
      "cell_type": "markdown",
      "source": [
        "<h1><b> Генетика </h1>"
      ],
      "metadata": {
        "id": "Yd2gS29mnTXM"
      }
    },
    {
      "cell_type": "code",
      "source": [
        "#Создаём сеть (net - список параметров)\n",
        "def create_randnet(net,\n",
        "                   control_level_shape = 10**5):\n",
        "  '''\n",
        "  Функция формирования линейной нейронной ссети из бота.\n",
        "  \n",
        "  -----------------\n",
        "  Входные данные:\n",
        "  net - полученный бот со списком значений для формирования сети\n",
        "  control_level_shape - парамметр при превышению которого будет применен \n",
        "  слой GlobalAveragePooling1D, а не Flatten (по умолчанию 100'000).\n",
        "  -----------------\n",
        "  На выходе функции:\n",
        "  model -линейная нейронная сеть Sequential()\n",
        "  '''\n",
        "\n",
        "  model = Sequential()             # Создаем моель Sequential\n",
        "\n",
        "  '''\n",
        "  Присвоение значений параметрам слоев из значений полученного бота\n",
        " \n",
        "  Входной блок\n",
        "  '''\n",
        "  makeFirstNormalization = net[0]  # Делаем ли нормализацию в начале\n",
        "  firstConvSize = 2 ** net[1]      # Размер первого вёрточного слоя\n",
        "  firstConvKernel = net[2]         # Ядро первого свёрточного слоя\n",
        "  activation0 = net[3]             # Функция активации входного слоя\n",
        "  makeMaxPooling0 = net[4]         # Делаем ли maxpooling для нулевого слоя\n",
        "  maxPoolingSize0 = net[5]         # Размер MaxPooling\n",
        "\n",
        "  '''\n",
        "  Первый скрытый Conv блок\n",
        "  '''\n",
        "  makeSecondConv = net[6]          # Делаем ли второй свёрточный слой\n",
        "  secondConvSize = 2 ** net[7]     # Размер второго свёрточного слоя\n",
        "  secondConvKernel = net[8]        # Ядро второго свёрточного слоя\n",
        "  makeMaxPooling1 = net[9]         # Делаем ли MaxPooling\n",
        "  maxPoolingSize1 = net[10]        # Размер MaxPooling\n",
        "  activation1 = net[11]            # Функция активации\n",
        "\n",
        "  '''\n",
        "  Второй скрытый Conv блок\n",
        "  '''\n",
        "  makeThirdConv = net[12]          # Делаем ли второй свёрточный слой\n",
        "  thirdConvSize = 2 ** net[13]     # Размер второго свёрточного слоя\n",
        "  thirdConvKernel = net[14]        # Ядро второго свёрточного слоя\n",
        "  makeMaxPooling2 = net[15]        # Делаем ли MaxPooling\n",
        "  maxPoolingSize2 = net[16]        # Размер MaxPooling\n",
        "  activation2 = net[17]            # Функция активации\n",
        "\n",
        "  '''\n",
        "  Третий скрытый dense блок\n",
        "  '''\n",
        "  makeDense = net[18]              # Делаем ли Dense до Flatten \n",
        "  denseSize0 = 2 ** net[19]        # Размер полносвязного слоя \n",
        "  activationdense0 = net[20]       # Функция активации\n",
        "\n",
        "  '''\n",
        "  Выходной dense блок\n",
        "  '''\n",
        "  denseSize1 = 2 ** net[21]        # Размер предпоследнего полносвязного слоя \n",
        "  activationdense1 = net[22]       # Функция активации предпоследнего полносвязного слоя \n",
        "  makeSecondNormalization = net[23]  # Делаем ли нормализацию в начале\n",
        "  activationdense2 = net[24]       # Функция активации дпоследнего полносвязного слоя \n",
        "\n",
        "  '''\n",
        "  Список активационных функций\n",
        "  '''\n",
        "  activation_list = ['linear','relu', 'elu', 'selu' ,'tanh'] \n",
        "\n",
        "\n",
        "  '''\n",
        "  Условия для формирования блоков\n",
        "  _______________________________\n",
        "\n",
        "  Входной Conv блок\n",
        "  '''\n",
        "  # Если делаем нормализацию в начале\n",
        "  if (makeFirstNormalization):      \n",
        "      # Добавляем слой BatchNormalization\n",
        "      model.add(BatchNormalization(input_shape=(SEQ_LEN, INDICATOR_DEPTH+1))) \n",
        "\n",
        "      # Добавляем Conv1D-слой с firstConvSize нейронами и ядром (firstConvKernel)\n",
        "      model.add(Conv1D(firstConvSize, firstConvKernel,\n",
        "      activation=activation_list[activation0], padding='same')) \n",
        "\n",
        "  else:\n",
        "      # Добавляем Conv1D-слой с firstConvSize нейронами и ядром (firstConvKernel)\n",
        "      model.add(Conv1D(firstConvSize, firstConvKernel, input_shape=(SEQ_LEN, INDICATOR_DEPTH+1),\n",
        "                      activation=activation_list[activation0], padding='same')) \n",
        "      # Если делаем maxpooling\n",
        "  if makeMaxPooling0:               \n",
        "      model.add(MaxPooling1D(maxPoolingSize0))\n",
        "\n",
        "  '''\n",
        "  Первый скрытый Conv блок\n",
        "  '''\n",
        "  # Если делаем второй свёрточный слой\n",
        "  if (makeSecondConv):              \n",
        "      # Добавляем Conv1D-слой с secondConvSize нейронами и ядром (secondConvKernel)\n",
        "      model.add(Conv1D(secondConvSize, secondConvKernel,\n",
        "                      activation=activation_list[activation1], padding='same')) \n",
        "      \n",
        "      # Если делаем MaxPooling\n",
        "      if (makeMaxPooling1):           \n",
        "        # Добавляем слой MaxPooling1D с размером (maxPoolingSize)\n",
        "        model.add(MaxPooling1D(pool_size=maxPoolingSize1)) \n",
        "\n",
        "  '''\n",
        "  Второй скрытый Conv блок\n",
        "  '''\n",
        "  # Если делаем второй свёрточный слой\n",
        "  if (makeThirdConv):               \n",
        "      # Добавляем Conv1D-слой с secondConvSize нейронами и ядром (secondConvKernel)\n",
        "      model.add(Conv1D(thirdConvSize, thirdConvKernel,\n",
        "                      activation=activation_list[activation2], padding='same')) \n",
        "      # Если делаем MaxPooling\n",
        "      if (makeMaxPooling2):           \n",
        "          # Добавляем слой MaxPooling1D с размером (maxPoolingSize, maxPoolingSize)\n",
        "          model.add(MaxPooling1D(pool_size=maxPoolingSize2)) \n",
        "\n",
        "  '''\n",
        "  Третий скрытый dense блок\n",
        "  '''\n",
        "  # Если делаем Dense до Flatten() или GlobalAveragePooling1D()\n",
        "  if (makeDense):\n",
        "      model.add(Dense(denseSize0, activation=activation_list[activationdense0]))\n",
        "\n",
        "  '''\n",
        "  Блок проверки размерности слоя\n",
        "  Для применения Flatten() или GlobalAveragePooling1D()\n",
        "  для вытягивания в вектор значений и передачи в выходной блок из Dense слоев\n",
        "  '''\n",
        "  # Получаем размерность последнего из добавленных слоев\n",
        "  control_shape = model.layers[-1].output.get_shape()\n",
        "\n",
        "  # Сравниваем с контрольным значением и применяем слой по условию\n",
        "  if control_shape[-1]*control_shape[-2] < control_level_shape:\n",
        "      model.add(Flatten())                   # Добавляем слой Flatten\n",
        "  else: model.add(GlobalAveragePooling1D())  # Добавляем слой GlobalAveragePooling1D\n",
        " \n",
        "  '''\n",
        "  Выходной dense блок\n",
        "  '''\n",
        "  # Если делаем финальную нормализацию         \n",
        "  if (makeSecondNormalization):     \n",
        "      model.add(BatchNormalization()) # Добавляем слой BatchNormalization\n",
        "  # Добавляем слой Dense с denseSize нейронами  \n",
        "  model.add(Dense(denseSize1, activation=activation_list[activationdense1])) \n",
        "  # Добавляем Dense-слой с softmax-активацией и 10 нейронами\n",
        "  model.add(Dense(len(CLASS_LABELS), activation=activation_list[activationdense2]))   \n",
        "  \n",
        "  # Возвращаем модель\n",
        "  return model    "
      ],
      "metadata": {
        "id": "i09tcx8Rm7Rl"
      },
      "execution_count": null,
      "outputs": []
    },
    {
      "cell_type": "code",
      "source": [
        "def create_bot4net():\n",
        "  '''\n",
        "  Функция создания списка случайных параметров - бота\n",
        "\n",
        "  -----------------\n",
        "  Входные данные:\n",
        "  отсутствуют\n",
        "  -----------------\n",
        "  На выходе функции:\n",
        "  net - список параметров для нелинейной нс\n",
        "  '''\n",
        "  net = []\n",
        "  '''\n",
        "  Гены входного блока Conv\n",
        "  '''\n",
        "  net.append(random.randint(0,1)) # 0 Делаем или нет нормализацию \n",
        "  net.append(random.randint(3,10)) # 1 Первый свёрточный слой от 4 до 1024 \n",
        "  net.append(random.randint(2,5)) # 2 Ядро первого свёрточного слоя от 2 до 7\n",
        "  net.append(random.randint(0,4)) # 3 Функция активации первого слоя\n",
        "  net.append(random.randint(0,1)) # 4 Делаем ли MaxPooling\n",
        "  net.append(random.randint(1,4)) # 5 Размер MaxPooling\n",
        "\n",
        "  '''\n",
        "  Гены первого скрытого Conv блока\n",
        "  '''\n",
        "  net.append(random.randint(0,1)) # 6 Сколько делаем еще сверточных слоев\n",
        "  net.append(random.randint(3,10)) # 1 Первый свёрточный слой от 4 до 1024 \n",
        "  net.append(random.randint(2,5)) # 8 Ядро второго свёрточного слоя от 2 до 8\n",
        "  net.append(random.randint(0,1)) # 9 Делаем ли MaxPooling\n",
        "  net.append(random.randint(1,4)) # 10 Размер MaxPooling\n",
        "  net.append(random.randint(0,4)) # 11 Функция активации второго слоя\n",
        "\n",
        "  '''\n",
        "  Гены второого скрытого Conv блока\n",
        "  '''\n",
        "  net.append(random.randint(0,1)) # 12 Сколько делаем еще сверточных слоев\n",
        "  net.append(random.randint(3,10)) # 1 Первый свёрточный слой от 4 до 1024 \n",
        "  net.append(random.randint(2,5)) # 14 Ядро второго свёрточного слоя от 2 до 8\n",
        "  net.append(random.randint(0,1)) # 14 Делаем ли MaxPooling\n",
        "  net.append(random.randint(1,4)) # 16 Размер MaxPooling\n",
        "  net.append(random.randint(0,4)) # 17 Функция активации второго слоя\n",
        "\n",
        "  '''\n",
        "  Гены третьего скрытого dense блока\n",
        "  '''\n",
        "  net.append(random.randint(0,1)) # 18 Делаем ли Dense до Flatten \n",
        "  net.append(random.randint(2,10)) # 19 Размер полносвязного слоя \n",
        "  net.append(random.randint(0,4)) # 20 Функция активации\n",
        "\n",
        "  '''\n",
        "  Гены выходного dense блока\n",
        "  '''\n",
        "  net.append(random.randint(2,10)) # 21 Размер полносвязного слоя от 4 до 1024\n",
        "  net.append(random.randint(0,4)) # 22 Функция активации предпоследнего dense слоя\n",
        "  net.append(random.randint(0,1)) # 23 Делаем ли финальную нормализацию слой\n",
        "  net.append(random.randint(0,4)) # 24 Функция активации последнего слоя\n",
        "  \n",
        "  return net"
      ],
      "metadata": {
        "id": "kA7wIesInglA"
      },
      "execution_count": null,
      "outputs": []
    },
    {
      "cell_type": "code",
      "source": [
        "bot = create_bot4net()\n",
        "print(bot)\n",
        "print('Длина бота', len(bot))\n",
        "# Создаем модель createConvNet\n",
        "model = create_randnet(bot)\n",
        "# выводим слои модели \n",
        "model.summary()                               "
      ],
      "metadata": {
        "colab": {
          "base_uri": "https://localhost:8080/"
        },
        "id": "jHOlgEQ_nsK9",
        "outputId": "f2cf4e64-11b2-413b-99b2-a9908e206571"
      },
      "execution_count": null,
      "outputs": [
        {
          "output_type": "stream",
          "name": "stdout",
          "text": [
            "[0, 7, 4, 4, 0, 3, 1, 6, 4, 1, 2, 2, 0, 8, 3, 1, 1, 1, 0, 4, 4, 8, 0, 0, 3]\n",
            "Длина бота 25\n",
            "Model: \"sequential\"\n",
            "_________________________________________________________________\n",
            " Layer (type)                Output Shape              Param #   \n",
            "=================================================================\n",
            " conv1d (Conv1D)             (None, 19, 128)           7808      \n",
            "                                                                 \n",
            " conv1d_1 (Conv1D)           (None, 19, 64)            32832     \n",
            "                                                                 \n",
            " max_pooling1d (MaxPooling1D  (None, 9, 64)            0         \n",
            " )                                                               \n",
            "                                                                 \n",
            " flatten (Flatten)           (None, 576)               0         \n",
            "                                                                 \n",
            " dense (Dense)               (None, 256)               147712    \n",
            "                                                                 \n",
            " dense_1 (Dense)             (None, 2)                 514       \n",
            "                                                                 \n",
            "=================================================================\n",
            "Total params: 188,866\n",
            "Trainable params: 188,866\n",
            "Non-trainable params: 0\n",
            "_________________________________________________________________\n"
          ]
        }
      ]
    },
    {
      "cell_type": "code",
      "source": [
        "def eval_net(net,\n",
        "             ep,\n",
        "             verb,\n",
        "             x_train,\n",
        "             y_train,\n",
        "             x_test,\n",
        "             y_test,\n",
        "             ):\n",
        "  '''\n",
        "  Функция вычисления результатов работы сети:\n",
        "  \n",
        "  -----------------\n",
        "  Входные данные:\n",
        "  net - бот популяции;\n",
        "  ep - к-во эпох проверки нс;\n",
        "  verb - выводить или нет процесс обучения нс на эпохе;\n",
        "  xData - тренировочные данные;\n",
        "  yData - проверочные данные;\n",
        "  x_test - x тестовая выборка;\n",
        "  y_test - y тестовая выборка;\n",
        "  ------------------------\n",
        "  На выходе функции:\n",
        "  val - на выходе функции оценка работы нс на эпохах проверки\n",
        "  '''\n",
        "  val = 0\n",
        "  model = create_randnet(net) # Создаем модель createConvNet\n",
        "  scores = []\n",
        "  # Компилируем модель\n",
        "  model.compile(loss='binary_crossentropy',\n",
        "                      metrics=['accuracy'],\n",
        "                      optimizer='adam')\n",
        "  print('Обучение модели бота', net)\n",
        "  history = model.fit(x_train,\n",
        "                        y_train,\n",
        "                        epochs=ep, \n",
        "                        verbose=verb,\n",
        "                        validation_split = 0.2,\n",
        "                        shuffle = False)\n",
        "        \n",
        "  val = model.evaluate(x_test, y_test, verbose = 0) [1]  \n",
        "  return val                      # Возвращаем точность"
      ],
      "metadata": {
        "id": "3VnXAwxFnuNk"
      },
      "execution_count": null,
      "outputs": []
    },
    {
      "cell_type": "code",
      "source": [
        "eval_net(bot,            # бот популяции \n",
        "            10,              # к-во эпох проверки \n",
        "            1,              # выводить или нет процесс обучения \n",
        "            x_train,  # тренировочные данные\n",
        "            y_train,    # проверочные данные\n",
        "            x_test,         # тестовая выборка\n",
        "            y_test,         # тестовая выборка\n",
        "            )"
      ],
      "metadata": {
        "colab": {
          "base_uri": "https://localhost:8080/"
        },
        "id": "mi4FvXDCpjBa",
        "outputId": "3178d0ae-c7cb-497d-cc36-bd86ec898400"
      },
      "execution_count": null,
      "outputs": [
        {
          "output_type": "stream",
          "name": "stdout",
          "text": [
            "Обучение модели бота [0, 10, 2, 4, 0, 3, 1, 9, 3, 0, 1, 2, 1, 10, 5, 1, 1, 4, 0, 9, 0, 6, 2, 1, 2]\n",
            "Epoch 1/10\n",
            "455/455 [==============================] - 13s 27ms/step - loss: 3.4963 - accuracy: 0.7578 - val_loss: 5.2156 - val_accuracy: 0.6070\n",
            "Epoch 2/10\n",
            "455/455 [==============================] - 12s 26ms/step - loss: 3.8648 - accuracy: 0.7459 - val_loss: 3.1186 - val_accuracy: 0.7933\n",
            "Epoch 3/10\n",
            "455/455 [==============================] - 11s 25ms/step - loss: 3.0555 - accuracy: 0.8137 - val_loss: 2.8485 - val_accuracy: 0.8143\n",
            "Epoch 4/10\n",
            "455/455 [==============================] - 12s 26ms/step - loss: 2.2047 - accuracy: 0.8543 - val_loss: 2.0993 - val_accuracy: 0.8635\n",
            "Epoch 5/10\n",
            "455/455 [==============================] - 12s 26ms/step - loss: 2.1618 - accuracy: 0.8532 - val_loss: 2.1628 - val_accuracy: 0.8586\n",
            "Epoch 6/10\n",
            "455/455 [==============================] - 12s 26ms/step - loss: 2.1587 - accuracy: 0.8577 - val_loss: 2.0608 - val_accuracy: 0.8663\n",
            "Epoch 7/10\n",
            "455/455 [==============================] - 12s 26ms/step - loss: 2.2649 - accuracy: 0.8538 - val_loss: 2.3756 - val_accuracy: 0.8456\n",
            "Epoch 8/10\n",
            "455/455 [==============================] - 12s 25ms/step - loss: 2.7523 - accuracy: 0.8571 - val_loss: 3.3752 - val_accuracy: 0.8511\n",
            "Epoch 9/10\n",
            "455/455 [==============================] - 12s 25ms/step - loss: 2.5902 - accuracy: 0.8625 - val_loss: 2.0834 - val_accuracy: 0.8663\n",
            "Epoch 10/10\n",
            "455/455 [==============================] - 12s 26ms/step - loss: 1.9978 - accuracy: 0.8701 - val_loss: 2.0017 - val_accuracy: 0.8693\n"
          ]
        },
        {
          "output_type": "execute_result",
          "data": {
            "text/plain": [
              "0.8846815824508667"
            ]
          },
          "metadata": {},
          "execution_count": 38
        }
      ]
    },
    {
      "cell_type": "markdown",
      "source": [
        "Подбор гиперпараметров генетикой"
      ],
      "metadata": {
        "id": "w1Z3R5oErPTE"
      }
    },
    {
      "cell_type": "code",
      "source": [
        "'''\n",
        "Основные параметры для поиска\n",
        "'''\n",
        "n = 15              # Общее число ботов\n",
        "nsurv = 5           # Количество выживших (столько лучших переходит в новую популяцию)\n",
        "nnew = n - nsurv    # Количество новых (столько новых ботов создается)\n",
        "l = 25              # Размер бота\n",
        "epohs = 20          # количество эпох поиска\n",
        "control_std = 0.001 # выход из поиска если изменение в лучших ниже данного значения\n",
        "\n",
        "\n",
        "'''\n",
        "Изменении показателя мутации по эпохам поиска\n",
        "'''\n",
        "mut = 0.5        # коэфициент мутаций\n",
        "eph_change_mut = [2, 4, 6, 8] # эпохи смены коэфициента мутации\n",
        "new_mut = [0.4, 0.3, 0.2, 0.1] # новый коэфициент мутаци\n",
        "\n",
        "\n",
        "'''\n",
        "Создаём популяцию случайных ботов\n",
        "'''\n",
        "popul = []         # Массив популяции\n",
        "val = []           # Одномерный массив значений этих ботов\n",
        "for i in range(n):\n",
        "    popul.append(create_bot4net())\n",
        "\n",
        "\n",
        "'''\n",
        "Основной цикл поиска\n",
        "'''  \n",
        "sval_best = []    # Одномерный массив значений лучших ботов на эпохах\n",
        "# Пробегаем по всем эпохам\n",
        "for it in range(epohs):                 \n",
        "    # проверяем текущую эпоху it на принадлежность графику смены мутации\n",
        "    if it in eph_change_mut:\n",
        "        idx = eph_change_mut.index(it) # получаем индекс  по эпохе\n",
        "        mut = new_mut[idx] # проверяем текущую эпохуобновляем мутацию\n",
        "        print('Смена мутации на', mut)\n",
        "        print()  \n",
        "\n",
        "    val = []                              # Обнуляем значения бота\n",
        "    curr_time = time.time()               # засекаем время\n",
        "\n",
        "    '''\n",
        "    Получение оценок ботов\n",
        "    '''  \n",
        "    # Пробегаем в цикле по всем ботам \n",
        "    for i in range(n):                    \n",
        "        bot = popul[i]                     # Берем очередного бота\n",
        "\n",
        "        # Вычисляем точность текущего бота\n",
        "        f = eval_net(bot,            # бот популяции \n",
        "                    6,              # к-во эпох проверки \n",
        "                    0,              # выводить или нет процесс обучения \n",
        "                    x_train,  # тренировочные данные\n",
        "                    y_train,    # проверочные данные\n",
        "                    x_test,         # тестовая выборка\n",
        "                    y_test,         # тестовая выборка\n",
        "                    ) \n",
        "        val.append(f)   # Добавляем полученное значение в список val\n",
        "    \n",
        "    '''\n",
        "    Сортировка оценок ботов и контроль поиса\n",
        "    ''' \n",
        "    sval = sorted(val, reverse=1)         # Сортируем val\n",
        "    # Выводим 5 лучших ботов\n",
        "    print(it, time.time() - curr_time, \" \", sval[0:5],popul[:5]) \n",
        "\n",
        "    sval_best.append(sval[0])             # добавляем значение лучшего бота\n",
        "    # проверка на продолжение поиска, есть разница или уже нет в точности\n",
        "    if it > 5:                            # с 6й эпохи \n",
        "        sval_best = sorted(sval_best, reverse=0)[:5] # сортируем и берем 5ть лучших \n",
        "        if np.std(sval_best) < control_std:          # сверяем значения на отличие \n",
        "            print('Поиск дучших не дает нового, выход')\n",
        "            break\n",
        "\n",
        "    '''\n",
        "    Сохранение лучших ботов в newpopul\n",
        "    '''  \n",
        "    newpopul = [] # Создаем пустой список под новую популяцию\n",
        "    # Пробегаем по всем выжившим ботам\n",
        "    for i in range(nsurv):\n",
        "        # Получаем индекс очередного бота из списка лучших в списке val             \n",
        "        index = val.index(sval[i])\n",
        "        # Добавляем в новую популяцию бота из popul с индексом index        \n",
        "        newpopul.append(popul[index])       \n",
        "    '''\n",
        "    Создание новых ботов на основе лучших ботов в newpopul.\n",
        "    Иногда дополнительно применение мутации\n",
        "    '''\n",
        "    # Проходимся в цикле nnew-раз \n",
        "    for i in range(nnew):\n",
        "        # случайный выбор родителя в диапазоне от 0 до nsurv - 1              \n",
        "        indexp1 = random.randint(0,nsurv-1) # Случайный индекс 1го родителя \n",
        "        indexp2 = random.randint(0,nsurv-1) # Случайный индекс 1го родителя\n",
        "        botp1 = newpopul[indexp1]           # бота-родителя 1 по indexp1\n",
        "        botp2 = newpopul[indexp2]           # бота-родителя  2 по indexp2    \n",
        "        newbot = []                         # пустой список для нового бота    \n",
        "        net4Mut = create_bot4net()         # Создаем случайную сеть для мутаций\n",
        "\n",
        "        '''\n",
        "        Пробегаем по всей длине бота\n",
        "        '''\n",
        "        for j in range(l):                        \n",
        "            x = 0      \n",
        "\n",
        "            '''\n",
        "            Скрещмивание\n",
        "            '''\n",
        "            # Получаем случайное число в диапазоне от 0 до 1\n",
        "            pindex = random.random() \n",
        "            # Если pindex меньше 0.5, то берем значения от 1 бота, иначе от 2\n",
        "            if pindex < 0.5:\n",
        "                x = botp1[j]\n",
        "            else:\n",
        "                x = botp2[j]\n",
        "            \n",
        "            '''\n",
        "            Мутация\n",
        "            '''\n",
        "            # С вероятностью mut устанавливаем значение бота из net4Mut\n",
        "            if (random.random() < mut):\n",
        "                x = net4Mut[j]\n",
        "              \n",
        "            newbot.append(x)    # Добавляем очередное значение в нового бота      \n",
        "        newpopul.append(newbot) # Добавляем бота в новую популяцию      \n",
        "    popul = newpopul            # Записываем в popul новую посчитанную популяцию"
      ],
      "metadata": {
        "colab": {
          "base_uri": "https://localhost:8080/"
        },
        "id": "emZGdqI4qQXd",
        "outputId": "8007f290-6b86-405f-97d9-4862484722f8"
      },
      "execution_count": null,
      "outputs": [
        {
          "output_type": "stream",
          "name": "stdout",
          "text": [
            "Обучение модели бота [0, 5, 5, 3, 0, 2, 0, 10, 3, 1, 4, 4, 1, 7, 2, 1, 4, 2, 1, 3, 2, 8, 1, 0, 3]\n",
            "Обучение модели бота [0, 4, 4, 1, 0, 4, 0, 3, 2, 0, 1, 0, 0, 5, 3, 0, 1, 0, 1, 9, 4, 3, 3, 1, 0]\n",
            "Обучение модели бота [1, 8, 3, 3, 1, 4, 0, 3, 5, 1, 3, 3, 1, 4, 3, 1, 3, 0, 1, 9, 3, 3, 0, 1, 2]\n",
            "Обучение модели бота [0, 3, 3, 4, 1, 2, 1, 4, 4, 0, 1, 4, 1, 8, 2, 0, 1, 3, 0, 6, 0, 7, 0, 0, 4]\n",
            "Обучение модели бота [0, 9, 4, 2, 0, 2, 0, 3, 3, 0, 3, 1, 0, 6, 3, 0, 3, 2, 0, 4, 2, 9, 3, 0, 4]\n",
            "Обучение модели бота [1, 3, 2, 1, 0, 2, 1, 4, 5, 1, 3, 0, 0, 4, 4, 1, 2, 3, 1, 4, 1, 9, 4, 0, 3]\n",
            "Обучение модели бота [0, 4, 5, 1, 1, 3, 1, 10, 4, 0, 3, 3, 0, 3, 5, 1, 4, 1, 0, 9, 3, 6, 0, 1, 3]\n",
            "Обучение модели бота [0, 3, 3, 0, 0, 4, 1, 3, 3, 0, 2, 4, 0, 10, 4, 0, 3, 2, 0, 9, 2, 7, 3, 0, 0]\n",
            "Обучение модели бота [0, 4, 2, 4, 0, 1, 0, 8, 2, 1, 1, 3, 0, 5, 2, 0, 1, 2, 1, 2, 1, 2, 3, 0, 4]\n",
            "Обучение модели бота [1, 10, 5, 4, 1, 4, 0, 9, 5, 0, 1, 3, 1, 6, 5, 1, 3, 1, 0, 9, 1, 8, 3, 1, 2]\n",
            "Обучение модели бота [0, 6, 2, 3, 0, 1, 0, 7, 3, 0, 4, 1, 1, 4, 2, 0, 2, 1, 1, 8, 3, 2, 1, 0, 4]\n",
            "Обучение модели бота [0, 5, 5, 3, 0, 3, 0, 7, 4, 0, 4, 3, 0, 7, 4, 0, 2, 3, 1, 4, 1, 10, 4, 0, 0]\n",
            "Обучение модели бота [0, 7, 5, 3, 0, 4, 0, 9, 2, 1, 3, 1, 0, 6, 3, 1, 3, 0, 0, 3, 0, 3, 4, 0, 2]\n",
            "Обучение модели бота [1, 7, 2, 1, 0, 1, 1, 4, 4, 1, 1, 1, 1, 3, 3, 1, 1, 1, 1, 7, 0, 9, 3, 0, 3]\n",
            "Обучение модели бота [0, 6, 2, 0, 1, 4, 1, 4, 2, 1, 3, 1, 1, 4, 5, 0, 4, 0, 1, 4, 0, 5, 0, 1, 4]\n",
            "0 365.507527589798   [0.9328743815422058, 0.9242684841156006, 0.9208261370658875, 0.9087779521942139, 0.8967297673225403] [[0, 5, 5, 3, 0, 2, 0, 10, 3, 1, 4, 4, 1, 7, 2, 1, 4, 2, 1, 3, 2, 8, 1, 0, 3], [0, 4, 4, 1, 0, 4, 0, 3, 2, 0, 1, 0, 0, 5, 3, 0, 1, 0, 1, 9, 4, 3, 3, 1, 0], [1, 8, 3, 3, 1, 4, 0, 3, 5, 1, 3, 3, 1, 4, 3, 1, 3, 0, 1, 9, 3, 3, 0, 1, 2], [0, 3, 3, 4, 1, 2, 1, 4, 4, 0, 1, 4, 1, 8, 2, 0, 1, 3, 0, 6, 0, 7, 0, 0, 4], [0, 9, 4, 2, 0, 2, 0, 3, 3, 0, 3, 1, 0, 6, 3, 0, 3, 2, 0, 4, 2, 9, 3, 0, 4]]\n",
            "Обучение модели бота [0, 4, 2, 4, 0, 1, 0, 8, 2, 1, 1, 3, 0, 5, 2, 0, 1, 2, 1, 2, 1, 2, 3, 0, 4]\n",
            "Обучение модели бота [0, 7, 5, 3, 0, 4, 0, 9, 2, 1, 3, 1, 0, 6, 3, 1, 3, 0, 0, 3, 0, 3, 4, 0, 2]\n",
            "Обучение модели бота [0, 3, 3, 0, 0, 4, 1, 3, 3, 0, 2, 4, 0, 10, 4, 0, 3, 2, 0, 9, 2, 7, 3, 0, 0]\n",
            "Обучение модели бота [0, 3, 3, 4, 1, 2, 1, 4, 4, 0, 1, 4, 1, 8, 2, 0, 1, 3, 0, 6, 0, 7, 0, 0, 4]\n",
            "Обучение модели бота [0, 5, 5, 3, 0, 3, 0, 7, 4, 0, 4, 3, 0, 7, 4, 0, 2, 3, 1, 4, 1, 10, 4, 0, 0]\n",
            "Обучение модели бота [1, 8, 3, 0, 1, 4, 1, 3, 3, 0, 2, 4, 0, 4, 4, 0, 2, 1, 0, 9, 2, 7, 4, 1, 1]\n",
            "Обучение модели бота [1, 8, 5, 3, 0, 3, 0, 4, 4, 1, 3, 0, 1, 7, 5, 0, 2, 3, 1, 4, 1, 3, 4, 0, 3]\n",
            "Обучение модели бота [1, 3, 3, 4, 0, 1, 1, 4, 2, 1, 4, 3, 0, 5, 2, 1, 1, 0, 0, 2, 0, 7, 0, 1, 1]\n",
            "Обучение модели бота [1, 7, 5, 0, 0, 1, 0, 7, 5, 0, 3, 1, 0, 7, 4, 1, 3, 3, 0, 9, 0, 10, 4, 0, 0]\n",
            "Обучение модели бота [0, 3, 4, 4, 0, 3, 0, 3, 3, 0, 3, 2, 0, 5, 3, 0, 3, 2, 0, 2, 1, 3, 3, 0, 3]\n",
            "Обучение модели бота [0, 4, 4, 3, 0, 2, 0, 7, 4, 0, 4, 4, 0, 7, 4, 0, 2, 0, 1, 4, 1, 10, 4, 1, 0]\n",
            "Обучение модели бота [1, 7, 4, 1, 1, 4, 0, 3, 2, 0, 3, 1, 1, 6, 3, 1, 3, 3, 0, 3, 0, 7, 3, 1, 2]\n",
            "Обучение модели бота [0, 5, 5, 4, 0, 3, 0, 6, 4, 0, 4, 2, 0, 6, 2, 0, 2, 3, 1, 6, 2, 10, 4, 1, 3]\n",
            "Обучение модели бота [1, 7, 3, 3, 1, 4, 0, 8, 4, 1, 1, 2, 0, 8, 3, 0, 1, 3, 0, 3, 2, 7, 1, 0, 2]\n",
            "Обучение модели бота [0, 7, 3, 4, 0, 2, 0, 7, 3, 1, 2, 4, 1, 10, 3, 0, 3, 4, 0, 6, 2, 7, 4, 0, 4]\n",
            "1 316.0423150062561   [0.9414802193641663, 0.93459552526474, 0.9277108311653137, 0.9242684841156006, 0.9242684841156006] [[0, 4, 2, 4, 0, 1, 0, 8, 2, 1, 1, 3, 0, 5, 2, 0, 1, 2, 1, 2, 1, 2, 3, 0, 4], [0, 7, 5, 3, 0, 4, 0, 9, 2, 1, 3, 1, 0, 6, 3, 1, 3, 0, 0, 3, 0, 3, 4, 0, 2], [0, 3, 3, 0, 0, 4, 1, 3, 3, 0, 2, 4, 0, 10, 4, 0, 3, 2, 0, 9, 2, 7, 3, 0, 0], [0, 3, 3, 4, 1, 2, 1, 4, 4, 0, 1, 4, 1, 8, 2, 0, 1, 3, 0, 6, 0, 7, 0, 0, 4], [0, 5, 5, 3, 0, 3, 0, 7, 4, 0, 4, 3, 0, 7, 4, 0, 2, 3, 1, 4, 1, 10, 4, 0, 0]]\n",
            "Смена мутации на 0.4\n",
            "\n",
            "Обучение модели бота [0, 3, 4, 4, 0, 3, 0, 3, 3, 0, 3, 2, 0, 5, 3, 0, 3, 2, 0, 2, 1, 3, 3, 0, 3]\n",
            "Обучение модели бота [0, 7, 3, 4, 0, 2, 0, 7, 3, 1, 2, 4, 1, 10, 3, 0, 3, 4, 0, 6, 2, 7, 4, 0, 4]\n",
            "Обучение модели бота [0, 5, 5, 3, 0, 3, 0, 7, 4, 0, 4, 3, 0, 7, 4, 0, 2, 3, 1, 4, 1, 10, 4, 0, 0]\n",
            "Обучение модели бота [0, 7, 5, 3, 0, 4, 0, 9, 2, 1, 3, 1, 0, 6, 3, 1, 3, 0, 0, 3, 0, 3, 4, 0, 2]\n",
            "Обучение модели бота [0, 7, 5, 3, 0, 4, 0, 9, 2, 1, 3, 1, 0, 6, 3, 1, 3, 0, 0, 3, 0, 3, 4, 0, 2]\n",
            "Обучение модели бота [0, 3, 4, 3, 0, 3, 0, 9, 4, 1, 3, 0, 0, 7, 2, 1, 2, 0, 0, 9, 0, 3, 2, 0, 0]\n",
            "Обучение модели бота [0, 6, 5, 3, 0, 4, 0, 9, 2, 1, 4, 0, 0, 7, 3, 1, 3, 0, 1, 3, 0, 3, 3, 0, 0]\n",
            "Обучение модели бота [0, 4, 5, 3, 0, 1, 0, 8, 4, 0, 4, 3, 0, 9, 5, 0, 3, 3, 0, 10, 3, 10, 4, 1, 3]\n",
            "Обучение модели бота [0, 6, 4, 3, 1, 3, 0, 6, 4, 1, 2, 2, 0, 7, 4, 0, 3, 3, 1, 4, 1, 10, 3, 0, 0]\n",
            "Обучение модели бота [0, 7, 5, 2, 0, 2, 0, 7, 3, 1, 4, 4, 0, 9, 5, 0, 1, 3, 0, 3, 3, 10, 4, 0, 0]\n",
            "Обучение модели бота [0, 7, 3, 1, 1, 4, 1, 7, 3, 0, 2, 3, 1, 5, 4, 0, 3, 4, 1, 8, 2, 7, 0, 0, 0]\n",
            "Обучение модели бота [1, 3, 4, 4, 0, 3, 1, 9, 2, 0, 3, 2, 0, 5, 3, 0, 3, 2, 0, 3, 2, 3, 3, 0, 2]\n",
            "Обучение модели бота [0, 7, 5, 4, 0, 1, 0, 3, 4, 1, 2, 1, 0, 8, 2, 1, 1, 0, 0, 3, 3, 3, 4, 0, 0]\n",
            "Обучение модели бота [0, 7, 5, 3, 0, 4, 0, 3, 2, 1, 3, 1, 0, 9, 5, 1, 3, 0, 0, 3, 0, 3, 3, 0, 4]\n",
            "Обучение модели бота [0, 7, 3, 3, 0, 4, 0, 5, 2, 1, 3, 1, 1, 6, 3, 0, 2, 0, 1, 4, 0, 10, 4, 0, 1]\n",
            "2 279.69702768325806   [0.9432013630867004, 0.9363166689872742, 0.9294320344924927, 0.9294320344924927, 0.9225473403930664] [[0, 3, 4, 4, 0, 3, 0, 3, 3, 0, 3, 2, 0, 5, 3, 0, 3, 2, 0, 2, 1, 3, 3, 0, 3], [0, 7, 3, 4, 0, 2, 0, 7, 3, 1, 2, 4, 1, 10, 3, 0, 3, 4, 0, 6, 2, 7, 4, 0, 4], [0, 5, 5, 3, 0, 3, 0, 7, 4, 0, 4, 3, 0, 7, 4, 0, 2, 3, 1, 4, 1, 10, 4, 0, 0], [0, 7, 5, 3, 0, 4, 0, 9, 2, 1, 3, 1, 0, 6, 3, 1, 3, 0, 0, 3, 0, 3, 4, 0, 2], [0, 7, 5, 3, 0, 4, 0, 9, 2, 1, 3, 1, 0, 6, 3, 1, 3, 0, 0, 3, 0, 3, 4, 0, 2]]\n",
            "Обучение модели бота [0, 3, 4, 3, 0, 3, 0, 9, 4, 1, 3, 0, 0, 7, 2, 1, 2, 0, 0, 9, 0, 3, 2, 0, 0]\n",
            "Обучение модели бота [0, 7, 5, 4, 0, 1, 0, 3, 4, 1, 2, 1, 0, 8, 2, 1, 1, 0, 0, 3, 3, 3, 4, 0, 0]\n",
            "Обучение модели бота [0, 7, 3, 4, 0, 2, 0, 7, 3, 1, 2, 4, 1, 10, 3, 0, 3, 4, 0, 6, 2, 7, 4, 0, 4]\n",
            "Обучение модели бота [0, 7, 3, 4, 0, 2, 0, 7, 3, 1, 2, 4, 1, 10, 3, 0, 3, 4, 0, 6, 2, 7, 4, 0, 4]\n",
            "Обучение модели бота [0, 5, 5, 3, 0, 3, 0, 7, 4, 0, 4, 3, 0, 7, 4, 0, 2, 3, 1, 4, 1, 10, 4, 0, 0]\n",
            "Обучение модели бота [0, 5, 4, 3, 0, 2, 1, 7, 2, 0, 4, 3, 0, 7, 4, 0, 4, 1, 0, 4, 1, 10, 1, 0, 0]\n",
            "Обучение модели бота [0, 3, 3, 3, 1, 3, 0, 7, 3, 1, 2, 0, 1, 4, 3, 1, 2, 3, 1, 6, 0, 7, 2, 1, 0]\n",
            "Обучение модели бота [0, 4, 5, 4, 0, 4, 0, 7, 4, 0, 2, 3, 0, 9, 3, 0, 3, 4, 0, 6, 1, 10, 4, 0, 2]\n",
            "Обучение модели бота [0, 9, 3, 2, 1, 2, 1, 9, 2, 0, 4, 4, 1, 4, 3, 0, 2, 4, 1, 6, 2, 10, 4, 0, 4]\n",
            "Обучение модели бота [1, 3, 4, 0, 0, 3, 1, 10, 5, 1, 2, 1, 0, 7, 2, 1, 2, 3, 1, 4, 0, 10, 4, 1, 1]\n",
            "Обучение модели бота [1, 5, 4, 0, 1, 3, 0, 7, 4, 1, 3, 3, 0, 7, 4, 1, 2, 0, 1, 2, 1, 2, 4, 0, 2]\n",
            "Обучение модели бота [0, 6, 3, 3, 0, 2, 1, 8, 3, 0, 2, 3, 0, 7, 3, 0, 2, 2, 0, 7, 2, 5, 4, 0, 0]\n",
            "Обучение модели бота [0, 7, 5, 0, 0, 3, 0, 7, 4, 0, 2, 4, 1, 10, 2, 0, 4, 4, 0, 7, 2, 3, 4, 0, 0]\n",
            "Обучение модели бота [0, 5, 5, 3, 1, 3, 0, 7, 3, 1, 2, 0, 1, 6, 2, 0, 2, 4, 0, 4, 1, 3, 4, 0, 4]\n",
            "Обучение модели бота [1, 3, 5, 1, 0, 2, 0, 7, 3, 0, 3, 4, 0, 10, 3, 0, 2, 4, 0, 6, 0, 4, 4, 0, 4]\n",
            "3 345.4638285636902   [0.9432013630867004, 0.9380378723144531, 0.93459552526474, 0.9277108311653137, 0.913941502571106] [[0, 3, 4, 3, 0, 3, 0, 9, 4, 1, 3, 0, 0, 7, 2, 1, 2, 0, 0, 9, 0, 3, 2, 0, 0], [0, 7, 5, 4, 0, 1, 0, 3, 4, 1, 2, 1, 0, 8, 2, 1, 1, 0, 0, 3, 3, 3, 4, 0, 0], [0, 7, 3, 4, 0, 2, 0, 7, 3, 1, 2, 4, 1, 10, 3, 0, 3, 4, 0, 6, 2, 7, 4, 0, 4], [0, 7, 3, 4, 0, 2, 0, 7, 3, 1, 2, 4, 1, 10, 3, 0, 3, 4, 0, 6, 2, 7, 4, 0, 4], [0, 5, 5, 3, 0, 3, 0, 7, 4, 0, 4, 3, 0, 7, 4, 0, 2, 3, 1, 4, 1, 10, 4, 0, 0]]\n",
            "Смена мутации на 0.3\n",
            "\n",
            "Обучение модели бота [0, 5, 5, 3, 1, 3, 0, 7, 3, 1, 2, 0, 1, 6, 2, 0, 2, 4, 0, 4, 1, 3, 4, 0, 4]\n",
            "Обучение модели бота [0, 7, 3, 4, 0, 2, 0, 7, 3, 1, 2, 4, 1, 10, 3, 0, 3, 4, 0, 6, 2, 7, 4, 0, 4]\n",
            "Обучение модели бота [0, 5, 4, 3, 0, 2, 1, 7, 2, 0, 4, 3, 0, 7, 4, 0, 4, 1, 0, 4, 1, 10, 1, 0, 0]\n",
            "Обучение модели бота [0, 9, 3, 2, 1, 2, 1, 9, 2, 0, 4, 4, 1, 4, 3, 0, 2, 4, 1, 6, 2, 10, 4, 0, 4]\n",
            "Обучение модели бота [0, 3, 4, 3, 0, 3, 0, 9, 4, 1, 3, 0, 0, 7, 2, 1, 2, 0, 0, 9, 0, 3, 2, 0, 0]\n",
            "Обучение модели бота [0, 5, 4, 4, 1, 4, 1, 9, 3, 0, 2, 4, 0, 10, 4, 0, 3, 1, 0, 6, 0, 10, 4, 0, 0]\n",
            "Обучение модели бота [0, 7, 3, 1, 1, 2, 1, 7, 2, 0, 4, 3, 1, 6, 5, 0, 1, 3, 0, 6, 2, 7, 3, 0, 0]\n",
            "Обучение модели бота [0, 9, 4, 2, 0, 2, 1, 10, 2, 1, 3, 4, 0, 4, 2, 0, 2, 4, 1, 8, 2, 3, 2, 0, 4]\n",
            "Обучение модели бота [1, 3, 3, 3, 1, 1, 1, 8, 2, 0, 4, 1, 1, 9, 2, 0, 2, 1, 0, 6, 0, 3, 4, 0, 0]\n",
            "Обучение модели бота [0, 9, 4, 3, 1, 3, 0, 7, 2, 0, 2, 4, 1, 6, 4, 0, 2, 4, 0, 4, 1, 3, 4, 0, 4]\n",
            "Обучение модели бота [1, 6, 4, 3, 0, 3, 0, 9, 4, 1, 4, 0, 0, 9, 2, 1, 2, 0, 0, 8, 0, 5, 2, 0, 0]\n",
            "Обучение модели бота [0, 5, 5, 3, 1, 3, 1, 7, 2, 1, 4, 0, 0, 9, 4, 0, 2, 0, 0, 9, 1, 4, 4, 0, 4]\n",
            "Обучение модели бота [0, 3, 4, 3, 0, 2, 0, 4, 5, 1, 2, 1, 0, 7, 4, 0, 2, 1, 0, 4, 2, 3, 2, 1, 2]\n",
            "Обучение модели бота [1, 7, 3, 3, 0, 1, 0, 9, 2, 0, 2, 4, 0, 4, 2, 1, 2, 0, 0, 6, 1, 7, 2, 0, 0]\n",
            "Обучение модели бота [0, 9, 3, 1, 0, 3, 0, 9, 2, 1, 3, 2, 0, 5, 2, 1, 2, 0, 0, 6, 0, 2, 4, 0, 4]\n",
            "4 313.1304156780243   [0.9535284042358398, 0.9363166689872742, 0.9311531782150269, 0.9294320344924927, 0.9277108311653137] [[0, 5, 5, 3, 1, 3, 0, 7, 3, 1, 2, 0, 1, 6, 2, 0, 2, 4, 0, 4, 1, 3, 4, 0, 4], [0, 7, 3, 4, 0, 2, 0, 7, 3, 1, 2, 4, 1, 10, 3, 0, 3, 4, 0, 6, 2, 7, 4, 0, 4], [0, 5, 4, 3, 0, 2, 1, 7, 2, 0, 4, 3, 0, 7, 4, 0, 4, 1, 0, 4, 1, 10, 1, 0, 0], [0, 9, 3, 2, 1, 2, 1, 9, 2, 0, 4, 4, 1, 4, 3, 0, 2, 4, 1, 6, 2, 10, 4, 0, 4], [0, 3, 4, 3, 0, 3, 0, 9, 4, 1, 3, 0, 0, 7, 2, 1, 2, 0, 0, 9, 0, 3, 2, 0, 0]]\n",
            "Обучение модели бота [0, 9, 3, 1, 0, 3, 0, 9, 2, 1, 3, 2, 0, 5, 2, 1, 2, 0, 0, 6, 0, 2, 4, 0, 4]\n",
            "Обучение модели бота [0, 9, 4, 3, 1, 3, 0, 7, 2, 0, 2, 4, 1, 6, 4, 0, 2, 4, 0, 4, 1, 3, 4, 0, 4]\n",
            "Обучение модели бота [0, 3, 4, 3, 0, 2, 0, 4, 5, 1, 2, 1, 0, 7, 4, 0, 2, 1, 0, 4, 2, 3, 2, 1, 2]\n",
            "Обучение модели бота [0, 5, 5, 3, 1, 3, 0, 7, 3, 1, 2, 0, 1, 6, 2, 0, 2, 4, 0, 4, 1, 3, 4, 0, 4]\n",
            "Обучение модели бота [0, 9, 3, 2, 1, 2, 1, 9, 2, 0, 4, 4, 1, 4, 3, 0, 2, 4, 1, 6, 2, 10, 4, 0, 4]\n",
            "Обучение модели бота [0, 9, 3, 2, 1, 3, 0, 9, 2, 0, 4, 2, 1, 10, 2, 0, 1, 0, 1, 9, 4, 10, 1, 1, 4]\n",
            "Обучение модели бота [0, 9, 5, 4, 1, 2, 1, 8, 2, 0, 4, 4, 1, 10, 2, 0, 1, 4, 1, 6, 4, 3, 3, 0, 4]\n",
            "Обучение модели бота [0, 9, 3, 3, 0, 1, 0, 3, 3, 0, 3, 4, 1, 9, 2, 1, 2, 0, 1, 2, 4, 2, 4, 1, 4]\n",
            "Обучение модели бота [0, 3, 5, 3, 0, 3, 0, 7, 5, 1, 2, 0, 1, 6, 4, 0, 3, 4, 0, 4, 1, 3, 1, 1, 4]\n",
            "Обучение модели бота [1, 5, 5, 0, 1, 3, 0, 7, 3, 0, 2, 4, 1, 9, 2, 0, 2, 4, 0, 4, 0, 2, 4, 0, 4]\n",
            "Обучение модели бота [0, 3, 2, 1, 1, 2, 0, 4, 5, 1, 2, 4, 0, 7, 4, 0, 2, 4, 0, 3, 1, 9, 0, 0, 2]\n",
            "Обучение модели бота [0, 5, 5, 3, 1, 4, 0, 3, 5, 1, 2, 0, 1, 6, 4, 0, 2, 4, 0, 4, 1, 3, 1, 0, 4]\n",
            "Обучение модели бота [0, 8, 4, 2, 1, 2, 1, 9, 5, 1, 4, 1, 0, 9, 3, 0, 2, 4, 0, 6, 2, 7, 2, 0, 4]\n",
            "Обучение модели бота [0, 9, 3, 3, 1, 3, 1, 3, 2, 0, 4, 4, 1, 5, 3, 0, 2, 4, 1, 2, 1, 9, 4, 0, 4]\n",
            "Обучение модели бота [1, 9, 4, 2, 0, 2, 1, 9, 2, 1, 2, 1, 0, 4, 3, 0, 3, 1, 1, 6, 2, 9, 2, 1, 4]\n",
            "5 334.3184151649475   [0.9483649134635925, 0.93459552526474, 0.93459552526474, 0.9225473403930664, 0.9001721143722534] [[0, 9, 3, 1, 0, 3, 0, 9, 2, 1, 3, 2, 0, 5, 2, 1, 2, 0, 0, 6, 0, 2, 4, 0, 4], [0, 9, 4, 3, 1, 3, 0, 7, 2, 0, 2, 4, 1, 6, 4, 0, 2, 4, 0, 4, 1, 3, 4, 0, 4], [0, 3, 4, 3, 0, 2, 0, 4, 5, 1, 2, 1, 0, 7, 4, 0, 2, 1, 0, 4, 2, 3, 2, 1, 2], [0, 5, 5, 3, 1, 3, 0, 7, 3, 1, 2, 0, 1, 6, 2, 0, 2, 4, 0, 4, 1, 3, 4, 0, 4], [0, 9, 3, 2, 1, 2, 1, 9, 2, 0, 4, 4, 1, 4, 3, 0, 2, 4, 1, 6, 2, 10, 4, 0, 4]]\n",
            "Смена мутации на 0.2\n",
            "\n",
            "Обучение модели бота [0, 9, 3, 1, 0, 3, 0, 9, 2, 1, 3, 2, 0, 5, 2, 1, 2, 0, 0, 6, 0, 2, 4, 0, 4]\n",
            "Обучение модели бота [0, 5, 5, 3, 1, 3, 0, 7, 3, 1, 2, 0, 1, 6, 2, 0, 2, 4, 0, 4, 1, 3, 4, 0, 4]\n",
            "Обучение модели бота [0, 5, 5, 3, 1, 3, 0, 7, 3, 1, 2, 0, 1, 6, 2, 0, 2, 4, 0, 4, 1, 3, 4, 0, 4]\n",
            "Обучение модели бота [0, 9, 4, 3, 1, 3, 0, 7, 2, 0, 2, 4, 1, 6, 4, 0, 2, 4, 0, 4, 1, 3, 4, 0, 4]\n",
            "Обучение модели бота [0, 3, 5, 3, 0, 3, 0, 7, 5, 1, 2, 0, 1, 6, 4, 0, 3, 4, 0, 4, 1, 3, 1, 1, 4]\n",
            "Обучение модели бота [0, 9, 3, 1, 0, 3, 1, 9, 2, 0, 1, 1, 0, 5, 2, 1, 2, 0, 0, 7, 4, 2, 4, 1, 1]\n",
            "Обучение модели бота [1, 8, 5, 3, 0, 3, 1, 7, 5, 1, 1, 4, 1, 9, 2, 0, 3, 4, 1, 4, 0, 3, 4, 0, 4]\n",
            "Обучение модели бота [0, 4, 5, 3, 0, 3, 0, 5, 2, 0, 3, 2, 0, 6, 2, 1, 3, 4, 0, 4, 1, 2, 4, 1, 4]\n",
            "Обучение модели бота [0, 5, 2, 0, 1, 3, 0, 7, 3, 1, 2, 0, 1, 6, 3, 0, 2, 4, 0, 4, 1, 3, 4, 0, 4]\n",
            "Обучение модели бота [0, 5, 2, 3, 0, 3, 0, 8, 2, 1, 4, 0, 1, 6, 2, 0, 2, 4, 0, 4, 1, 3, 3, 0, 4]\n",
            "Обучение модели бота [1, 9, 2, 3, 0, 3, 0, 9, 2, 1, 3, 0, 0, 5, 3, 0, 2, 0, 0, 4, 1, 3, 4, 0, 4]\n",
            "Обучение модели бота [1, 5, 3, 0, 1, 3, 0, 7, 3, 1, 2, 0, 1, 6, 5, 1, 2, 4, 0, 2, 3, 3, 1, 0, 4]\n",
            "Обучение модели бота [0, 4, 3, 0, 0, 3, 0, 6, 5, 1, 2, 4, 1, 6, 4, 0, 1, 2, 0, 4, 1, 2, 0, 0, 1]\n",
            "Обучение модели бота [0, 9, 5, 0, 1, 3, 0, 7, 2, 1, 2, 2, 1, 6, 2, 1, 2, 0, 0, 4, 1, 2, 4, 0, 4]\n",
            "Обучение модели бота [0, 5, 5, 3, 0, 3, 0, 6, 3, 1, 2, 0, 1, 6, 2, 1, 1, 4, 0, 4, 1, 3, 4, 0, 4]\n",
            "6 318.7775065898895   [0.9518072009086609, 0.9432013630867004, 0.9414802193641663, 0.9277108311653137, 0.9242684841156006] [[0, 9, 3, 1, 0, 3, 0, 9, 2, 1, 3, 2, 0, 5, 2, 1, 2, 0, 0, 6, 0, 2, 4, 0, 4], [0, 5, 5, 3, 1, 3, 0, 7, 3, 1, 2, 0, 1, 6, 2, 0, 2, 4, 0, 4, 1, 3, 4, 0, 4], [0, 5, 5, 3, 1, 3, 0, 7, 3, 1, 2, 0, 1, 6, 2, 0, 2, 4, 0, 4, 1, 3, 4, 0, 4], [0, 9, 4, 3, 1, 3, 0, 7, 2, 0, 2, 4, 1, 6, 4, 0, 2, 4, 0, 4, 1, 3, 4, 0, 4], [0, 3, 5, 3, 0, 3, 0, 7, 5, 1, 2, 0, 1, 6, 4, 0, 3, 4, 0, 4, 1, 3, 1, 1, 4]]\n",
            "Обучение модели бота [0, 5, 2, 3, 0, 3, 0, 8, 2, 1, 4, 0, 1, 6, 2, 0, 2, 4, 0, 4, 1, 3, 3, 0, 4]\n",
            "Обучение модели бота [0, 9, 5, 0, 1, 3, 0, 7, 2, 1, 2, 2, 1, 6, 2, 1, 2, 0, 0, 4, 1, 2, 4, 0, 4]\n",
            "Обучение модели бота [0, 5, 5, 3, 1, 3, 0, 7, 3, 1, 2, 0, 1, 6, 2, 0, 2, 4, 0, 4, 1, 3, 4, 0, 4]\n",
            "Обучение модели бота [0, 4, 3, 0, 0, 3, 0, 6, 5, 1, 2, 4, 1, 6, 4, 0, 1, 2, 0, 4, 1, 2, 0, 0, 1]\n",
            "Обучение модели бота [0, 5, 2, 0, 1, 3, 0, 7, 3, 1, 2, 0, 1, 6, 3, 0, 2, 4, 0, 4, 1, 3, 4, 0, 4]\n",
            "Обучение модели бота [0, 5, 5, 3, 1, 3, 0, 7, 3, 1, 2, 0, 1, 7, 2, 0, 2, 4, 0, 4, 1, 3, 4, 0, 4]\n",
            "Обучение модели бота [0, 3, 3, 3, 0, 3, 0, 9, 5, 1, 2, 4, 1, 6, 4, 0, 2, 2, 0, 4, 1, 2, 0, 0, 1]\n",
            "Обучение модели бота [0, 5, 5, 0, 1, 3, 0, 7, 3, 1, 2, 1, 1, 8, 5, 0, 2, 4, 0, 4, 1, 3, 4, 0, 4]\n",
            "Обучение модели бота [0, 4, 2, 0, 1, 3, 0, 7, 3, 1, 2, 0, 1, 6, 3, 0, 2, 4, 0, 4, 1, 7, 4, 0, 1]\n",
            "Обучение модели бота [0, 9, 3, 0, 1, 3, 0, 3, 2, 1, 2, 2, 1, 3, 2, 1, 2, 0, 0, 4, 1, 7, 4, 0, 2]\n",
            "Обучение модели бота [1, 9, 5, 3, 1, 4, 0, 7, 3, 1, 2, 0, 1, 6, 2, 0, 2, 4, 0, 4, 1, 3, 4, 0, 4]\n",
            "Обучение модели бота [0, 9, 3, 0, 1, 3, 0, 7, 2, 1, 4, 0, 1, 6, 2, 0, 3, 4, 0, 4, 1, 7, 4, 0, 4]\n",
            "Обучение модели бота [0, 9, 3, 0, 1, 3, 0, 7, 2, 1, 2, 2, 1, 6, 3, 0, 2, 4, 0, 4, 1, 2, 4, 0, 4]\n",
            "Обучение модели бота [0, 5, 2, 0, 0, 3, 0, 7, 3, 1, 2, 0, 1, 6, 3, 0, 2, 4, 0, 4, 1, 3, 4, 0, 4]\n",
            "Обучение модели бота [0, 5, 5, 0, 1, 3, 0, 7, 3, 1, 2, 0, 1, 8, 3, 0, 1, 0, 0, 4, 1, 9, 4, 0, 4]\n",
            "7 268.7863082885742   [0.9449225664138794, 0.9380378723144531, 0.9363166689872742, 0.93459552526474, 0.9311531782150269] [[0, 5, 2, 3, 0, 3, 0, 8, 2, 1, 4, 0, 1, 6, 2, 0, 2, 4, 0, 4, 1, 3, 3, 0, 4], [0, 9, 5, 0, 1, 3, 0, 7, 2, 1, 2, 2, 1, 6, 2, 1, 2, 0, 0, 4, 1, 2, 4, 0, 4], [0, 5, 5, 3, 1, 3, 0, 7, 3, 1, 2, 0, 1, 6, 2, 0, 2, 4, 0, 4, 1, 3, 4, 0, 4], [0, 4, 3, 0, 0, 3, 0, 6, 5, 1, 2, 4, 1, 6, 4, 0, 1, 2, 0, 4, 1, 2, 0, 0, 1], [0, 5, 2, 0, 1, 3, 0, 7, 3, 1, 2, 0, 1, 6, 3, 0, 2, 4, 0, 4, 1, 3, 4, 0, 4]]\n",
            "Смена мутации на 0.1\n",
            "\n",
            "Обучение модели бота [0, 5, 2, 0, 1, 3, 0, 7, 3, 1, 2, 0, 1, 6, 3, 0, 2, 4, 0, 4, 1, 3, 4, 0, 4]\n",
            "Обучение модели бота [0, 5, 5, 3, 1, 3, 0, 7, 3, 1, 2, 0, 1, 7, 2, 0, 2, 4, 0, 4, 1, 3, 4, 0, 4]\n",
            "Обучение модели бота [0, 5, 2, 3, 0, 3, 0, 8, 2, 1, 4, 0, 1, 6, 2, 0, 2, 4, 0, 4, 1, 3, 3, 0, 4]\n",
            "Обучение модели бота [0, 9, 5, 0, 1, 3, 0, 7, 2, 1, 2, 2, 1, 6, 2, 1, 2, 0, 0, 4, 1, 2, 4, 0, 4]\n",
            "Обучение модели бота [0, 5, 2, 0, 0, 3, 0, 7, 3, 1, 2, 0, 1, 6, 3, 0, 2, 4, 0, 4, 1, 3, 4, 0, 4]\n",
            "Обучение модели бота [0, 5, 5, 3, 1, 3, 0, 7, 3, 1, 2, 0, 1, 7, 2, 0, 3, 1, 0, 6, 4, 3, 4, 0, 4]\n",
            "Обучение модели бота [0, 4, 2, 3, 0, 1, 0, 6, 2, 1, 4, 0, 1, 6, 2, 0, 2, 4, 0, 4, 1, 3, 3, 0, 4]\n",
            "Обучение модели бота [0, 5, 2, 3, 1, 3, 0, 8, 2, 1, 2, 0, 1, 4, 3, 0, 2, 4, 1, 4, 1, 8, 4, 0, 4]\n",
            "Обучение модели бота [0, 9, 2, 0, 1, 3, 0, 7, 2, 1, 2, 4, 1, 6, 2, 1, 4, 0, 0, 4, 3, 2, 0, 0, 2]\n",
            "Обучение модели бота [1, 6, 2, 3, 0, 2, 0, 7, 5, 1, 4, 0, 1, 9, 3, 0, 2, 4, 0, 4, 1, 10, 3, 0, 4]\n",
            "Обучение модели бота [0, 5, 3, 4, 0, 3, 1, 7, 3, 1, 2, 0, 1, 3, 3, 0, 2, 4, 0, 4, 3, 2, 4, 0, 4]\n",
            "Обучение модели бота [0, 5, 5, 3, 1, 3, 0, 7, 3, 1, 2, 2, 1, 7, 2, 0, 2, 4, 0, 4, 1, 3, 4, 1, 4]\n",
            "Обучение модели бота [0, 5, 2, 2, 1, 2, 0, 8, 3, 1, 2, 0, 1, 5, 3, 0, 2, 4, 0, 4, 1, 3, 4, 0, 0]\n",
            "Обучение модели бота [0, 5, 2, 1, 1, 3, 0, 7, 3, 0, 2, 0, 1, 9, 3, 0, 2, 4, 1, 4, 1, 4, 0, 0, 4]\n",
            "Обучение модели бота [0, 9, 3, 0, 1, 3, 0, 7, 3, 1, 2, 0, 1, 6, 2, 0, 2, 4, 0, 4, 1, 5, 4, 0, 4]\n",
            "8 299.73639369010925   [0.9483649134635925, 0.9449225664138794, 0.9380378723144531, 0.9363166689872742, 0.9363166689872742] [[0, 5, 2, 0, 1, 3, 0, 7, 3, 1, 2, 0, 1, 6, 3, 0, 2, 4, 0, 4, 1, 3, 4, 0, 4], [0, 5, 5, 3, 1, 3, 0, 7, 3, 1, 2, 0, 1, 7, 2, 0, 2, 4, 0, 4, 1, 3, 4, 0, 4], [0, 5, 2, 3, 0, 3, 0, 8, 2, 1, 4, 0, 1, 6, 2, 0, 2, 4, 0, 4, 1, 3, 3, 0, 4], [0, 9, 5, 0, 1, 3, 0, 7, 2, 1, 2, 2, 1, 6, 2, 1, 2, 0, 0, 4, 1, 2, 4, 0, 4], [0, 5, 2, 0, 0, 3, 0, 7, 3, 1, 2, 0, 1, 6, 3, 0, 2, 4, 0, 4, 1, 3, 4, 0, 4]]\n",
            "Обучение модели бота [0, 4, 2, 3, 0, 1, 0, 6, 2, 1, 4, 0, 1, 6, 2, 0, 2, 4, 0, 4, 1, 3, 3, 0, 4]\n",
            "Обучение модели бота [0, 5, 3, 4, 0, 3, 1, 7, 3, 1, 2, 0, 1, 3, 3, 0, 2, 4, 0, 4, 3, 2, 4, 0, 4]\n",
            "Обучение модели бота [0, 5, 5, 3, 1, 3, 0, 7, 3, 1, 2, 0, 1, 7, 2, 0, 2, 4, 0, 4, 1, 3, 4, 0, 4]\n",
            "Обучение модели бота [0, 5, 2, 3, 0, 3, 0, 8, 2, 1, 4, 0, 1, 6, 2, 0, 2, 4, 0, 4, 1, 3, 3, 0, 4]\n",
            "Обучение модели бота [0, 5, 2, 3, 0, 3, 0, 8, 2, 1, 4, 0, 1, 6, 2, 0, 2, 4, 0, 4, 1, 3, 3, 0, 4]\n",
            "Обучение модели бота [0, 5, 2, 3, 0, 3, 0, 8, 2, 1, 2, 0, 1, 7, 2, 0, 2, 4, 0, 4, 1, 3, 4, 0, 4]\n",
            "Обучение модели бота [0, 4, 3, 4, 0, 1, 0, 6, 3, 1, 4, 0, 0, 6, 4, 0, 2, 4, 0, 4, 3, 3, 3, 0, 4]\n",
            "Обучение модели бота [0, 4, 2, 3, 0, 3, 0, 6, 3, 1, 2, 2, 1, 7, 2, 0, 2, 4, 0, 4, 1, 3, 4, 0, 4]\n",
            "Обучение модели бота [0, 5, 5, 4, 1, 3, 1, 7, 3, 1, 2, 0, 1, 3, 3, 0, 2, 4, 0, 4, 1, 2, 4, 0, 4]\n",
            "Обучение модели бота [0, 5, 3, 4, 0, 3, 0, 8, 2, 1, 4, 0, 1, 3, 3, 0, 2, 4, 0, 4, 3, 9, 4, 0, 4]\n",
            "Обучение модели бота [0, 5, 2, 3, 0, 3, 0, 4, 2, 1, 4, 3, 1, 6, 2, 0, 2, 4, 0, 4, 1, 3, 3, 0, 4]\n",
            "Обучение модели бота [0, 5, 3, 4, 0, 3, 1, 7, 4, 1, 2, 0, 1, 3, 3, 0, 2, 4, 0, 7, 3, 2, 4, 0, 4]\n",
            "Обучение модели бота [0, 5, 2, 4, 1, 3, 1, 7, 3, 1, 2, 0, 1, 7, 3, 0, 2, 4, 0, 4, 1, 3, 4, 0, 4]\n",
            "Обучение модели бота [0, 5, 2, 3, 0, 3, 0, 8, 2, 1, 4, 0, 1, 6, 2, 0, 2, 4, 0, 4, 1, 3, 3, 0, 4]\n",
            "Обучение модели бота [0, 4, 2, 3, 0, 1, 0, 4, 3, 1, 4, 0, 1, 3, 3, 0, 2, 4, 0, 4, 3, 2, 4, 0, 4]\n",
            "9 296.3911304473877   [0.9518072009086609, 0.9483649134635925, 0.9483649134635925, 0.9466437101364136, 0.9414802193641663] [[0, 4, 2, 3, 0, 1, 0, 6, 2, 1, 4, 0, 1, 6, 2, 0, 2, 4, 0, 4, 1, 3, 3, 0, 4], [0, 5, 3, 4, 0, 3, 1, 7, 3, 1, 2, 0, 1, 3, 3, 0, 2, 4, 0, 4, 3, 2, 4, 0, 4], [0, 5, 5, 3, 1, 3, 0, 7, 3, 1, 2, 0, 1, 7, 2, 0, 2, 4, 0, 4, 1, 3, 4, 0, 4], [0, 5, 2, 3, 0, 3, 0, 8, 2, 1, 4, 0, 1, 6, 2, 0, 2, 4, 0, 4, 1, 3, 3, 0, 4], [0, 5, 2, 3, 0, 3, 0, 8, 2, 1, 4, 0, 1, 6, 2, 0, 2, 4, 0, 4, 1, 3, 3, 0, 4]]\n",
            "Обучение модели бота [0, 4, 2, 3, 0, 3, 0, 6, 3, 1, 2, 2, 1, 7, 2, 0, 2, 4, 0, 4, 1, 3, 4, 0, 4]\n",
            "Обучение модели бота [0, 5, 2, 3, 0, 3, 0, 4, 2, 1, 4, 3, 1, 6, 2, 0, 2, 4, 0, 4, 1, 3, 3, 0, 4]\n",
            "Обучение модели бота [0, 5, 2, 3, 0, 3, 0, 4, 2, 1, 4, 3, 1, 6, 2, 0, 2, 4, 0, 4, 1, 3, 3, 0, 4]\n",
            "Обучение модели бота [0, 5, 5, 3, 1, 3, 0, 7, 3, 1, 2, 0, 1, 7, 2, 0, 2, 4, 0, 4, 1, 3, 4, 0, 4]\n",
            "Обучение модели бота [0, 4, 2, 3, 0, 1, 0, 6, 2, 1, 4, 0, 1, 6, 2, 0, 2, 4, 0, 4, 1, 3, 3, 0, 4]\n",
            "Обучение модели бота [0, 5, 2, 3, 0, 3, 0, 4, 2, 1, 4, 3, 1, 6, 2, 1, 2, 4, 0, 4, 1, 3, 3, 0, 4]\n",
            "Обучение модели бота [0, 4, 2, 4, 0, 3, 0, 6, 3, 1, 4, 0, 0, 6, 2, 0, 2, 4, 0, 4, 1, 3, 3, 0, 4]\n",
            "Обучение модели бота [0, 5, 3, 3, 0, 3, 0, 4, 3, 1, 4, 3, 1, 7, 2, 0, 2, 4, 0, 4, 1, 3, 3, 0, 4]\n",
            "Обучение модели бота [0, 4, 2, 3, 0, 1, 0, 6, 2, 1, 2, 0, 1, 6, 2, 0, 2, 4, 1, 4, 1, 3, 4, 0, 4]\n",
            "Обучение модели бота [0, 4, 2, 3, 1, 1, 0, 8, 3, 1, 2, 0, 1, 6, 2, 0, 2, 4, 0, 2, 1, 3, 4, 0, 4]\n",
            "Обучение модели бота [0, 5, 2, 3, 0, 3, 0, 7, 2, 1, 2, 3, 1, 7, 2, 0, 2, 4, 0, 4, 1, 3, 3, 0, 4]\n",
            "Обучение модели бота [0, 5, 2, 3, 1, 3, 0, 10, 2, 1, 2, 0, 1, 6, 2, 0, 2, 4, 0, 4, 1, 3, 3, 0, 4]\n",
            "Обучение модели бота [0, 4, 2, 1, 0, 3, 0, 6, 3, 1, 2, 0, 1, 7, 2, 0, 2, 4, 0, 4, 1, 3, 4, 0, 4]\n",
            "Обучение модели бота [0, 5, 5, 3, 0, 1, 0, 4, 2, 1, 2, 0, 1, 6, 2, 0, 2, 4, 0, 4, 1, 3, 2, 0, 4]\n",
            "Обучение модели бота [0, 4, 5, 3, 0, 2, 0, 7, 3, 1, 2, 2, 1, 7, 4, 0, 2, 1, 0, 4, 1, 3, 4, 0, 4]\n",
            "10 274.2030665874481   [0.9535284042358398, 0.9500860571861267, 0.9483649134635925, 0.9483649134635925, 0.9449225664138794] [[0, 4, 2, 3, 0, 3, 0, 6, 3, 1, 2, 2, 1, 7, 2, 0, 2, 4, 0, 4, 1, 3, 4, 0, 4], [0, 5, 2, 3, 0, 3, 0, 4, 2, 1, 4, 3, 1, 6, 2, 0, 2, 4, 0, 4, 1, 3, 3, 0, 4], [0, 5, 2, 3, 0, 3, 0, 4, 2, 1, 4, 3, 1, 6, 2, 0, 2, 4, 0, 4, 1, 3, 3, 0, 4], [0, 5, 5, 3, 1, 3, 0, 7, 3, 1, 2, 0, 1, 7, 2, 0, 2, 4, 0, 4, 1, 3, 4, 0, 4], [0, 4, 2, 3, 0, 1, 0, 6, 2, 1, 4, 0, 1, 6, 2, 0, 2, 4, 0, 4, 1, 3, 3, 0, 4]]\n",
            "Обучение модели бота [0, 4, 2, 3, 1, 1, 0, 8, 3, 1, 2, 0, 1, 6, 2, 0, 2, 4, 0, 2, 1, 3, 4, 0, 4]\n",
            "Обучение модели бота [0, 4, 5, 3, 0, 2, 0, 7, 3, 1, 2, 2, 1, 7, 4, 0, 2, 1, 0, 4, 1, 3, 4, 0, 4]\n",
            "Обучение модели бота [0, 5, 3, 3, 0, 3, 0, 4, 3, 1, 4, 3, 1, 7, 2, 0, 2, 4, 0, 4, 1, 3, 3, 0, 4]\n",
            "Обучение модели бота [0, 5, 3, 3, 0, 3, 0, 4, 3, 1, 4, 3, 1, 7, 2, 0, 2, 4, 0, 4, 1, 3, 3, 0, 4]\n",
            "Обучение модели бота [0, 4, 2, 1, 0, 3, 0, 6, 3, 1, 2, 0, 1, 7, 2, 0, 2, 4, 0, 4, 1, 3, 4, 0, 4]\n",
            "Обучение модели бота [0, 4, 3, 3, 1, 1, 0, 4, 3, 1, 4, 3, 1, 4, 2, 0, 2, 4, 0, 2, 1, 3, 3, 0, 4]\n",
            "Обучение модели бота [0, 5, 3, 3, 1, 1, 0, 4, 3, 1, 4, 0, 1, 6, 2, 0, 2, 4, 1, 2, 1, 8, 2, 0, 4]\n",
            "Обучение модели бота [0, 5, 4, 1, 0, 3, 0, 4, 4, 1, 4, 3, 1, 7, 2, 0, 2, 4, 0, 4, 1, 2, 3, 0, 4]\n",
            "Обучение модели бота [0, 5, 2, 3, 1, 3, 0, 6, 3, 1, 2, 0, 1, 7, 2, 0, 2, 4, 0, 5, 1, 3, 4, 0, 4]\n",
            "Обучение модели бота [0, 4, 3, 3, 0, 3, 0, 4, 3, 1, 4, 3, 1, 7, 4, 0, 2, 1, 0, 4, 2, 3, 4, 0, 4]\n",
            "Обучение модели бота [0, 4, 5, 3, 1, 1, 0, 7, 3, 0, 3, 1, 1, 6, 4, 0, 1, 1, 0, 2, 1, 3, 4, 0, 4]\n",
            "Обучение модели бота [0, 4, 2, 1, 0, 1, 0, 6, 3, 1, 2, 0, 1, 7, 2, 0, 2, 4, 0, 4, 1, 3, 4, 0, 4]\n",
            "Обучение модели бота [0, 5, 3, 3, 0, 3, 0, 4, 3, 1, 4, 3, 1, 7, 2, 0, 2, 4, 0, 4, 1, 3, 3, 0, 4]\n",
            "Обучение модели бота [0, 4, 2, 3, 1, 1, 0, 8, 2, 1, 2, 2, 1, 7, 2, 0, 2, 2, 0, 2, 1, 3, 4, 0, 4]\n",
            "Обучение модели бота [0, 7, 3, 3, 1, 3, 0, 8, 3, 1, 4, 0, 1, 7, 2, 0, 2, 4, 0, 2, 1, 3, 4, 0, 4]\n",
            "11 267.2265086174011   [0.9518072009086609, 0.9518072009086609, 0.9500860571861267, 0.9483649134635925, 0.9449225664138794] [[0, 4, 2, 3, 1, 1, 0, 8, 3, 1, 2, 0, 1, 6, 2, 0, 2, 4, 0, 2, 1, 3, 4, 0, 4], [0, 4, 5, 3, 0, 2, 0, 7, 3, 1, 2, 2, 1, 7, 4, 0, 2, 1, 0, 4, 1, 3, 4, 0, 4], [0, 5, 3, 3, 0, 3, 0, 4, 3, 1, 4, 3, 1, 7, 2, 0, 2, 4, 0, 4, 1, 3, 3, 0, 4], [0, 5, 3, 3, 0, 3, 0, 4, 3, 1, 4, 3, 1, 7, 2, 0, 2, 4, 0, 4, 1, 3, 3, 0, 4], [0, 4, 2, 1, 0, 3, 0, 6, 3, 1, 2, 0, 1, 7, 2, 0, 2, 4, 0, 4, 1, 3, 4, 0, 4]]\n",
            "Обучение модели бота [0, 5, 3, 3, 0, 3, 0, 4, 3, 1, 4, 3, 1, 7, 2, 0, 2, 4, 0, 4, 1, 3, 3, 0, 4]\n",
            "Обучение модели бота [0, 5, 3, 3, 0, 3, 0, 4, 3, 1, 4, 3, 1, 7, 2, 0, 2, 4, 0, 4, 1, 3, 3, 0, 4]\n",
            "Обучение модели бота [0, 4, 5, 3, 1, 1, 0, 7, 3, 0, 3, 1, 1, 6, 4, 0, 1, 1, 0, 2, 1, 3, 4, 0, 4]\n",
            "Обучение модели бота [0, 4, 3, 3, 0, 3, 0, 4, 3, 1, 4, 3, 1, 7, 4, 0, 2, 1, 0, 4, 2, 3, 4, 0, 4]\n",
            "Обучение модели бота [0, 4, 5, 3, 0, 2, 0, 7, 3, 1, 2, 2, 1, 7, 4, 0, 2, 1, 0, 4, 1, 3, 4, 0, 4]\n",
            "Обучение модели бота [0, 4, 3, 3, 0, 3, 0, 4, 3, 1, 4, 3, 1, 7, 4, 0, 1, 1, 0, 4, 1, 3, 3, 0, 4]\n",
            "Обучение модели бота [0, 4, 3, 3, 0, 2, 0, 7, 3, 0, 4, 3, 1, 6, 2, 0, 1, 1, 0, 2, 1, 7, 4, 0, 4]\n",
            "Обучение модели бота [0, 7, 3, 3, 0, 3, 0, 4, 3, 1, 3, 3, 1, 7, 4, 0, 2, 1, 0, 2, 2, 3, 4, 0, 4]\n",
            "Обучение модели бота [0, 5, 5, 3, 0, 2, 0, 4, 3, 1, 4, 2, 1, 7, 4, 0, 2, 4, 0, 4, 1, 8, 3, 0, 4]\n",
            "Обучение модели бота [0, 5, 3, 3, 0, 3, 0, 4, 3, 1, 4, 3, 1, 7, 2, 0, 2, 4, 0, 4, 1, 3, 3, 0, 4]\n",
            "Обучение модели бота [0, 4, 3, 3, 0, 3, 0, 4, 3, 1, 4, 3, 1, 7, 4, 0, 3, 1, 0, 4, 2, 3, 4, 0, 4]\n",
            "Обучение модели бота [0, 5, 3, 3, 0, 3, 0, 4, 3, 1, 4, 3, 1, 7, 2, 0, 1, 0, 0, 4, 1, 3, 3, 0, 4]\n",
            "Обучение модели бота [1, 5, 3, 3, 0, 3, 0, 4, 3, 1, 4, 3, 1, 7, 3, 0, 2, 4, 0, 4, 1, 3, 3, 0, 4]\n",
            "Обучение модели бота [0, 5, 3, 3, 0, 3, 0, 4, 3, 1, 4, 3, 1, 7, 2, 0, 2, 4, 0, 4, 1, 3, 4, 0, 4]\n",
            "Обучение модели бота [0, 4, 5, 3, 1, 1, 0, 7, 3, 1, 4, 1, 1, 6, 4, 0, 2, 1, 0, 2, 1, 3, 4, 0, 4]\n",
            "12 260.4515914916992   [0.9535284042358398, 0.9500860571861267, 0.9500860571861267, 0.9483649134635925, 0.9483649134635925] [[0, 5, 3, 3, 0, 3, 0, 4, 3, 1, 4, 3, 1, 7, 2, 0, 2, 4, 0, 4, 1, 3, 3, 0, 4], [0, 5, 3, 3, 0, 3, 0, 4, 3, 1, 4, 3, 1, 7, 2, 0, 2, 4, 0, 4, 1, 3, 3, 0, 4], [0, 4, 5, 3, 1, 1, 0, 7, 3, 0, 3, 1, 1, 6, 4, 0, 1, 1, 0, 2, 1, 3, 4, 0, 4], [0, 4, 3, 3, 0, 3, 0, 4, 3, 1, 4, 3, 1, 7, 4, 0, 2, 1, 0, 4, 2, 3, 4, 0, 4], [0, 4, 5, 3, 0, 2, 0, 7, 3, 1, 2, 2, 1, 7, 4, 0, 2, 1, 0, 4, 1, 3, 4, 0, 4]]\n",
            "Обучение модели бота [0, 4, 3, 3, 0, 3, 0, 4, 3, 1, 4, 3, 1, 7, 4, 0, 2, 1, 0, 4, 2, 3, 4, 0, 4]\n",
            "Обучение модели бота [0, 4, 5, 3, 1, 1, 0, 7, 3, 0, 3, 1, 1, 6, 4, 0, 1, 1, 0, 2, 1, 3, 4, 0, 4]\n",
            "Обучение модели бота [0, 4, 5, 3, 1, 1, 0, 7, 3, 0, 3, 1, 1, 6, 4, 0, 1, 1, 0, 2, 1, 3, 4, 0, 4]\n",
            "Обучение модели бота [0, 4, 5, 3, 0, 2, 0, 7, 3, 1, 2, 2, 1, 7, 4, 0, 2, 1, 0, 4, 1, 3, 4, 0, 4]\n",
            "Обучение модели бота [0, 4, 5, 3, 0, 2, 0, 7, 3, 1, 2, 2, 1, 7, 4, 0, 2, 1, 0, 4, 1, 3, 4, 0, 4]\n",
            "Обучение модели бота [0, 4, 5, 1, 1, 1, 0, 7, 3, 0, 3, 1, 1, 6, 4, 1, 4, 1, 0, 2, 1, 3, 4, 0, 4]\n",
            "Обучение модели бота [0, 4, 5, 3, 0, 1, 0, 7, 3, 0, 2, 1, 1, 7, 4, 0, 2, 1, 0, 2, 1, 3, 4, 0, 4]\n",
            "Обучение модели бота [0, 4, 5, 3, 0, 1, 0, 7, 3, 0, 3, 1, 1, 6, 4, 0, 1, 1, 0, 4, 1, 3, 4, 0, 4]\n",
            "Обучение модели бота [0, 4, 5, 2, 0, 3, 0, 7, 3, 1, 2, 2, 1, 7, 4, 0, 2, 1, 0, 4, 1, 3, 4, 0, 4]\n",
            "Обучение модели бота [0, 4, 4, 3, 0, 1, 0, 7, 3, 1, 3, 1, 1, 10, 4, 0, 2, 1, 0, 4, 0, 3, 4, 0, 4]\n",
            "Обучение модели бота [0, 4, 5, 3, 1, 1, 0, 7, 3, 0, 3, 1, 1, 6, 4, 0, 1, 1, 0, 2, 1, 3, 4, 0, 4]\n",
            "Обучение модели бота [0, 4, 5, 3, 0, 2, 0, 7, 3, 1, 2, 2, 1, 7, 4, 0, 2, 1, 0, 4, 1, 3, 3, 0, 4]\n",
            "Обучение модели бота [0, 4, 5, 3, 0, 1, 0, 7, 3, 0, 4, 3, 1, 7, 2, 0, 1, 1, 0, 4, 1, 4, 4, 0, 4]\n",
            "Обучение модели бота [0, 4, 5, 3, 1, 2, 0, 7, 3, 0, 3, 1, 0, 7, 4, 0, 2, 1, 0, 4, 1, 3, 4, 0, 4]\n",
            "Обучение модели бота [0, 6, 5, 3, 0, 1, 0, 7, 3, 0, 2, 1, 1, 7, 4, 0, 1, 1, 0, 2, 1, 3, 4, 0, 4]\n",
            "13 264.5736448764801   [0.9535284042358398, 0.9518072009086609, 0.9483649134635925, 0.9483649134635925, 0.9397590160369873] [[0, 4, 3, 3, 0, 3, 0, 4, 3, 1, 4, 3, 1, 7, 4, 0, 2, 1, 0, 4, 2, 3, 4, 0, 4], [0, 4, 5, 3, 1, 1, 0, 7, 3, 0, 3, 1, 1, 6, 4, 0, 1, 1, 0, 2, 1, 3, 4, 0, 4], [0, 4, 5, 3, 1, 1, 0, 7, 3, 0, 3, 1, 1, 6, 4, 0, 1, 1, 0, 2, 1, 3, 4, 0, 4], [0, 4, 5, 3, 0, 2, 0, 7, 3, 1, 2, 2, 1, 7, 4, 0, 2, 1, 0, 4, 1, 3, 4, 0, 4], [0, 4, 5, 3, 0, 2, 0, 7, 3, 1, 2, 2, 1, 7, 4, 0, 2, 1, 0, 4, 1, 3, 4, 0, 4]]\n",
            "Обучение модели бота [0, 4, 5, 2, 0, 3, 0, 7, 3, 1, 2, 2, 1, 7, 4, 0, 2, 1, 0, 4, 1, 3, 4, 0, 4]\n",
            "Обучение модели бота [0, 4, 5, 3, 0, 2, 0, 7, 3, 1, 2, 2, 1, 7, 4, 0, 2, 1, 0, 4, 1, 3, 4, 0, 4]\n",
            "Обучение модели бота [0, 4, 3, 3, 0, 3, 0, 4, 3, 1, 4, 3, 1, 7, 4, 0, 2, 1, 0, 4, 2, 3, 4, 0, 4]\n",
            "Обучение модели бота [0, 4, 3, 3, 0, 3, 0, 4, 3, 1, 4, 3, 1, 7, 4, 0, 2, 1, 0, 4, 2, 3, 4, 0, 4]\n",
            "Обучение модели бота [0, 4, 5, 3, 1, 1, 0, 7, 3, 0, 3, 1, 1, 6, 4, 0, 1, 1, 0, 2, 1, 3, 4, 0, 4]\n",
            "Обучение модели бота [0, 4, 3, 3, 1, 1, 1, 4, 3, 1, 3, 1, 1, 6, 4, 0, 1, 1, 0, 5, 2, 3, 4, 0, 3]\n",
            "Обучение модели бота [0, 4, 3, 2, 0, 4, 0, 9, 3, 1, 4, 3, 1, 7, 4, 0, 2, 1, 0, 4, 1, 3, 0, 0, 4]\n",
            "Обучение модели бота [0, 4, 5, 3, 0, 1, 0, 7, 3, 1, 2, 1, 0, 6, 4, 0, 2, 1, 0, 4, 1, 3, 4, 0, 4]\n",
            "Обучение модели бота [1, 4, 5, 3, 0, 1, 0, 7, 3, 1, 3, 1, 1, 10, 4, 0, 2, 1, 0, 3, 1, 3, 4, 0, 4]\n",
            "Обучение модели бота [0, 4, 3, 3, 0, 3, 0, 7, 3, 1, 4, 2, 1, 7, 4, 1, 2, 1, 0, 4, 1, 3, 4, 0, 4]\n",
            "Обучение модели бота [0, 4, 5, 3, 0, 2, 0, 7, 3, 1, 2, 2, 0, 7, 4, 0, 2, 1, 1, 4, 0, 3, 4, 0, 4]\n",
            "Обучение модели бота [0, 4, 3, 2, 1, 3, 0, 4, 3, 1, 2, 2, 1, 6, 4, 0, 2, 1, 0, 4, 1, 3, 4, 0, 4]\n",
            "Обучение модели бота [0, 4, 5, 3, 1, 3, 0, 4, 3, 1, 3, 1, 1, 9, 4, 0, 2, 1, 0, 2, 1, 3, 4, 0, 4]\n",
            "Обучение модели бота [1, 4, 3, 3, 0, 3, 0, 4, 3, 1, 4, 3, 1, 9, 4, 0, 2, 1, 0, 3, 2, 2, 4, 0, 4]\n",
            "Обучение модели бота [0, 4, 5, 3, 1, 3, 1, 7, 3, 0, 3, 1, 1, 7, 4, 0, 1, 1, 0, 4, 2, 7, 4, 0, 4]\n",
            "14 263.33215403556824   [0.9518072009086609, 0.9500860571861267, 0.9483649134635925, 0.9483649134635925, 0.9483649134635925] [[0, 4, 5, 2, 0, 3, 0, 7, 3, 1, 2, 2, 1, 7, 4, 0, 2, 1, 0, 4, 1, 3, 4, 0, 4], [0, 4, 5, 3, 0, 2, 0, 7, 3, 1, 2, 2, 1, 7, 4, 0, 2, 1, 0, 4, 1, 3, 4, 0, 4], [0, 4, 3, 3, 0, 3, 0, 4, 3, 1, 4, 3, 1, 7, 4, 0, 2, 1, 0, 4, 2, 3, 4, 0, 4], [0, 4, 3, 3, 0, 3, 0, 4, 3, 1, 4, 3, 1, 7, 4, 0, 2, 1, 0, 4, 2, 3, 4, 0, 4], [0, 4, 5, 3, 1, 1, 0, 7, 3, 0, 3, 1, 1, 6, 4, 0, 1, 1, 0, 2, 1, 3, 4, 0, 4]]\n",
            "Обучение модели бота [0, 4, 3, 3, 0, 3, 0, 4, 3, 1, 4, 3, 1, 7, 4, 0, 2, 1, 0, 4, 2, 3, 4, 0, 4]\n",
            "Обучение модели бота [0, 4, 5, 3, 0, 2, 0, 7, 3, 1, 2, 2, 1, 7, 4, 0, 2, 1, 0, 4, 1, 3, 4, 0, 4]\n",
            "Обучение модели бота [0, 4, 5, 2, 0, 3, 0, 7, 3, 1, 2, 2, 1, 7, 4, 0, 2, 1, 0, 4, 1, 3, 4, 0, 4]\n",
            "Обучение модели бота [0, 4, 5, 2, 0, 3, 0, 7, 3, 1, 2, 2, 1, 7, 4, 0, 2, 1, 0, 4, 1, 3, 4, 0, 4]\n",
            "Обучение модели бота [0, 4, 5, 2, 0, 3, 0, 7, 3, 1, 2, 2, 1, 7, 4, 0, 2, 1, 0, 4, 1, 3, 4, 0, 4]\n",
            "Обучение модели бота [0, 4, 3, 2, 0, 3, 0, 4, 3, 1, 2, 2, 1, 7, 4, 1, 2, 1, 0, 4, 1, 5, 4, 0, 3]\n",
            "Обучение модели бота [0, 4, 5, 3, 0, 2, 0, 7, 3, 1, 2, 2, 1, 7, 4, 0, 2, 1, 0, 4, 2, 3, 4, 0, 4]\n",
            "Обучение модели бота [0, 4, 5, 2, 0, 3, 0, 7, 3, 1, 2, 2, 1, 7, 4, 0, 2, 1, 0, 4, 1, 3, 4, 0, 4]\n",
            "Обучение модели бота [0, 4, 3, 3, 0, 3, 0, 7, 3, 1, 2, 4, 1, 6, 4, 0, 2, 1, 0, 4, 1, 3, 4, 0, 4]\n",
            "Обучение модели бота [0, 4, 5, 2, 0, 3, 0, 7, 3, 1, 2, 2, 1, 7, 4, 0, 1, 1, 0, 7, 1, 3, 4, 0, 4]\n",
            "Обучение модели бота [0, 4, 3, 3, 0, 2, 0, 7, 3, 1, 2, 2, 1, 10, 4, 0, 2, 1, 0, 4, 2, 3, 4, 0, 4]\n",
            "Обучение модели бота [0, 4, 5, 2, 0, 3, 1, 7, 3, 1, 2, 2, 1, 7, 4, 0, 2, 1, 0, 4, 1, 3, 4, 0, 4]\n",
            "Обучение модели бота [0, 4, 3, 2, 0, 1, 0, 7, 3, 1, 4, 3, 1, 7, 4, 0, 2, 1, 0, 4, 2, 3, 4, 0, 4]\n",
            "Обучение модели бота [0, 4, 5, 2, 0, 3, 0, 7, 3, 1, 2, 0, 1, 7, 4, 0, 2, 1, 0, 5, 1, 3, 4, 0, 4]\n",
            "Обучение модели бота [0, 4, 5, 2, 0, 3, 0, 7, 3, 1, 2, 2, 1, 7, 4, 0, 2, 1, 0, 4, 1, 3, 4, 0, 4]\n",
            "15 287.0492763519287   [0.9586918950080872, 0.9535284042358398, 0.9518072009086609, 0.9518072009086609, 0.9500860571861267] [[0, 4, 3, 3, 0, 3, 0, 4, 3, 1, 4, 3, 1, 7, 4, 0, 2, 1, 0, 4, 2, 3, 4, 0, 4], [0, 4, 5, 3, 0, 2, 0, 7, 3, 1, 2, 2, 1, 7, 4, 0, 2, 1, 0, 4, 1, 3, 4, 0, 4], [0, 4, 5, 2, 0, 3, 0, 7, 3, 1, 2, 2, 1, 7, 4, 0, 2, 1, 0, 4, 1, 3, 4, 0, 4], [0, 4, 5, 2, 0, 3, 0, 7, 3, 1, 2, 2, 1, 7, 4, 0, 2, 1, 0, 4, 1, 3, 4, 0, 4], [0, 4, 5, 2, 0, 3, 0, 7, 3, 1, 2, 2, 1, 7, 4, 0, 2, 1, 0, 4, 1, 3, 4, 0, 4]]\n",
            "Обучение модели бота [0, 4, 5, 2, 0, 3, 0, 7, 3, 1, 2, 2, 1, 7, 4, 0, 2, 1, 0, 4, 1, 3, 4, 0, 4]\n",
            "Обучение модели бота [0, 4, 5, 2, 0, 3, 1, 7, 3, 1, 2, 2, 1, 7, 4, 0, 2, 1, 0, 4, 1, 3, 4, 0, 4]\n",
            "Обучение модели бота [0, 4, 3, 3, 0, 3, 0, 7, 3, 1, 2, 4, 1, 6, 4, 0, 2, 1, 0, 4, 1, 3, 4, 0, 4]\n",
            "Обучение модели бота [0, 4, 3, 3, 0, 3, 0, 7, 3, 1, 2, 4, 1, 6, 4, 0, 2, 1, 0, 4, 1, 3, 4, 0, 4]\n",
            "Обучение модели бота [0, 4, 5, 3, 0, 2, 0, 7, 3, 1, 2, 2, 1, 7, 4, 0, 2, 1, 0, 4, 2, 3, 4, 0, 4]\n",
            "Обучение модели бота [0, 4, 5, 2, 0, 3, 0, 7, 3, 1, 2, 2, 1, 7, 4, 0, 2, 1, 1, 4, 2, 3, 4, 0, 4]\n",
            "Обучение модели бота [0, 10, 5, 2, 0, 3, 0, 7, 3, 1, 2, 2, 1, 7, 4, 0, 2, 1, 0, 4, 2, 3, 4, 0, 4]\n",
            "Обучение модели бота [0, 4, 3, 3, 0, 3, 0, 7, 3, 1, 2, 4, 1, 6, 4, 0, 2, 1, 0, 4, 1, 3, 4, 1, 4]\n",
            "Обучение модели бота [0, 4, 3, 3, 0, 3, 0, 7, 3, 1, 2, 4, 1, 6, 4, 0, 2, 1, 0, 5, 1, 4, 4, 0, 4]\n",
            "Обучение модели бота [0, 4, 3, 3, 0, 3, 0, 7, 3, 1, 2, 4, 1, 6, 4, 0, 2, 1, 0, 4, 1, 3, 1, 0, 4]\n",
            "Обучение модели бота [0, 4, 5, 2, 0, 3, 0, 7, 3, 1, 2, 2, 1, 7, 4, 0, 2, 1, 0, 4, 2, 3, 0, 0, 4]\n",
            "Обучение модели бота [0, 4, 5, 3, 0, 3, 0, 7, 3, 1, 2, 4, 1, 6, 4, 0, 2, 1, 0, 4, 1, 3, 4, 0, 4]\n",
            "Обучение модели бота [0, 4, 3, 2, 0, 3, 0, 7, 3, 1, 2, 4, 1, 3, 4, 0, 2, 1, 0, 4, 1, 3, 4, 0, 4]\n",
            "Обучение модели бота [0, 4, 3, 3, 0, 3, 0, 10, 3, 1, 2, 4, 1, 6, 3, 0, 2, 1, 0, 4, 1, 3, 1, 0, 4]\n",
            "Обучение модели бота [0, 4, 5, 0, 0, 2, 0, 7, 3, 1, 2, 1, 1, 7, 4, 0, 2, 1, 0, 4, 2, 9, 4, 0, 4]\n",
            "16 310.25725531578064   [0.9535284042358398, 0.9500860571861267, 0.9483649134635925, 0.9483649134635925, 0.9449225664138794] [[0, 4, 5, 2, 0, 3, 0, 7, 3, 1, 2, 2, 1, 7, 4, 0, 2, 1, 0, 4, 1, 3, 4, 0, 4], [0, 4, 5, 2, 0, 3, 1, 7, 3, 1, 2, 2, 1, 7, 4, 0, 2, 1, 0, 4, 1, 3, 4, 0, 4], [0, 4, 3, 3, 0, 3, 0, 7, 3, 1, 2, 4, 1, 6, 4, 0, 2, 1, 0, 4, 1, 3, 4, 0, 4], [0, 4, 3, 3, 0, 3, 0, 7, 3, 1, 2, 4, 1, 6, 4, 0, 2, 1, 0, 4, 1, 3, 4, 0, 4], [0, 4, 5, 3, 0, 2, 0, 7, 3, 1, 2, 2, 1, 7, 4, 0, 2, 1, 0, 4, 2, 3, 4, 0, 4]]\n",
            "Обучение модели бота [0, 4, 5, 3, 0, 2, 0, 7, 3, 1, 2, 2, 1, 7, 4, 0, 2, 1, 0, 4, 2, 3, 4, 0, 4]\n",
            "Обучение модели бота [0, 4, 5, 3, 0, 3, 0, 7, 3, 1, 2, 4, 1, 6, 4, 0, 2, 1, 0, 4, 1, 3, 4, 0, 4]\n",
            "Обучение модели бота [0, 10, 5, 2, 0, 3, 0, 7, 3, 1, 2, 2, 1, 7, 4, 0, 2, 1, 0, 4, 2, 3, 4, 0, 4]\n",
            "Обучение модели бота [0, 10, 5, 2, 0, 3, 0, 7, 3, 1, 2, 2, 1, 7, 4, 0, 2, 1, 0, 4, 2, 3, 4, 0, 4]\n",
            "Обучение модели бота [0, 4, 5, 2, 0, 3, 1, 7, 3, 1, 2, 2, 1, 7, 4, 0, 2, 1, 0, 4, 1, 3, 4, 0, 4]\n",
            "Обучение модели бота [1, 4, 5, 2, 0, 1, 0, 7, 3, 1, 2, 2, 0, 7, 4, 0, 2, 1, 0, 4, 2, 3, 4, 0, 4]\n",
            "Обучение модели бота [0, 10, 4, 3, 0, 3, 0, 7, 3, 0, 2, 2, 1, 7, 4, 0, 2, 1, 0, 9, 2, 3, 4, 0, 4]\n",
            "Обучение модели бота [0, 3, 5, 2, 0, 3, 1, 7, 3, 1, 2, 2, 1, 7, 4, 0, 2, 1, 0, 4, 2, 3, 4, 0, 4]\n",
            "Обучение модели бота [0, 4, 5, 3, 0, 2, 1, 7, 3, 1, 2, 2, 1, 7, 3, 0, 2, 1, 0, 4, 2, 3, 4, 0, 4]\n",
            "Обучение модели бота [0, 10, 5, 2, 0, 3, 1, 7, 3, 1, 2, 2, 1, 7, 4, 0, 2, 1, 0, 4, 2, 3, 4, 0, 4]\n",
            "Обучение модели бота [0, 4, 5, 3, 0, 3, 1, 7, 3, 1, 2, 4, 0, 7, 4, 0, 2, 1, 0, 4, 1, 3, 4, 0, 0]\n",
            "Обучение модели бота [0, 4, 5, 2, 0, 3, 0, 7, 3, 1, 2, 4, 1, 6, 4, 0, 4, 1, 0, 4, 1, 3, 4, 0, 4]\n",
            "Обучение модели бота [0, 4, 5, 2, 0, 2, 1, 6, 3, 1, 2, 2, 1, 7, 4, 0, 2, 1, 0, 4, 1, 3, 3, 0, 4]\n",
            "Обучение модели бота [0, 3, 3, 2, 0, 4, 1, 7, 3, 1, 2, 4, 1, 7, 4, 0, 2, 1, 0, 4, 2, 3, 4, 0, 4]\n",
            "Обучение модели бота [0, 10, 5, 2, 0, 3, 1, 7, 3, 1, 2, 2, 1, 7, 3, 0, 2, 1, 0, 4, 2, 3, 4, 0, 4]\n",
            "17 388.95911145210266   [0.9535284042358398, 0.9449225664138794, 0.9449225664138794, 0.9449225664138794, 0.9449225664138794] [[0, 4, 5, 3, 0, 2, 0, 7, 3, 1, 2, 2, 1, 7, 4, 0, 2, 1, 0, 4, 2, 3, 4, 0, 4], [0, 4, 5, 3, 0, 3, 0, 7, 3, 1, 2, 4, 1, 6, 4, 0, 2, 1, 0, 4, 1, 3, 4, 0, 4], [0, 10, 5, 2, 0, 3, 0, 7, 3, 1, 2, 2, 1, 7, 4, 0, 2, 1, 0, 4, 2, 3, 4, 0, 4], [0, 10, 5, 2, 0, 3, 0, 7, 3, 1, 2, 2, 1, 7, 4, 0, 2, 1, 0, 4, 2, 3, 4, 0, 4], [0, 4, 5, 2, 0, 3, 1, 7, 3, 1, 2, 2, 1, 7, 4, 0, 2, 1, 0, 4, 1, 3, 4, 0, 4]]\n",
            "Обучение модели бота [0, 4, 5, 3, 0, 3, 0, 7, 3, 1, 2, 4, 1, 6, 4, 0, 2, 1, 0, 4, 1, 3, 4, 0, 4]\n",
            "Обучение модели бота [0, 4, 5, 3, 0, 2, 0, 7, 3, 1, 2, 2, 1, 7, 4, 0, 2, 1, 0, 4, 2, 3, 4, 0, 4]\n",
            "Обучение модели бота [0, 4, 5, 3, 0, 2, 0, 7, 3, 1, 2, 2, 1, 7, 4, 0, 2, 1, 0, 4, 2, 3, 4, 0, 4]\n",
            "Обучение модели бота [0, 4, 5, 3, 0, 2, 0, 7, 3, 1, 2, 2, 1, 7, 4, 0, 2, 1, 0, 4, 2, 3, 4, 0, 4]\n",
            "Обучение модели бота [0, 4, 5, 3, 0, 2, 0, 7, 3, 1, 2, 2, 1, 7, 4, 0, 2, 1, 0, 4, 2, 3, 4, 0, 4]\n",
            "Обучение модели бота [1, 5, 5, 3, 0, 2, 0, 7, 3, 1, 2, 2, 1, 7, 4, 0, 1, 1, 0, 4, 3, 3, 4, 0, 4]\n",
            "Обучение модели бота [0, 4, 5, 3, 0, 2, 1, 7, 3, 1, 2, 2, 1, 7, 4, 0, 2, 1, 0, 4, 2, 3, 4, 0, 4]\n",
            "Обучение модели бота [0, 4, 5, 3, 0, 2, 0, 7, 3, 1, 2, 2, 1, 7, 4, 0, 2, 1, 0, 4, 2, 3, 4, 0, 4]\n",
            "Обучение модели бота [0, 4, 5, 3, 0, 2, 0, 7, 3, 1, 1, 2, 1, 7, 4, 0, 1, 1, 0, 4, 2, 3, 4, 0, 4]\n",
            "Обучение модели бота [0, 4, 4, 3, 0, 2, 0, 7, 3, 1, 2, 2, 1, 7, 4, 0, 2, 1, 0, 6, 2, 3, 4, 0, 4]\n",
            "Обучение модели бота [0, 4, 5, 3, 0, 2, 0, 7, 3, 1, 2, 2, 1, 7, 4, 0, 2, 1, 0, 4, 2, 3, 4, 0, 4]\n",
            "Обучение модели бота [0, 4, 5, 3, 0, 2, 0, 7, 3, 1, 2, 2, 1, 7, 4, 0, 2, 1, 0, 7, 2, 3, 4, 0, 4]\n",
            "Обучение модели бота [0, 4, 5, 3, 0, 2, 1, 7, 3, 1, 2, 2, 1, 7, 4, 0, 2, 1, 0, 4, 2, 3, 4, 0, 4]\n",
            "Обучение модели бота [0, 4, 5, 3, 0, 3, 0, 7, 3, 1, 2, 2, 1, 7, 4, 0, 2, 1, 0, 4, 2, 3, 4, 0, 1]\n",
            "Обучение модели бота [0, 4, 4, 3, 0, 2, 0, 7, 3, 1, 2, 2, 1, 7, 4, 0, 2, 1, 0, 7, 2, 3, 4, 0, 4]\n",
            "18 288.5249125957489   [0.9535284042358398, 0.9518072009086609, 0.9518072009086609, 0.9500860571861267, 0.9500860571861267] [[0, 4, 5, 3, 0, 3, 0, 7, 3, 1, 2, 4, 1, 6, 4, 0, 2, 1, 0, 4, 1, 3, 4, 0, 4], [0, 4, 5, 3, 0, 2, 0, 7, 3, 1, 2, 2, 1, 7, 4, 0, 2, 1, 0, 4, 2, 3, 4, 0, 4], [0, 4, 5, 3, 0, 2, 0, 7, 3, 1, 2, 2, 1, 7, 4, 0, 2, 1, 0, 4, 2, 3, 4, 0, 4], [0, 4, 5, 3, 0, 2, 0, 7, 3, 1, 2, 2, 1, 7, 4, 0, 2, 1, 0, 4, 2, 3, 4, 0, 4], [0, 4, 5, 3, 0, 2, 0, 7, 3, 1, 2, 2, 1, 7, 4, 0, 2, 1, 0, 4, 2, 3, 4, 0, 4]]\n",
            "Обучение модели бота [0, 4, 5, 3, 0, 2, 0, 7, 3, 1, 2, 2, 1, 7, 4, 0, 2, 1, 0, 4, 2, 3, 4, 0, 4]\n",
            "Обучение модели бота [0, 4, 5, 3, 0, 2, 0, 7, 3, 1, 2, 2, 1, 7, 4, 0, 2, 1, 0, 4, 2, 3, 4, 0, 4]\n",
            "Обучение модели бота [0, 4, 5, 3, 0, 2, 0, 7, 3, 1, 2, 2, 1, 7, 4, 0, 2, 1, 0, 4, 2, 3, 4, 0, 4]\n",
            "Обучение модели бота [0, 4, 5, 3, 0, 2, 0, 7, 3, 1, 2, 2, 1, 7, 4, 0, 2, 1, 0, 4, 2, 3, 4, 0, 4]\n",
            "Обучение модели бота [0, 4, 5, 3, 0, 2, 0, 7, 3, 1, 2, 2, 1, 7, 4, 0, 2, 1, 0, 4, 2, 3, 4, 0, 4]\n",
            "Обучение модели бота [0, 4, 5, 3, 0, 2, 0, 7, 3, 0, 2, 2, 1, 7, 5, 0, 2, 1, 0, 4, 2, 3, 4, 0, 4]\n",
            "Обучение модели бота [0, 4, 5, 0, 0, 2, 0, 7, 3, 1, 2, 2, 1, 7, 4, 0, 2, 1, 0, 4, 3, 3, 4, 0, 4]\n",
            "Обучение модели бота [0, 4, 5, 3, 0, 2, 0, 7, 3, 1, 2, 3, 1, 7, 4, 0, 2, 1, 0, 4, 2, 3, 4, 0, 4]\n",
            "Обучение модели бота [0, 6, 5, 3, 0, 2, 0, 7, 3, 1, 2, 2, 1, 7, 4, 0, 2, 1, 0, 4, 2, 3, 4, 0, 4]\n",
            "Обучение модели бота [0, 4, 5, 3, 0, 2, 0, 7, 3, 1, 2, 1, 1, 7, 4, 0, 2, 1, 0, 4, 2, 3, 4, 0, 4]\n",
            "Обучение модели бота [0, 4, 3, 3, 0, 2, 0, 7, 3, 1, 2, 2, 1, 7, 4, 0, 2, 1, 0, 4, 2, 3, 4, 0, 4]\n",
            "Обучение модели бота [0, 4, 5, 3, 0, 2, 0, 7, 3, 0, 2, 2, 1, 7, 4, 0, 2, 1, 0, 4, 2, 7, 4, 0, 4]\n",
            "Обучение модели бота [0, 4, 5, 3, 0, 3, 0, 7, 3, 1, 2, 2, 1, 7, 4, 0, 2, 1, 0, 4, 2, 3, 3, 0, 4]\n",
            "Обучение модели бота [0, 4, 5, 3, 0, 2, 0, 7, 3, 1, 2, 2, 1, 7, 4, 0, 1, 1, 0, 4, 2, 3, 4, 0, 2]\n",
            "Обучение модели бота [0, 4, 5, 3, 0, 4, 0, 7, 3, 1, 2, 2, 1, 7, 4, 0, 2, 0, 0, 4, 2, 3, 4, 0, 4]\n",
            "19 277.4193112850189   [0.9535284042358398, 0.9518072009086609, 0.9518072009086609, 0.9500860571861267, 0.9500860571861267] [[0, 4, 5, 3, 0, 2, 0, 7, 3, 1, 2, 2, 1, 7, 4, 0, 2, 1, 0, 4, 2, 3, 4, 0, 4], [0, 4, 5, 3, 0, 2, 0, 7, 3, 1, 2, 2, 1, 7, 4, 0, 2, 1, 0, 4, 2, 3, 4, 0, 4], [0, 4, 5, 3, 0, 2, 0, 7, 3, 1, 2, 2, 1, 7, 4, 0, 2, 1, 0, 4, 2, 3, 4, 0, 4], [0, 4, 5, 3, 0, 2, 0, 7, 3, 1, 2, 2, 1, 7, 4, 0, 2, 1, 0, 4, 2, 3, 4, 0, 4], [0, 4, 5, 3, 0, 2, 0, 7, 3, 1, 2, 2, 1, 7, 4, 0, 2, 1, 0, 4, 2, 3, 4, 0, 4]]\n"
          ]
        }
      ]
    },
    {
      "cell_type": "code",
      "source": [
        "# Выведем 4 лучших бота\n",
        "for bot in popul[:4]: \n",
        "    print(bot) #Геномы лучших ботов по эпохам"
      ],
      "metadata": {
        "colab": {
          "base_uri": "https://localhost:8080/"
        },
        "id": "vIYkSj6OrUE9",
        "outputId": "a871bba5-18c7-4dc4-da0c-cec7be2cb000"
      },
      "execution_count": null,
      "outputs": [
        {
          "output_type": "stream",
          "name": "stdout",
          "text": [
            "[0, 4, 5, 3, 0, 2, 0, 7, 3, 1, 2, 2, 1, 7, 4, 0, 2, 1, 0, 4, 2, 3, 4, 0, 4]\n",
            "[0, 4, 5, 3, 0, 2, 0, 7, 3, 1, 2, 3, 1, 7, 4, 0, 2, 1, 0, 4, 2, 3, 4, 0, 4]\n",
            "[0, 4, 5, 3, 0, 2, 0, 7, 3, 1, 2, 3, 1, 7, 4, 0, 2, 1, 0, 4, 2, 3, 4, 0, 4]\n",
            "[0, 4, 5, 3, 0, 2, 0, 7, 3, 1, 2, 2, 1, 7, 4, 0, 2, 1, 0, 4, 2, 3, 4, 0, 4]\n"
          ]
        }
      ]
    },
    {
      "cell_type": "code",
      "source": [
        "#Дообучим лучший бот\n",
        "bot = popul[0]\n",
        "print(bot)\n",
        "\n",
        "model_1 = create_randnet(bot)\n",
        "model_1.summary()"
      ],
      "metadata": {
        "colab": {
          "base_uri": "https://localhost:8080/"
        },
        "id": "Z5bMCgFIZlmP",
        "outputId": "f42a12d2-9288-49bc-9f7e-35628a542c3c"
      },
      "execution_count": null,
      "outputs": [
        {
          "output_type": "stream",
          "name": "stdout",
          "text": [
            "[0, 4, 5, 3, 0, 2, 0, 7, 3, 1, 2, 2, 1, 7, 4, 0, 2, 1, 0, 4, 2, 3, 4, 0, 4]\n",
            "Model: \"sequential_490\"\n",
            "_________________________________________________________________\n",
            " Layer (type)                Output Shape              Param #   \n",
            "=================================================================\n",
            " conv1d_1071 (Conv1D)        (None, 19, 16)            1216      \n",
            "                                                                 \n",
            " conv1d_1072 (Conv1D)        (None, 19, 128)           8320      \n",
            "                                                                 \n",
            " flatten_490 (Flatten)       (None, 2432)              0         \n",
            "                                                                 \n",
            " dense_1152 (Dense)          (None, 8)                 19464     \n",
            "                                                                 \n",
            " dense_1153 (Dense)          (None, 2)                 18        \n",
            "                                                                 \n",
            "=================================================================\n",
            "Total params: 29,018\n",
            "Trainable params: 29,018\n",
            "Non-trainable params: 0\n",
            "_________________________________________________________________\n"
          ]
        }
      ]
    },
    {
      "cell_type": "code",
      "source": [
        "epoch_list = [(7, Adam(learning_rate=1e-4)),\n",
        "              (10, Adam(learning_rate=1e-5)),\n",
        "              (10, Adam(learning_rate=1e-6)),\n",
        "              (13, Adam(learning_rate=1e-7)),\n",
        "              ]\n",
        "epochs = 0\n",
        "for elem in epoch_list: epochs += elem[0] \n",
        "\n",
        "val_accuracy = []\n",
        "accuracy= []\n",
        "#Комипилируем и обучаем\n",
        "for epoch_lr, opt in epoch_list:\n",
        "    model_1.compile(optimizer='adam',\n",
        "                    loss='binary_crossentropy',\n",
        "                    metrics=['accuracy'])\n",
        "    history = model_1.fit(x_train,\n",
        "                          y_train,\n",
        "                        epochs=epoch_lr, \n",
        "                        validation_data=(x_test, y_test))\n",
        "    val_accuracy.extend(history.history['val_accuracy'])\n",
        "    accuracy.extend(history.history['accuracy'])\n",
        "    \n",
        "results = {'accuracy':accuracy, '\\nval_accuracy':val_accuracy}\n"
      ],
      "metadata": {
        "colab": {
          "base_uri": "https://localhost:8080/"
        },
        "id": "r27fr_KNZr_5",
        "outputId": "a0d2917d-9c27-4b19-e2e9-afb5e9b34dab"
      },
      "execution_count": null,
      "outputs": [
        {
          "output_type": "stream",
          "name": "stdout",
          "text": [
            "Epoch 1/7\n",
            "568/568 [==============================] - 7s 10ms/step - loss: 0.3525 - accuracy: 0.9086 - val_loss: 0.2991 - val_accuracy: 0.9294\n",
            "Epoch 2/7\n",
            "568/568 [==============================] - 5s 8ms/step - loss: 0.2984 - accuracy: 0.9082 - val_loss: 0.1707 - val_accuracy: 0.9535\n",
            "Epoch 3/7\n",
            "568/568 [==============================] - 5s 9ms/step - loss: 0.2273 - accuracy: 0.9255 - val_loss: 0.1638 - val_accuracy: 0.9501\n",
            "Epoch 4/7\n",
            "568/568 [==============================] - 5s 9ms/step - loss: 0.2529 - accuracy: 0.9192 - val_loss: 0.1941 - val_accuracy: 0.9518\n",
            "Epoch 5/7\n",
            "568/568 [==============================] - 5s 9ms/step - loss: 0.2299 - accuracy: 0.9280 - val_loss: 0.1633 - val_accuracy: 0.9552\n",
            "Epoch 6/7\n",
            "568/568 [==============================] - 4s 8ms/step - loss: 0.2166 - accuracy: 0.9297 - val_loss: 0.1725 - val_accuracy: 0.9449\n",
            "Epoch 7/7\n",
            "568/568 [==============================] - 3s 5ms/step - loss: 0.2139 - accuracy: 0.9304 - val_loss: 0.1769 - val_accuracy: 0.9466\n",
            "Epoch 1/10\n",
            "568/568 [==============================] - 6s 10ms/step - loss: 0.2410 - accuracy: 0.9279 - val_loss: 0.2006 - val_accuracy: 0.9449\n",
            "Epoch 2/10\n",
            "568/568 [==============================] - 5s 8ms/step - loss: 0.2384 - accuracy: 0.9281 - val_loss: 0.1755 - val_accuracy: 0.9415\n",
            "Epoch 3/10\n",
            "568/568 [==============================] - 5s 9ms/step - loss: 0.2192 - accuracy: 0.9279 - val_loss: 0.2102 - val_accuracy: 0.9432\n",
            "Epoch 4/10\n",
            "568/568 [==============================] - 5s 8ms/step - loss: 0.2197 - accuracy: 0.9315 - val_loss: 0.2520 - val_accuracy: 0.9432\n",
            "Epoch 5/10\n",
            "568/568 [==============================] - 3s 5ms/step - loss: 0.3259 - accuracy: 0.9231 - val_loss: 0.2509 - val_accuracy: 0.9432\n",
            "Epoch 6/10\n",
            "568/568 [==============================] - 3s 5ms/step - loss: 0.2583 - accuracy: 0.9266 - val_loss: 0.1795 - val_accuracy: 0.9501\n",
            "Epoch 7/10\n",
            "568/568 [==============================] - 4s 7ms/step - loss: 0.2170 - accuracy: 0.9325 - val_loss: 0.1833 - val_accuracy: 0.9432\n",
            "Epoch 8/10\n",
            "568/568 [==============================] - 3s 5ms/step - loss: 0.2168 - accuracy: 0.9351 - val_loss: 0.1715 - val_accuracy: 0.9432\n",
            "Epoch 9/10\n",
            "568/568 [==============================] - 3s 5ms/step - loss: 0.2340 - accuracy: 0.9302 - val_loss: 0.1790 - val_accuracy: 0.9501\n",
            "Epoch 10/10\n",
            "568/568 [==============================] - 3s 5ms/step - loss: 0.2132 - accuracy: 0.9339 - val_loss: 0.1785 - val_accuracy: 0.9466\n",
            "Epoch 1/10\n",
            "568/568 [==============================] - 5s 6ms/step - loss: 0.2198 - accuracy: 0.9319 - val_loss: 0.1553 - val_accuracy: 0.9552\n",
            "Epoch 2/10\n",
            "568/568 [==============================] - 3s 5ms/step - loss: 0.1971 - accuracy: 0.9358 - val_loss: 0.1797 - val_accuracy: 0.9501\n",
            "Epoch 3/10\n",
            "568/568 [==============================] - 3s 5ms/step - loss: 0.2046 - accuracy: 0.9367 - val_loss: 0.1621 - val_accuracy: 0.9501\n",
            "Epoch 4/10\n",
            "568/568 [==============================] - 3s 5ms/step - loss: 0.1947 - accuracy: 0.9370 - val_loss: 0.1604 - val_accuracy: 0.9535\n",
            "Epoch 5/10\n",
            "568/568 [==============================] - 4s 7ms/step - loss: 0.1788 - accuracy: 0.9405 - val_loss: 0.1794 - val_accuracy: 0.9449\n",
            "Epoch 6/10\n",
            "568/568 [==============================] - 5s 8ms/step - loss: 0.1858 - accuracy: 0.9392 - val_loss: 0.1571 - val_accuracy: 0.9484\n",
            "Epoch 7/10\n",
            "568/568 [==============================] - 6s 10ms/step - loss: 0.2658 - accuracy: 0.9228 - val_loss: 0.2222 - val_accuracy: 0.9432\n",
            "Epoch 8/10\n",
            "568/568 [==============================] - 6s 10ms/step - loss: 0.2369 - accuracy: 0.9312 - val_loss: 0.2085 - val_accuracy: 0.9484\n",
            "Epoch 9/10\n",
            "568/568 [==============================] - 4s 7ms/step - loss: 0.2324 - accuracy: 0.9352 - val_loss: 0.1738 - val_accuracy: 0.9552\n",
            "Epoch 10/10\n",
            "568/568 [==============================] - 3s 5ms/step - loss: 0.2192 - accuracy: 0.9382 - val_loss: 0.1975 - val_accuracy: 0.9484\n",
            "Epoch 1/13\n",
            "568/568 [==============================] - 5s 8ms/step - loss: 0.2108 - accuracy: 0.9367 - val_loss: 0.1828 - val_accuracy: 0.9501\n",
            "Epoch 2/13\n",
            "568/568 [==============================] - 5s 9ms/step - loss: 0.1922 - accuracy: 0.9394 - val_loss: 0.1804 - val_accuracy: 0.9466\n",
            "Epoch 3/13\n",
            "568/568 [==============================] - 6s 11ms/step - loss: 0.2092 - accuracy: 0.9386 - val_loss: 0.1945 - val_accuracy: 0.9415\n",
            "Epoch 4/13\n",
            "568/568 [==============================] - 6s 10ms/step - loss: 0.1984 - accuracy: 0.9394 - val_loss: 0.1711 - val_accuracy: 0.9466\n",
            "Epoch 5/13\n",
            "568/568 [==============================] - 6s 11ms/step - loss: 0.2078 - accuracy: 0.9374 - val_loss: 0.2064 - val_accuracy: 0.9329\n",
            "Epoch 6/13\n",
            "568/568 [==============================] - 6s 10ms/step - loss: 0.2003 - accuracy: 0.9397 - val_loss: 0.2250 - val_accuracy: 0.9415\n",
            "Epoch 7/13\n",
            "568/568 [==============================] - 5s 8ms/step - loss: 0.2079 - accuracy: 0.9419 - val_loss: 0.2257 - val_accuracy: 0.9432\n",
            "Epoch 8/13\n",
            "568/568 [==============================] - 5s 8ms/step - loss: 0.1856 - accuracy: 0.9440 - val_loss: 0.1897 - val_accuracy: 0.9432\n",
            "Epoch 9/13\n",
            "568/568 [==============================] - 3s 5ms/step - loss: 0.2010 - accuracy: 0.9467 - val_loss: 0.2106 - val_accuracy: 0.9363\n",
            "Epoch 10/13\n",
            "568/568 [==============================] - 4s 7ms/step - loss: 0.1743 - accuracy: 0.9479 - val_loss: 0.1947 - val_accuracy: 0.9449\n",
            "Epoch 11/13\n",
            "568/568 [==============================] - 4s 7ms/step - loss: 0.1619 - accuracy: 0.9488 - val_loss: 0.1936 - val_accuracy: 0.9380\n",
            "Epoch 12/13\n",
            "568/568 [==============================] - 3s 5ms/step - loss: 0.2171 - accuracy: 0.9401 - val_loss: 0.2703 - val_accuracy: 0.9466\n",
            "Epoch 13/13\n",
            "568/568 [==============================] - 3s 6ms/step - loss: 0.2395 - accuracy: 0.9401 - val_loss: 0.2382 - val_accuracy: 0.9398\n"
          ]
        }
      ]
    },
    {
      "cell_type": "code",
      "source": [
        "fig, (ax1, ax2) = plt.subplots(2, 1, figsize=(10, 6), sharex=True)\n",
        "ax1.set_title(f'График прогресса обучения')\n",
        "ax1.plot(history.history['loss'], label='Ошибка на обучающем наборе')\n",
        "ax1.plot(history.history['val_loss'], label='Ошибка на проверочном наборе')\n",
        "ax1.set_ylabel('Средняя ошибка')\n",
        "ax1.legend()\n",
        "\n",
        "ax2.plot(history.history['accuracy'], label='Точность на обучающем наборе')\n",
        "ax2.plot(history.history['val_accuracy'], label='Точность на проверочном наборе')\n",
        "ax2.set_ylabel('Точность классификации')\n",
        "ax2.legend()\n",
        "\n",
        "# Указание показывать только целые метки шкалы оси x\n",
        "fig.gca().xaxis.get_major_locator().set_params(integer=True)\n",
        "plt.xlabel('Эпоха обучения')\n",
        "plt.show()"
      ],
      "metadata": {
        "colab": {
          "base_uri": "https://localhost:8080/",
          "height": 408
        },
        "id": "3vNVLsrJafli",
        "outputId": "6262bcbb-dd00-4455-8de6-ada4c704d09e"
      },
      "execution_count": null,
      "outputs": [
        {
          "output_type": "display_data",
          "data": {
            "text/plain": [
              "<Figure size 720x432 with 2 Axes>"
            ],
            "image/png": "[encoded data removed]"
          },
          "metadata": {
            "needs_background": "light"
          }
        }
      ]
    },
    {
      "cell_type": "code",
      "source": [
        "# Вычисление предсказания сети\n",
        "y_pred = model_1.predict(x_test)\n",
        "# Построение матрицы ошибок\n",
        "cm = confusion_matrix(np.argmax(y_test, axis=1),\n",
        "                        np.argmax(y_pred, axis=1),\n",
        "                        normalize='true')\n",
        "# Округление значений матрицы ошибок\n",
        "cm = np.around(cm, 3)\n",
        "\n",
        "# Задание размера шрифта по умолчанию для текста в клетках матрицы\n",
        "old_font_size = rcParams['font.size']\n",
        "rcParams['font.size'] = 30\n",
        "\n",
        "# Отрисовка матрицы ошибок\n",
        "fig, ax = plt.subplots(figsize=(8,8))\n",
        "ax.set_title(f'Нейросеть: матрица ошибок нормализованная', fontsize=18)\n",
        "disp = ConfusionMatrixDisplay(confusion_matrix=cm, display_labels=CLASS_LABELS)\n",
        "disp.plot(ax=ax, cmap='cividis')\n",
        "ax.images[-1].colorbar.remove()       # Стирание ненужной цветовой шкалы\n",
        "plt.xticks(fontsize=12)\n",
        "plt.xlabel('Предсказанные классы', fontsize=16)\n",
        "plt.yticks(fontsize=12)\n",
        "plt.ylabel('Верные классы', fontsize=16)\n",
        "plt.show()  "
      ],
      "metadata": {
        "colab": {
          "base_uri": "https://localhost:8080/",
          "height": 447
        },
        "id": "98k1Qw-FamWl",
        "outputId": "9155802d-b3cb-4463-837f-630426ecd411"
      },
      "execution_count": null,
      "outputs": [
        {
          "output_type": "display_data",
          "data": {
            "text/plain": [
              "<Figure size 576x576 with 1 Axes>"
            ],
            "image/png": "[encoded data removed]"
          },
          "metadata": {
            "needs_background": "light"
          }
        }
      ]
    }
  ]
}